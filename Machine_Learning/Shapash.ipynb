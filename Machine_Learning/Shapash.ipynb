{
 "cells": [
  {
   "cell_type": "markdown",
   "metadata": {},
   "source": [
    "#### Initially we need to first import the basic libraries and import the data frame.\n",
    "#### Shapash willbe connected after we fit the training data to the model"
   ]
  },
  {
   "cell_type": "code",
   "execution_count": 1,
   "metadata": {},
   "outputs": [],
   "source": [
    "import pandas as pd\n",
    "import numpy as np\n",
    "import seaborn as sns"
   ]
  },
  {
   "cell_type": "code",
   "execution_count": 2,
   "metadata": {
    "scrolled": true
   },
   "outputs": [
    {
     "data": {
      "text/html": [
       "<div>\n",
       "<style scoped>\n",
       "    .dataframe tbody tr th:only-of-type {\n",
       "        vertical-align: middle;\n",
       "    }\n",
       "\n",
       "    .dataframe tbody tr th {\n",
       "        vertical-align: top;\n",
       "    }\n",
       "\n",
       "    .dataframe thead th {\n",
       "        text-align: right;\n",
       "    }\n",
       "</style>\n",
       "<table border=\"1\" class=\"dataframe\">\n",
       "  <thead>\n",
       "    <tr style=\"text-align: right;\">\n",
       "      <th></th>\n",
       "      <th>Serial No.</th>\n",
       "      <th>GRE Score</th>\n",
       "      <th>TOEFL Score</th>\n",
       "      <th>University Rating</th>\n",
       "      <th>SOP</th>\n",
       "      <th>LOR</th>\n",
       "      <th>CGPA</th>\n",
       "      <th>Research</th>\n",
       "      <th>Chance of Admit</th>\n",
       "    </tr>\n",
       "  </thead>\n",
       "  <tbody>\n",
       "    <tr>\n",
       "      <th>0</th>\n",
       "      <td>1</td>\n",
       "      <td>337</td>\n",
       "      <td>118</td>\n",
       "      <td>4</td>\n",
       "      <td>4.5</td>\n",
       "      <td>4.5</td>\n",
       "      <td>9.65</td>\n",
       "      <td>1</td>\n",
       "      <td>0.92</td>\n",
       "    </tr>\n",
       "    <tr>\n",
       "      <th>1</th>\n",
       "      <td>2</td>\n",
       "      <td>324</td>\n",
       "      <td>107</td>\n",
       "      <td>4</td>\n",
       "      <td>4.0</td>\n",
       "      <td>4.5</td>\n",
       "      <td>8.87</td>\n",
       "      <td>1</td>\n",
       "      <td>0.76</td>\n",
       "    </tr>\n",
       "    <tr>\n",
       "      <th>2</th>\n",
       "      <td>3</td>\n",
       "      <td>316</td>\n",
       "      <td>104</td>\n",
       "      <td>3</td>\n",
       "      <td>3.0</td>\n",
       "      <td>3.5</td>\n",
       "      <td>8.00</td>\n",
       "      <td>1</td>\n",
       "      <td>0.72</td>\n",
       "    </tr>\n",
       "    <tr>\n",
       "      <th>3</th>\n",
       "      <td>4</td>\n",
       "      <td>322</td>\n",
       "      <td>110</td>\n",
       "      <td>3</td>\n",
       "      <td>3.5</td>\n",
       "      <td>2.5</td>\n",
       "      <td>8.67</td>\n",
       "      <td>1</td>\n",
       "      <td>0.80</td>\n",
       "    </tr>\n",
       "    <tr>\n",
       "      <th>4</th>\n",
       "      <td>5</td>\n",
       "      <td>314</td>\n",
       "      <td>103</td>\n",
       "      <td>2</td>\n",
       "      <td>2.0</td>\n",
       "      <td>3.0</td>\n",
       "      <td>8.21</td>\n",
       "      <td>0</td>\n",
       "      <td>0.65</td>\n",
       "    </tr>\n",
       "  </tbody>\n",
       "</table>\n",
       "</div>"
      ],
      "text/plain": [
       "   Serial No.  GRE Score  TOEFL Score  University Rating  SOP  LOR   CGPA  \\\n",
       "0           1        337          118                  4  4.5   4.5  9.65   \n",
       "1           2        324          107                  4  4.0   4.5  8.87   \n",
       "2           3        316          104                  3  3.0   3.5  8.00   \n",
       "3           4        322          110                  3  3.5   2.5  8.67   \n",
       "4           5        314          103                  2  2.0   3.0  8.21   \n",
       "\n",
       "   Research  Chance of Admit  \n",
       "0         1             0.92  \n",
       "1         1             0.76  \n",
       "2         1             0.72  \n",
       "3         1             0.80  \n",
       "4         0             0.65  "
      ]
     },
     "execution_count": 2,
     "metadata": {},
     "output_type": "execute_result"
    }
   ],
   "source": [
    "df = pd.read_csv(\"/Users/varun/Desktop/My Files/Education/Data_Files/Admission_Predict.csv\")\n",
    "df.head()"
   ]
  },
  {
   "cell_type": "code",
   "execution_count": 3,
   "metadata": {},
   "outputs": [
    {
     "data": {
      "text/plain": [
       "<AxesSubplot:>"
      ]
     },
     "execution_count": 3,
     "metadata": {},
     "output_type": "execute_result"
    },
    {
     "data": {
      "image/png": "[encoded data removed]",
      "text/plain": [
       "<Figure size 432x288 with 1 Axes>"
      ]
     },
     "metadata": {
      "needs_background": "light"
     },
     "output_type": "display_data"
    }
   ],
   "source": [
    "sns.heatmap(df.isnull(), yticklabels = False, cbar = False, cmap = 'viridis')"
   ]
  },
  {
   "cell_type": "code",
   "execution_count": 4,
   "metadata": {},
   "outputs": [],
   "source": [
    "x = df.iloc[:,[1,2,3,4,5,6,7]]\n",
    "y = df['Chance of Admit']"
   ]
  },
  {
   "cell_type": "code",
   "execution_count": 5,
   "metadata": {},
   "outputs": [],
   "source": [
    "from sklearn.model_selection import train_test_split"
   ]
  },
  {
   "cell_type": "code",
   "execution_count": 6,
   "metadata": {},
   "outputs": [],
   "source": [
    "x_train, x_test, y_train, y_test = train_test_split(x,y,test_size=0.2,random_state = 32)"
   ]
  },
  {
   "cell_type": "code",
   "execution_count": 7,
   "metadata": {},
   "outputs": [],
   "source": [
    "from sklearn.ensemble import RandomForestRegressor\n",
    "from sklearn.preprocessing import StandardScaler"
   ]
  },
  {
   "cell_type": "code",
   "execution_count": 8,
   "metadata": {},
   "outputs": [],
   "source": [
    "regressor = RandomForestRegressor(n_estimators = 200).fit(x_train,y_train)"
   ]
  },
  {
   "cell_type": "code",
   "execution_count": 9,
   "metadata": {},
   "outputs": [],
   "source": [
    "y_pred = pd.DataFrame(regressor.predict(x_test), columns=['pred'], index=x_test.index)"
   ]
  },
  {
   "cell_type": "markdown",
   "metadata": {},
   "source": [
    "#### Shapash will come in to picture now"
   ]
  },
  {
   "cell_type": "markdown",
   "metadata": {},
   "source": [
    "#### This is the main library which builds the local webpage to display all the EDA"
   ]
  },
  {
   "cell_type": "code",
   "execution_count": 10,
   "metadata": {},
   "outputs": [],
   "source": [
    "from shapash.explainer.smart_explainer import SmartExplainer"
   ]
  },
  {
   "cell_type": "code",
   "execution_count": 11,
   "metadata": {},
   "outputs": [
    {
     "name": "stdout",
     "output_type": "stream",
     "text": [
      "Backend: Shap TreeExplainer\n"
     ]
    }
   ],
   "source": [
    "xpl = SmartExplainer()\n",
    "xpl.compile(x = x_test,\n",
    "           model = regressor,\n",
    "           y_pred=y_pred)"
   ]
  },
  {
   "cell_type": "code",
   "execution_count": 12,
   "metadata": {},
   "outputs": [
    {
     "data": {
      "text/plain": [
       "<shapash.explainer.smart_explainer.SmartExplainer at 0x7ffde4c96dc0>"
      ]
     },
     "execution_count": 12,
     "metadata": {},
     "output_type": "execute_result"
    }
   ],
   "source": [
    "xpl"
   ]
  },
  {
   "cell_type": "markdown",
   "metadata": {},
   "source": [
    "#### If we don't want to distribute the data W.R.T maximum contributing features, no need to mention the max_contrib option"
   ]
  },
  {
   "cell_type": "code",
   "execution_count": 13,
   "metadata": {},
   "outputs": [],
   "source": [
    "# app = xpl.run_app(title_story = 'Admissions Predict')"
   ]
  },
  {
   "cell_type": "code",
   "execution_count": 14,
   "metadata": {},
   "outputs": [
    {
     "name": "stderr",
     "output_type": "stream",
     "text": [
      "/opt/anaconda3/envs/Conda_Ml/lib/python3.8/site-packages/pandas/core/frame.py:1485: FutureWarning:\n",
      "\n",
      "Using short name for 'orient' is deprecated. Only the options: ('dict', list, 'series', 'split', 'records', 'index') will be used in a future version. Use one of the above to silence this warning.\n",
      "\n",
      "INFO:root:Your Shapash application run on http://Varuns-MacBook-Air.local:8050/\n"
     ]
    },
    {
     "name": "stdout",
     "output_type": "stream",
     "text": [
      "Dash is running on http://0.0.0.0:8050/\n",
      "\n"
     ]
    },
    {
     "name": "stderr",
     "output_type": "stream",
     "text": [
      "INFO:root:Use the method .kill() to down your app.\n",
      "INFO:shapash.webapp.smart_app:Dash is running on http://0.0.0.0:8050/\n",
      "\n"
     ]
    },
    {
     "name": "stdout",
     "output_type": "stream",
     "text": [
      " * Serving Flask app 'shapash.webapp.smart_app' (lazy loading)\n",
      " * Environment: production\n",
      "\u001b[31m   WARNING: This is a development server. Do not use it in a production deployment.\u001b[0m\n",
      "\u001b[2m   Use a production WSGI server instead.\u001b[0m\n",
      " * Debug mode: off\n"
     ]
    },
    {
     "name": "stderr",
     "output_type": "stream",
     "text": [
      "WARNING:werkzeug: * Running on all addresses.\n",
      "   WARNING: This is a development server. Do not use it in a production deployment.\n",
      "INFO:werkzeug: * Running on http://192.168.43.220:8050/ (Press CTRL+C to quit)\n",
      "INFO:werkzeug:127.0.0.1 - - [12/Jul/2021 12:11:49] \"GET / HTTP/1.1\" 200 -\n",
      "INFO:werkzeug:127.0.0.1 - - [12/Jul/2021 12:11:49] \"\u001b[36mGET /assets/style.css?m=1626070235.8458648 HTTP/1.1\u001b[0m\" 304 -\n",
      "INFO:werkzeug:127.0.0.1 - - [12/Jul/2021 12:11:49] \"\u001b[36mGET /assets/main.js?m=1626070235.843873 HTTP/1.1\u001b[0m\" 304 -\n",
      "INFO:werkzeug:127.0.0.1 - - [12/Jul/2021 12:11:49] \"\u001b[36mGET /assets/material-icons.css?m=1626070235.8439984 HTTP/1.1\u001b[0m\" 304 -\n",
      "INFO:werkzeug:127.0.0.1 - - [12/Jul/2021 12:11:49] \"\u001b[36mGET /assets/jquery.js?m=1626070235.8437386 HTTP/1.1\u001b[0m\" 304 -\n",
      "INFO:werkzeug:127.0.0.1 - - [12/Jul/2021 12:11:49] \"\u001b[36mGET /assets/favicon.ico?m=1626070235.8431795 HTTP/1.1\u001b[0m\" 304 -\n",
      "INFO:werkzeug:127.0.0.1 - - [12/Jul/2021 12:11:49] \"\u001b[36mGET /assets/shapash-fond-fonce.png HTTP/1.1\u001b[0m\" 304 -\n",
      "INFO:werkzeug:127.0.0.1 - - [12/Jul/2021 12:11:49] \"\u001b[36mGET /assets/reload.png HTTP/1.1\u001b[0m\" 304 -\n",
      "INFO:werkzeug:127.0.0.1 - - [12/Jul/2021 12:11:49] \"\u001b[36mGET /assets/settings.png HTTP/1.1\u001b[0m\" 304 -\n",
      "INFO:werkzeug:127.0.0.1 - - [12/Jul/2021 12:11:49] \"\u001b[36mGET /assets/material-icons.css?m=1626070235.8439984 HTTP/1.1\u001b[0m\" 304 -\n",
      "INFO:werkzeug:127.0.0.1 - - [12/Jul/2021 12:11:49] \"\u001b[36mGET /assets/style.css?m=1626070235.8458648 HTTP/1.1\u001b[0m\" 304 -\n",
      "INFO:werkzeug:127.0.0.1 - - [12/Jul/2021 12:11:49] \"\u001b[36mGET /assets/main.js?m=1626070235.843873 HTTP/1.1\u001b[0m\" 304 -\n",
      "INFO:werkzeug:127.0.0.1 - - [12/Jul/2021 12:11:49] \"\u001b[36mGET /assets/jquery.js?m=1626070235.8437386 HTTP/1.1\u001b[0m\" 304 -\n",
      "INFO:werkzeug:127.0.0.1 - - [12/Jul/2021 12:11:49] \"GET /_dash-dependencies HTTP/1.1\" 200 -\n",
      "INFO:werkzeug:127.0.0.1 - - [12/Jul/2021 12:11:49] \"GET /_dash-layout HTTP/1.1\" 200 -\n",
      "INFO:werkzeug:127.0.0.1 - - [12/Jul/2021 12:11:49] \"\u001b[36mGET /assets/shapash-fond-fonce.png HTTP/1.1\u001b[0m\" 304 -\n",
      "INFO:werkzeug:127.0.0.1 - - [12/Jul/2021 12:11:49] \"\u001b[36mGET /assets/settings.png HTTP/1.1\u001b[0m\" 304 -\n",
      "INFO:werkzeug:127.0.0.1 - - [12/Jul/2021 12:11:49] \"\u001b[36mGET /assets/reload.png HTTP/1.1\u001b[0m\" 304 -\n",
      "INFO:werkzeug:127.0.0.1 - - [12/Jul/2021 12:11:49] \"POST /_dash-update-component HTTP/1.1\" 200 -\n",
      "INFO:werkzeug:127.0.0.1 - - [12/Jul/2021 12:11:49] \"POST /_dash-update-component HTTP/1.1\" 200 -\n",
      "INFO:werkzeug:127.0.0.1 - - [12/Jul/2021 12:11:49] \"POST /_dash-update-component HTTP/1.1\" 200 -\n",
      "INFO:werkzeug:127.0.0.1 - - [12/Jul/2021 12:11:49] \"POST /_dash-update-component HTTP/1.1\" 200 -\n",
      "INFO:werkzeug:127.0.0.1 - - [12/Jul/2021 12:11:49] \"POST /_dash-update-component HTTP/1.1\" 200 -\n",
      "INFO:werkzeug:127.0.0.1 - - [12/Jul/2021 12:11:49] \"POST /_dash-update-component HTTP/1.1\" 200 -\n",
      "INFO:werkzeug:127.0.0.1 - - [12/Jul/2021 12:11:49] \"POST /_dash-update-component HTTP/1.1\" 200 -\n",
      "INFO:werkzeug:127.0.0.1 - - [12/Jul/2021 12:11:49] \"POST /_dash-update-component HTTP/1.1\" 200 -\n",
      "INFO:werkzeug:127.0.0.1 - - [12/Jul/2021 12:11:49] \"POST /_dash-update-component HTTP/1.1\" 200 -\n",
      "INFO:werkzeug:127.0.0.1 - - [12/Jul/2021 12:11:49] \"POST /_dash-update-component HTTP/1.1\" 200 -\n",
      "INFO:werkzeug:127.0.0.1 - - [12/Jul/2021 12:11:49] \"POST /_dash-update-component HTTP/1.1\" 200 -\n",
      "/opt/anaconda3/envs/Conda_Ml/lib/python3.8/site-packages/pandas/core/frame.py:1485: FutureWarning:\n",
      "\n",
      "Using short name for 'orient' is deprecated. Only the options: ('dict', list, 'series', 'split', 'records', 'index') will be used in a future version. Use one of the above to silence this warning.\n",
      "\n",
      "INFO:werkzeug:127.0.0.1 - - [12/Jul/2021 12:11:49] \"POST /_dash-update-component HTTP/1.1\" 200 -\n",
      "INFO:werkzeug:127.0.0.1 - - [12/Jul/2021 12:11:49] \"POST /_dash-update-component HTTP/1.1\" 200 -\n",
      "INFO:werkzeug:127.0.0.1 - - [12/Jul/2021 12:11:49] \"POST /_dash-update-component HTTP/1.1\" 200 -\n",
      "INFO:werkzeug:127.0.0.1 - - [12/Jul/2021 12:11:49] \"POST /_dash-update-component HTTP/1.1\" 200 -\n",
      "INFO:werkzeug:127.0.0.1 - - [12/Jul/2021 12:11:49] \"POST /_dash-update-component HTTP/1.1\" 200 -\n",
      "INFO:werkzeug:127.0.0.1 - - [12/Jul/2021 12:11:49] \"POST /_dash-update-component HTTP/1.1\" 200 -\n",
      "INFO:werkzeug:127.0.0.1 - - [12/Jul/2021 12:11:49] \"POST /_dash-update-component HTTP/1.1\" 200 -\n",
      "INFO:werkzeug:127.0.0.1 - - [12/Jul/2021 12:11:50] \"POST /_dash-update-component HTTP/1.1\" 200 -\n",
      "INFO:werkzeug:127.0.0.1 - - [12/Jul/2021 12:12:06] \"GET / HTTP/1.1\" 200 -\n",
      "INFO:werkzeug:127.0.0.1 - - [12/Jul/2021 12:12:06] \"\u001b[36mGET /assets/material-icons.css?m=1626070235.8439984 HTTP/1.1\u001b[0m\" 304 -\n",
      "INFO:werkzeug:127.0.0.1 - - [12/Jul/2021 12:12:06] \"\u001b[36mGET /assets/main.js?m=1626070235.843873 HTTP/1.1\u001b[0m\" 304 -\n",
      "INFO:werkzeug:127.0.0.1 - - [12/Jul/2021 12:12:06] \"\u001b[36mGET /assets/favicon.ico?m=1626070235.8431795 HTTP/1.1\u001b[0m\" 304 -\n",
      "INFO:werkzeug:127.0.0.1 - - [12/Jul/2021 12:12:06] \"\u001b[36mGET /assets/jquery.js?m=1626070235.8437386 HTTP/1.1\u001b[0m\" 304 -\n",
      "INFO:werkzeug:127.0.0.1 - - [12/Jul/2021 12:12:06] \"\u001b[36mGET /assets/style.css?m=1626070235.8458648 HTTP/1.1\u001b[0m\" 304 -\n",
      "INFO:werkzeug:127.0.0.1 - - [12/Jul/2021 12:12:06] \"\u001b[36mGET /assets/shapash-fond-fonce.png HTTP/1.1\u001b[0m\" 304 -\n",
      "INFO:werkzeug:127.0.0.1 - - [12/Jul/2021 12:12:06] \"\u001b[36mGET /assets/reload.png HTTP/1.1\u001b[0m\" 304 -\n",
      "INFO:werkzeug:127.0.0.1 - - [12/Jul/2021 12:12:06] \"\u001b[36mGET /assets/settings.png HTTP/1.1\u001b[0m\" 304 -\n",
      "INFO:werkzeug:127.0.0.1 - - [12/Jul/2021 12:12:06] \"GET /_dash-dependencies HTTP/1.1\" 200 -\n",
      "INFO:werkzeug:127.0.0.1 - - [12/Jul/2021 12:12:06] \"GET /_dash-layout HTTP/1.1\" 200 -\n",
      "INFO:werkzeug:127.0.0.1 - - [12/Jul/2021 12:12:06] \"POST /_dash-update-component HTTP/1.1\" 200 -\n",
      "INFO:werkzeug:127.0.0.1 - - [12/Jul/2021 12:12:06] \"POST /_dash-update-component HTTP/1.1\" 200 -\n",
      "INFO:werkzeug:127.0.0.1 - - [12/Jul/2021 12:12:06] \"POST /_dash-update-component HTTP/1.1\" 200 -\n",
      "INFO:werkzeug:127.0.0.1 - - [12/Jul/2021 12:12:06] \"POST /_dash-update-component HTTP/1.1\" 200 -\n",
      "INFO:werkzeug:127.0.0.1 - - [12/Jul/2021 12:12:06] \"POST /_dash-update-component HTTP/1.1\" 200 -\n",
      "INFO:werkzeug:127.0.0.1 - - [12/Jul/2021 12:12:06] \"POST /_dash-update-component HTTP/1.1\" 200 -\n",
      "INFO:werkzeug:127.0.0.1 - - [12/Jul/2021 12:12:06] \"POST /_dash-update-component HTTP/1.1\" 200 -\n",
      "INFO:werkzeug:127.0.0.1 - - [12/Jul/2021 12:12:06] \"POST /_dash-update-component HTTP/1.1\" 200 -\n",
      "INFO:werkzeug:127.0.0.1 - - [12/Jul/2021 12:12:06] \"POST /_dash-update-component HTTP/1.1\" 200 -\n",
      "INFO:werkzeug:127.0.0.1 - - [12/Jul/2021 12:12:06] \"POST /_dash-update-component HTTP/1.1\" 200 -\n",
      "INFO:werkzeug:127.0.0.1 - - [12/Jul/2021 12:12:06] \"POST /_dash-update-component HTTP/1.1\" 200 -\n",
      "/opt/anaconda3/envs/Conda_Ml/lib/python3.8/site-packages/pandas/core/frame.py:1485: FutureWarning:\n",
      "\n",
      "Using short name for 'orient' is deprecated. Only the options: ('dict', list, 'series', 'split', 'records', 'index') will be used in a future version. Use one of the above to silence this warning.\n",
      "\n",
      "INFO:werkzeug:127.0.0.1 - - [12/Jul/2021 12:12:06] \"POST /_dash-update-component HTTP/1.1\" 200 -\n",
      "INFO:werkzeug:127.0.0.1 - - [12/Jul/2021 12:12:06] \"POST /_dash-update-component HTTP/1.1\" 200 -\n",
      "INFO:werkzeug:127.0.0.1 - - [12/Jul/2021 12:12:07] \"POST /_dash-update-component HTTP/1.1\" 200 -\n",
      "INFO:werkzeug:127.0.0.1 - - [12/Jul/2021 12:12:07] \"POST /_dash-update-component HTTP/1.1\" 200 -\n",
      "INFO:werkzeug:127.0.0.1 - - [12/Jul/2021 12:12:07] \"POST /_dash-update-component HTTP/1.1\" 200 -\n",
      "INFO:werkzeug:127.0.0.1 - - [12/Jul/2021 12:12:07] \"POST /_dash-update-component HTTP/1.1\" 200 -\n",
      "INFO:werkzeug:127.0.0.1 - - [12/Jul/2021 12:12:07] \"POST /_dash-update-component HTTP/1.1\" 200 -\n",
      "INFO:werkzeug:127.0.0.1 - - [12/Jul/2021 12:12:07] \"POST /_dash-update-component HTTP/1.1\" 200 -\n",
      "INFO:werkzeug:127.0.0.1 - - [12/Jul/2021 12:12:19] \"POST /_dash-update-component HTTP/1.1\" 200 -\n",
      "INFO:werkzeug:127.0.0.1 - - [12/Jul/2021 12:12:19] \"POST /_dash-update-component HTTP/1.1\" 200 -\n"
     ]
    }
   ],
   "source": [
    "xpl.to_pandas(max_contrib=3).head(10) # max_contrib means it will display the top 3 features\n",
    "app1 = xpl.run_app(title_story = 'Max Contrib')"
   ]
  },
  {
   "cell_type": "code",
   "execution_count": 15,
   "metadata": {},
   "outputs": [
    {
     "ename": "AttributeError",
     "evalue": "'SmartExplainer' object has no attribute 'to_smartprecitor'",
     "output_type": "error",
     "traceback": [
      "\u001b[0;31m---------------------------------------------------------------------------\u001b[0m",
      "\u001b[0;31mAttributeError\u001b[0m                            Traceback (most recent call last)",
      "\u001b[0;32m<ipython-input-15-fc1beb4c1091>\u001b[0m in \u001b[0;36m<module>\u001b[0;34m\u001b[0m\n\u001b[0;32m----> 1\u001b[0;31m \u001b[0mpredictor\u001b[0m \u001b[0;34m=\u001b[0m \u001b[0mxpl\u001b[0m\u001b[0;34m.\u001b[0m\u001b[0mto_smartprecitor\u001b[0m\u001b[0;34m(\u001b[0m\u001b[0;34m)\u001b[0m\u001b[0;34m\u001b[0m\u001b[0;34m\u001b[0m\u001b[0m\n\u001b[0m\u001b[1;32m      2\u001b[0m \u001b[0mpredictor\u001b[0m\u001b[0;34m.\u001b[0m\u001b[0msave\u001b[0m\u001b[0;34m(\u001b[0m\u001b[0;34m'/Users/varun/Desktop/My Files/Education/Shapash.pkl'\u001b[0m\u001b[0;34m)\u001b[0m\u001b[0;34m\u001b[0m\u001b[0;34m\u001b[0m\u001b[0m\n",
      "\u001b[0;31mAttributeError\u001b[0m: 'SmartExplainer' object has no attribute 'to_smartprecitor'"
     ]
    }
   ],
   "source": [
    "predictor = xpl.to_smartprecitor()\n",
    "predictor.save('/Users/varun/Desktop/My Files/Education/Shapash.pkl')"
   ]
  },
  {
   "cell_type": "code",
   "execution_count": null,
   "metadata": {},
   "outputs": [],
   "source": []
  },
  {
   "cell_type": "code",
   "execution_count": null,
   "metadata": {},
   "outputs": [],
   "source": []
  }
 ],
 "metadata": {
  "kernelspec": {
   "display_name": "Python 3",
   "language": "python",
   "name": "python3"
  },
  "language_info": {
   "codemirror_mode": {
    "name": "ipython",
    "version": 3
   },
   "file_extension": ".py",
   "mimetype": "text/x-python",
   "name": "python",
   "nbconvert_exporter": "python",
   "pygments_lexer": "ipython3",
   "version": "3.8.5"
  }
 },
 "nbformat": 4,
 "nbformat_minor": 4
}
