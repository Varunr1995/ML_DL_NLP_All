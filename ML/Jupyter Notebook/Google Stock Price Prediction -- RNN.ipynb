{
 "cells": [
  {
   "cell_type": "code",
   "execution_count": 1,
   "metadata": {},
   "outputs": [],
   "source": [
    "import pandas as pd\n",
    "import numpy as np\n",
    "import seaborn as sns\n",
    "import matplotlib.pyplot as plt\n",
    "%matplotlib inline"
   ]
  },
  {
   "cell_type": "code",
   "execution_count": 2,
   "metadata": {},
   "outputs": [
    {
     "name": "stderr",
     "output_type": "stream",
     "text": [
      "C:\\Users\\varun\\anaconda3\\envs\\condaenv\\lib\\site-packages\\tensorflow\\python\\framework\\dtypes.py:526: FutureWarning: Passing (type, 1) or '1type' as a synonym of type is deprecated; in a future version of numpy, it will be understood as (type, (1,)) / '(1,)type'.\n",
      "  _np_qint8 = np.dtype([(\"qint8\", np.int8, 1)])\n",
      "C:\\Users\\varun\\anaconda3\\envs\\condaenv\\lib\\site-packages\\tensorflow\\python\\framework\\dtypes.py:527: FutureWarning: Passing (type, 1) or '1type' as a synonym of type is deprecated; in a future version of numpy, it will be understood as (type, (1,)) / '(1,)type'.\n",
      "  _np_quint8 = np.dtype([(\"quint8\", np.uint8, 1)])\n",
      "C:\\Users\\varun\\anaconda3\\envs\\condaenv\\lib\\site-packages\\tensorflow\\python\\framework\\dtypes.py:528: FutureWarning: Passing (type, 1) or '1type' as a synonym of type is deprecated; in a future version of numpy, it will be understood as (type, (1,)) / '(1,)type'.\n",
      "  _np_qint16 = np.dtype([(\"qint16\", np.int16, 1)])\n",
      "C:\\Users\\varun\\anaconda3\\envs\\condaenv\\lib\\site-packages\\tensorflow\\python\\framework\\dtypes.py:529: FutureWarning: Passing (type, 1) or '1type' as a synonym of type is deprecated; in a future version of numpy, it will be understood as (type, (1,)) / '(1,)type'.\n",
      "  _np_quint16 = np.dtype([(\"quint16\", np.uint16, 1)])\n",
      "C:\\Users\\varun\\anaconda3\\envs\\condaenv\\lib\\site-packages\\tensorflow\\python\\framework\\dtypes.py:530: FutureWarning: Passing (type, 1) or '1type' as a synonym of type is deprecated; in a future version of numpy, it will be understood as (type, (1,)) / '(1,)type'.\n",
      "  _np_qint32 = np.dtype([(\"qint32\", np.int32, 1)])\n",
      "C:\\Users\\varun\\anaconda3\\envs\\condaenv\\lib\\site-packages\\tensorflow\\python\\framework\\dtypes.py:535: FutureWarning: Passing (type, 1) or '1type' as a synonym of type is deprecated; in a future version of numpy, it will be understood as (type, (1,)) / '(1,)type'.\n",
      "  np_resource = np.dtype([(\"resource\", np.ubyte, 1)])\n"
     ]
    }
   ],
   "source": [
    "import tensorflow as tf"
   ]
  },
  {
   "cell_type": "code",
   "execution_count": 3,
   "metadata": {},
   "outputs": [
    {
     "data": {
      "text/html": [
       "<div>\n",
       "<style scoped>\n",
       "    .dataframe tbody tr th:only-of-type {\n",
       "        vertical-align: middle;\n",
       "    }\n",
       "\n",
       "    .dataframe tbody tr th {\n",
       "        vertical-align: top;\n",
       "    }\n",
       "\n",
       "    .dataframe thead th {\n",
       "        text-align: right;\n",
       "    }\n",
       "</style>\n",
       "<table border=\"1\" class=\"dataframe\">\n",
       "  <thead>\n",
       "    <tr style=\"text-align: right;\">\n",
       "      <th></th>\n",
       "      <th>Date</th>\n",
       "      <th>Open</th>\n",
       "      <th>High</th>\n",
       "      <th>Low</th>\n",
       "      <th>Close</th>\n",
       "      <th>Volume</th>\n",
       "    </tr>\n",
       "  </thead>\n",
       "  <tbody>\n",
       "    <tr>\n",
       "      <th>0</th>\n",
       "      <td>1/3/2012</td>\n",
       "      <td>325.25</td>\n",
       "      <td>332.83</td>\n",
       "      <td>324.97</td>\n",
       "      <td>663.59</td>\n",
       "      <td>7,380,500</td>\n",
       "    </tr>\n",
       "    <tr>\n",
       "      <th>1</th>\n",
       "      <td>1/4/2012</td>\n",
       "      <td>331.27</td>\n",
       "      <td>333.87</td>\n",
       "      <td>329.08</td>\n",
       "      <td>666.45</td>\n",
       "      <td>5,749,400</td>\n",
       "    </tr>\n",
       "    <tr>\n",
       "      <th>2</th>\n",
       "      <td>1/5/2012</td>\n",
       "      <td>329.83</td>\n",
       "      <td>330.75</td>\n",
       "      <td>326.89</td>\n",
       "      <td>657.21</td>\n",
       "      <td>6,590,300</td>\n",
       "    </tr>\n",
       "    <tr>\n",
       "      <th>3</th>\n",
       "      <td>1/6/2012</td>\n",
       "      <td>328.34</td>\n",
       "      <td>328.77</td>\n",
       "      <td>323.68</td>\n",
       "      <td>648.24</td>\n",
       "      <td>5,405,900</td>\n",
       "    </tr>\n",
       "    <tr>\n",
       "      <th>4</th>\n",
       "      <td>1/9/2012</td>\n",
       "      <td>322.04</td>\n",
       "      <td>322.29</td>\n",
       "      <td>309.46</td>\n",
       "      <td>620.76</td>\n",
       "      <td>11,688,800</td>\n",
       "    </tr>\n",
       "  </tbody>\n",
       "</table>\n",
       "</div>"
      ],
      "text/plain": [
       "       Date    Open    High     Low   Close      Volume\n",
       "0  1/3/2012  325.25  332.83  324.97  663.59   7,380,500\n",
       "1  1/4/2012  331.27  333.87  329.08  666.45   5,749,400\n",
       "2  1/5/2012  329.83  330.75  326.89  657.21   6,590,300\n",
       "3  1/6/2012  328.34  328.77  323.68  648.24   5,405,900\n",
       "4  1/9/2012  322.04  322.29  309.46  620.76  11,688,800"
      ]
     },
     "execution_count": 3,
     "metadata": {},
     "output_type": "execute_result"
    }
   ],
   "source": [
    "df_train = pd.read_csv(\"G:/Education/Machine Learning/ML_DATA_FILES/RNN Dataset Google Stocks/Google_Stock_Price_Train.csv\")\n",
    "df_train.head()"
   ]
  },
  {
   "cell_type": "code",
   "execution_count": 4,
   "metadata": {},
   "outputs": [],
   "source": [
    "df_test = pd.read_csv(\"G:/Education/Machine Learning/ML_DATA_FILES/RNN Dataset Google Stocks/Google_Stock_Price_Test.csv\")"
   ]
  },
  {
   "cell_type": "code",
   "execution_count": 5,
   "metadata": {},
   "outputs": [
    {
     "data": {
      "text/plain": [
       "(1258, 6)"
      ]
     },
     "execution_count": 5,
     "metadata": {},
     "output_type": "execute_result"
    }
   ],
   "source": [
    "df_train.shape"
   ]
  },
  {
   "cell_type": "code",
   "execution_count": 6,
   "metadata": {},
   "outputs": [
    {
     "data": {
      "text/plain": [
       "Date       object\n",
       "Open      float64\n",
       "High      float64\n",
       "Low       float64\n",
       "Close      object\n",
       "Volume     object\n",
       "dtype: object"
      ]
     },
     "execution_count": 6,
     "metadata": {},
     "output_type": "execute_result"
    }
   ],
   "source": [
    "df_train.dtypes"
   ]
  },
  {
   "cell_type": "code",
   "execution_count": 7,
   "metadata": {},
   "outputs": [],
   "source": [
    "df_train['Close'] = [x.replace(',','') for x in df_train['Close']]\n",
    "df_train['Volume'] = [x.replace(',','') for x in df_train['Volume']]\n",
    "df_train['Close'] = df_train['Close'].astype(float)\n",
    "df_train['Volume'] = df_train['Volume'].astype(float)"
   ]
  },
  {
   "cell_type": "code",
   "execution_count": 8,
   "metadata": {},
   "outputs": [
    {
     "data": {
      "text/plain": [
       "Date       object\n",
       "Open      float64\n",
       "High      float64\n",
       "Low       float64\n",
       "Close     float64\n",
       "Volume    float64\n",
       "dtype: object"
      ]
     },
     "execution_count": 8,
     "metadata": {},
     "output_type": "execute_result"
    }
   ],
   "source": [
    "df_train.dtypes"
   ]
  },
  {
   "cell_type": "code",
   "execution_count": 9,
   "metadata": {},
   "outputs": [
    {
     "name": "stdout",
     "output_type": "stream",
     "text": [
      "<class 'pandas.core.frame.DataFrame'>\n",
      "DatetimeIndex: 1258 entries, 2012-01-03 to 2016-12-30\n",
      "Data columns (total 5 columns):\n",
      " #   Column  Non-Null Count  Dtype  \n",
      "---  ------  --------------  -----  \n",
      " 0   Open    1258 non-null   float64\n",
      " 1   High    1258 non-null   float64\n",
      " 2   Low     1258 non-null   float64\n",
      " 3   Close   1258 non-null   float64\n",
      " 4   Volume  1258 non-null   float64\n",
      "dtypes: float64(5)\n",
      "memory usage: 59.0 KB\n"
     ]
    }
   ],
   "source": [
    "df_train['Date'] = pd.to_datetime(df_train['Date'])\n",
    "df_train.set_index(\"Date\", inplace = True)\n",
    "df_train.info()"
   ]
  },
  {
   "cell_type": "code",
   "execution_count": 10,
   "metadata": {},
   "outputs": [
    {
     "data": {
      "text/plain": [
       "Open      0\n",
       "High      0\n",
       "Low       0\n",
       "Close     0\n",
       "Volume    0\n",
       "dtype: int64"
      ]
     },
     "execution_count": 10,
     "metadata": {},
     "output_type": "execute_result"
    }
   ],
   "source": [
    "df_train.isnull().sum()"
   ]
  },
  {
   "cell_type": "code",
   "execution_count": 11,
   "metadata": {},
   "outputs": [
    {
     "data": {
      "image/png": "[encoded data removed]",
      "text/plain": [
       "<Figure size 1440x720 with 1 Axes>"
      ]
     },
     "metadata": {
      "needs_background": "light"
     },
     "output_type": "display_data"
    }
   ],
   "source": [
    "plt.figure(figsize = (20,10))\n",
    "plt.plot(df_train['Volume'], color = 'blue', linewidth = 2)\n",
    "plt.grid()\n",
    "plt.xlabel('Volume')\n",
    "plt.ylabel('Date')\n",
    "plt.show()"
   ]
  },
  {
   "cell_type": "markdown",
   "metadata": {},
   "source": [
    "### Normalization"
   ]
  },
  {
   "cell_type": "code",
   "execution_count": 12,
   "metadata": {},
   "outputs": [],
   "source": [
    "trainset = df_train.iloc[:,1:2].values"
   ]
  },
  {
   "cell_type": "code",
   "execution_count": 13,
   "metadata": {},
   "outputs": [],
   "source": [
    "from sklearn.preprocessing import MinMaxScaler"
   ]
  },
  {
   "cell_type": "code",
   "execution_count": 14,
   "metadata": {},
   "outputs": [],
   "source": [
    "scaler = MinMaxScaler()"
   ]
  },
  {
   "cell_type": "code",
   "execution_count": 15,
   "metadata": {},
   "outputs": [
    {
     "data": {
      "text/plain": [
       "array([[0.09640129],\n",
       "       [0.09834351],\n",
       "       [0.09251685],\n",
       "       ...,\n",
       "       [0.95807422],\n",
       "       [0.94257381],\n",
       "       [0.93669113]])"
      ]
     },
     "execution_count": 15,
     "metadata": {},
     "output_type": "execute_result"
    }
   ],
   "source": [
    "train_scaled = scaler.fit_transform(trainset)\n",
    "train_scaled"
   ]
  },
  {
   "cell_type": "code",
   "execution_count": 16,
   "metadata": {},
   "outputs": [],
   "source": [
    "x_train = []\n",
    "y_train = []"
   ]
  },
  {
   "cell_type": "code",
   "execution_count": 17,
   "metadata": {},
   "outputs": [],
   "source": [
    "for i in range(60, 1258):  # 1258 is the total number of rows in the data set #\n",
    "    x_train.append(train_scaled[i-60:i, 0])\n",
    "    y_train.append(train_scaled[i, 0])\n",
    "x_train, y_train = np.array(x_train), np.array(y_train)"
   ]
  },
  {
   "cell_type": "code",
   "execution_count": 18,
   "metadata": {},
   "outputs": [
    {
     "data": {
      "text/plain": [
       "(1198, 60)"
      ]
     },
     "execution_count": 18,
     "metadata": {},
     "output_type": "execute_result"
    }
   ],
   "source": [
    "x_train.shape"
   ]
  },
  {
   "cell_type": "code",
   "execution_count": 19,
   "metadata": {},
   "outputs": [],
   "source": [
    "x_train = np.reshape(x_train, (x_train.shape[0], x_train.shape[1], 1))"
   ]
  },
  {
   "cell_type": "code",
   "execution_count": 20,
   "metadata": {},
   "outputs": [
    {
     "data": {
      "text/plain": [
       "(1198, 60, 1)"
      ]
     },
     "execution_count": 20,
     "metadata": {},
     "output_type": "execute_result"
    }
   ],
   "source": [
    "x_train.shape"
   ]
  },
  {
   "cell_type": "code",
   "execution_count": 21,
   "metadata": {},
   "outputs": [],
   "source": [
    "from tensorflow.keras.layers import Dense\n",
    "from tensorflow.keras.layers import LSTM\n",
    "from tensorflow.keras.layers import Dropout\n",
    "from tensorflow.keras.models import Sequential"
   ]
  },
  {
   "cell_type": "code",
   "execution_count": 22,
   "metadata": {},
   "outputs": [],
   "source": [
    "regressor = Sequential()"
   ]
  },
  {
   "cell_type": "code",
   "execution_count": 23,
   "metadata": {},
   "outputs": [
    {
     "name": "stdout",
     "output_type": "stream",
     "text": [
      "WARNING:tensorflow:From C:\\Users\\varun\\anaconda3\\envs\\condaenv\\lib\\site-packages\\tensorflow\\python\\ops\\resource_variable_ops.py:435: colocate_with (from tensorflow.python.framework.ops) is deprecated and will be removed in a future version.\n",
      "Instructions for updating:\n",
      "Colocations handled automatically by placer.\n",
      "WARNING:tensorflow:From C:\\Users\\varun\\anaconda3\\envs\\condaenv\\lib\\site-packages\\tensorflow\\python\\keras\\layers\\core.py:143: calling dropout (from tensorflow.python.ops.nn_ops) with keep_prob is deprecated and will be removed in a future version.\n",
      "Instructions for updating:\n",
      "Please use `rate` instead of `keep_prob`. Rate should be set to `rate = 1 - keep_prob`.\n"
     ]
    }
   ],
   "source": [
    "regressor.add(LSTM(units = 50, return_sequences = True, input_shape = (x_train.shape[1], 1)))\n",
    "regressor.add(Dropout(rate = 0.2))"
   ]
  },
  {
   "cell_type": "code",
   "execution_count": 24,
   "metadata": {},
   "outputs": [],
   "source": [
    "regressor.add(LSTM(units = 50, return_sequences = True))\n",
    "regressor.add(Dropout(rate = 0.2))"
   ]
  },
  {
   "cell_type": "code",
   "execution_count": 25,
   "metadata": {},
   "outputs": [],
   "source": [
    "regressor.add(LSTM(units = 50, return_sequences = True))\n",
    "regressor.add(Dropout(rate = 0.2))"
   ]
  },
  {
   "cell_type": "code",
   "execution_count": 26,
   "metadata": {},
   "outputs": [],
   "source": [
    "regressor.add(LSTM(units = 50))\n",
    "regressor.add(Dropout(rate = 0.2))"
   ]
  },
  {
   "cell_type": "code",
   "execution_count": 27,
   "metadata": {},
   "outputs": [],
   "source": [
    "regressor.add(Dense(units = 1))"
   ]
  },
  {
   "cell_type": "code",
   "execution_count": 28,
   "metadata": {},
   "outputs": [
    {
     "name": "stdout",
     "output_type": "stream",
     "text": [
      "WARNING:tensorflow:From C:\\Users\\varun\\anaconda3\\envs\\condaenv\\lib\\site-packages\\tensorflow\\python\\keras\\utils\\losses_utils.py:170: to_float (from tensorflow.python.ops.math_ops) is deprecated and will be removed in a future version.\n",
      "Instructions for updating:\n",
      "Use tf.cast instead.\n"
     ]
    }
   ],
   "source": [
    "regressor.compile(optimizer='adam', loss = 'mean_squared_error')"
   ]
  },
  {
   "cell_type": "code",
   "execution_count": 29,
   "metadata": {
    "scrolled": true
   },
   "outputs": [
    {
     "name": "stdout",
     "output_type": "stream",
     "text": [
      "WARNING:tensorflow:From C:\\Users\\varun\\anaconda3\\envs\\condaenv\\lib\\site-packages\\tensorflow\\python\\ops\\math_ops.py:3066: to_int32 (from tensorflow.python.ops.math_ops) is deprecated and will be removed in a future version.\n",
      "Instructions for updating:\n",
      "Use tf.cast instead.\n",
      "Epoch 1/100\n",
      "1198/1198 [==============================] - 15s 13ms/sample - loss: 0.0580\n",
      "Epoch 2/100\n",
      "1198/1198 [==============================] - 12s 10ms/sample - loss: 0.0060\n",
      "Epoch 3/100\n",
      "1198/1198 [==============================] - 12s 10ms/sample - loss: 0.0048\n",
      "Epoch 4/100\n",
      "1198/1198 [==============================] - 10s 8ms/sample - loss: 0.0048\n",
      "Epoch 5/100\n",
      "1198/1198 [==============================] - 10s 9ms/sample - loss: 0.0044\n",
      "Epoch 6/100\n",
      "1198/1198 [==============================] - 11s 10ms/sample - loss: 0.0046\n",
      "Epoch 7/100\n",
      "1198/1198 [==============================] - 13s 10ms/sample - loss: 0.0045\n",
      "Epoch 8/100\n",
      "1198/1198 [==============================] - 12s 10ms/sample - loss: 0.0046\n",
      "Epoch 9/100\n",
      "1198/1198 [==============================] - 13s 11ms/sample - loss: 0.0040\n",
      "Epoch 10/100\n",
      "1198/1198 [==============================] - 13s 11ms/sample - loss: 0.0039\n",
      "Epoch 11/100\n",
      "1198/1198 [==============================] - 13s 11ms/sample - loss: 0.0042\n",
      "Epoch 12/100\n",
      "1198/1198 [==============================] - 14s 12ms/sample - loss: 0.0042\n",
      "Epoch 13/100\n",
      "1198/1198 [==============================] - 14s 11ms/sample - loss: 0.0037\n",
      "Epoch 14/100\n",
      "1198/1198 [==============================] - 11s 10ms/sample - loss: 0.0035\n",
      "Epoch 15/100\n",
      "1198/1198 [==============================] - 11s 9ms/sample - loss: 0.0037\n",
      "Epoch 16/100\n",
      "1198/1198 [==============================] - 11s 9ms/sample - loss: 0.0035\n",
      "Epoch 17/100\n",
      "1198/1198 [==============================] - 11s 9ms/sample - loss: 0.0037\n",
      "Epoch 18/100\n",
      "1198/1198 [==============================] - 11s 9ms/sample - loss: 0.0040\n",
      "Epoch 19/100\n",
      "1198/1198 [==============================] - 12s 10ms/sample - loss: 0.0036\n",
      "Epoch 20/100\n",
      "1198/1198 [==============================] - 12s 10ms/sample - loss: 0.0037\n",
      "Epoch 21/100\n",
      "1198/1198 [==============================] - 12s 10ms/sample - loss: 0.0035\n",
      "Epoch 22/100\n",
      "1198/1198 [==============================] - 12s 10ms/sample - loss: 0.0034\n",
      "Epoch 23/100\n",
      "1198/1198 [==============================] - 13s 10ms/sample - loss: 0.0030\n",
      "Epoch 24/100\n",
      "1198/1198 [==============================] - 12s 10ms/sample - loss: 0.0037\n",
      "Epoch 25/100\n",
      "1198/1198 [==============================] - 12s 10ms/sample - loss: 0.0049\n",
      "Epoch 26/100\n",
      "1198/1198 [==============================] - 12s 10ms/sample - loss: 0.0030\n",
      "Epoch 27/100\n",
      "1198/1198 [==============================] - 12s 10ms/sample - loss: 0.0031\n",
      "Epoch 28/100\n",
      "1198/1198 [==============================] - 12s 10ms/sample - loss: 0.0030\n",
      "Epoch 29/100\n",
      "1198/1198 [==============================] - 14s 11ms/sample - loss: 0.0030\n",
      "Epoch 30/100\n",
      "1198/1198 [==============================] - 13s 11ms/sample - loss: 0.0030\n",
      "Epoch 31/100\n",
      "1198/1198 [==============================] - 13s 11ms/sample - loss: 0.0030\n",
      "Epoch 32/100\n",
      "1198/1198 [==============================] - 13s 11ms/sample - loss: 0.0029\n",
      "Epoch 33/100\n",
      "1198/1198 [==============================] - 14s 12ms/sample - loss: 0.0031\n",
      "Epoch 34/100\n",
      "1198/1198 [==============================] - 13s 11ms/sample - loss: 0.0026\n",
      "Epoch 35/100\n",
      "1198/1198 [==============================] - 14s 11ms/sample - loss: 0.0026\n",
      "Epoch 36/100\n",
      "1198/1198 [==============================] - 13s 11ms/sample - loss: 0.0028\n",
      "Epoch 37/100\n",
      "1198/1198 [==============================] - 13s 11ms/sample - loss: 0.0028\n",
      "Epoch 38/100\n",
      "1198/1198 [==============================] - 12s 10ms/sample - loss: 0.0027\n",
      "Epoch 39/100\n",
      "1198/1198 [==============================] - 12s 10ms/sample - loss: 0.0025\n",
      "Epoch 40/100\n",
      "1198/1198 [==============================] - 13s 11ms/sample - loss: 0.0025\n",
      "Epoch 41/100\n",
      "1198/1198 [==============================] - 12s 10ms/sample - loss: 0.0024\n",
      "Epoch 42/100\n",
      "1198/1198 [==============================] - 12s 10ms/sample - loss: 0.0028\n",
      "Epoch 43/100\n",
      "1198/1198 [==============================] - 13s 10ms/sample - loss: 0.0025\n",
      "Epoch 44/100\n",
      "1198/1198 [==============================] - 13s 11ms/sample - loss: 0.0023\n",
      "Epoch 45/100\n",
      "1198/1198 [==============================] - 13s 11ms/sample - loss: 0.0024\n",
      "Epoch 46/100\n",
      "1198/1198 [==============================] - 14s 11ms/sample - loss: 0.0028\n",
      "Epoch 47/100\n",
      "1198/1198 [==============================] - 15s 13ms/sample - loss: 0.0022\n",
      "Epoch 48/100\n",
      "1198/1198 [==============================] - 16s 13ms/sample - loss: 0.0026\n",
      "Epoch 49/100\n",
      "1198/1198 [==============================] - 16s 13ms/sample - loss: 0.0027\n",
      "Epoch 50/100\n",
      "1198/1198 [==============================] - 14s 12ms/sample - loss: 0.0024\n",
      "Epoch 51/100\n",
      "1198/1198 [==============================] - 14s 12ms/sample - loss: 0.0025\n",
      "Epoch 52/100\n",
      "1198/1198 [==============================] - 15s 12ms/sample - loss: 0.0026\n",
      "Epoch 53/100\n",
      "1198/1198 [==============================] - 15s 13ms/sample - loss: 0.0021\n",
      "Epoch 54/100\n",
      "1198/1198 [==============================] - 15s 12ms/sample - loss: 0.0022\n",
      "Epoch 55/100\n",
      "1198/1198 [==============================] - 17s 14ms/sample - loss: 0.0022\n",
      "Epoch 56/100\n",
      "1198/1198 [==============================] - 16s 13ms/sample - loss: 0.0021\n",
      "Epoch 57/100\n",
      "1198/1198 [==============================] - 14s 12ms/sample - loss: 0.0021\n",
      "Epoch 58/100\n",
      "1198/1198 [==============================] - 14s 12ms/sample - loss: 0.0020\n",
      "Epoch 59/100\n",
      "1198/1198 [==============================] - 14s 11ms/sample - loss: 0.0021\n",
      "Epoch 60/100\n",
      "1198/1198 [==============================] - 14s 12ms/sample - loss: 0.0020\n",
      "Epoch 61/100\n",
      "1198/1198 [==============================] - 15s 12ms/sample - loss: 0.0020\n",
      "Epoch 62/100\n",
      "1198/1198 [==============================] - 13s 11ms/sample - loss: 0.0020\n",
      "Epoch 63/100\n",
      "1198/1198 [==============================] - 14s 11ms/sample - loss: 0.0022\n",
      "Epoch 64/100\n",
      "1198/1198 [==============================] - 14s 12ms/sample - loss: 0.0023\n",
      "Epoch 65/100\n",
      "1198/1198 [==============================] - 13s 11ms/sample - loss: 0.0020\n",
      "Epoch 66/100\n",
      "1198/1198 [==============================] - 18s 15ms/sample - loss: 0.0017\n",
      "Epoch 67/100\n",
      "1198/1198 [==============================] - 15s 13ms/sample - loss: 0.0018\n",
      "Epoch 68/100\n",
      "1198/1198 [==============================] - 14s 12ms/sample - loss: 0.0020\n",
      "Epoch 69/100\n",
      "1198/1198 [==============================] - 16s 14ms/sample - loss: 0.0018\n",
      "Epoch 70/100\n",
      "1198/1198 [==============================] - 14s 11ms/sample - loss: 0.0020\n",
      "Epoch 71/100\n",
      "1198/1198 [==============================] - 14s 12ms/sample - loss: 0.0017\n",
      "Epoch 72/100\n",
      "1198/1198 [==============================] - 13s 11ms/sample - loss: 0.0018\n",
      "Epoch 73/100\n",
      "1198/1198 [==============================] - 13s 11ms/sample - loss: 0.0018\n",
      "Epoch 74/100\n",
      "1198/1198 [==============================] - 13s 11ms/sample - loss: 0.0019\n",
      "Epoch 75/100\n",
      "1198/1198 [==============================] - 13s 11ms/sample - loss: 0.0019\n",
      "Epoch 76/100\n",
      "1198/1198 [==============================] - 13s 11ms/sample - loss: 0.0017\n",
      "Epoch 77/100\n",
      "1198/1198 [==============================] - 14s 12ms/sample - loss: 0.0019\n",
      "Epoch 78/100\n",
      "1198/1198 [==============================] - 13s 11ms/sample - loss: 0.0019\n",
      "Epoch 79/100\n",
      "1198/1198 [==============================] - 14s 11ms/sample - loss: 0.0018\n",
      "Epoch 80/100\n",
      "1198/1198 [==============================] - 14s 12ms/sample - loss: 0.0017\n",
      "Epoch 81/100\n",
      "1198/1198 [==============================] - 14s 12ms/sample - loss: 0.0017\n",
      "Epoch 82/100\n",
      "1198/1198 [==============================] - 15s 12ms/sample - loss: 0.0015\n",
      "Epoch 83/100\n",
      "1198/1198 [==============================] - 14s 12ms/sample - loss: 0.0016\n",
      "Epoch 84/100\n",
      "1198/1198 [==============================] - 14s 11ms/sample - loss: 0.0018\n",
      "Epoch 85/100\n",
      "1198/1198 [==============================] - 15s 13ms/sample - loss: 0.0016\n",
      "Epoch 86/100\n",
      "1198/1198 [==============================] - 14s 12ms/sample - loss: 0.0017\n",
      "Epoch 87/100\n",
      "1198/1198 [==============================] - 14s 11ms/sample - loss: 0.0015\n",
      "Epoch 88/100\n",
      "1198/1198 [==============================] - 14s 11ms/sample - loss: 0.0016\n",
      "Epoch 89/100\n",
      "1198/1198 [==============================] - 15s 12ms/sample - loss: 0.0014\n",
      "Epoch 90/100\n"
     ]
    },
    {
     "name": "stdout",
     "output_type": "stream",
     "text": [
      "1198/1198 [==============================] - 14s 11ms/sample - loss: 0.0015\n",
      "Epoch 91/100\n",
      "1198/1198 [==============================] - 13s 11ms/sample - loss: 0.0017\n",
      "Epoch 92/100\n",
      "1198/1198 [==============================] - 14s 12ms/sample - loss: 0.0015\n",
      "Epoch 93/100\n",
      "1198/1198 [==============================] - 14s 12ms/sample - loss: 0.0015\n",
      "Epoch 94/100\n",
      "1198/1198 [==============================] - 14s 11ms/sample - loss: 0.0015\n",
      "Epoch 95/100\n",
      "1198/1198 [==============================] - 13s 11ms/sample - loss: 0.0016\n",
      "Epoch 96/100\n",
      "1198/1198 [==============================] - 14s 12ms/sample - loss: 0.0014\n",
      "Epoch 97/100\n",
      "1198/1198 [==============================] - 14s 12ms/sample - loss: 0.0015\n",
      "Epoch 98/100\n",
      "1198/1198 [==============================] - 14s 12ms/sample - loss: 0.0014\n",
      "Epoch 99/100\n",
      "1198/1198 [==============================] - 15s 12ms/sample - loss: 0.0014\n",
      "Epoch 100/100\n",
      "1198/1198 [==============================] - 14s 12ms/sample - loss: 0.0015\n"
     ]
    },
    {
     "data": {
      "text/plain": [
       "<tensorflow.python.keras.callbacks.History at 0x1908ed719e8>"
      ]
     },
     "execution_count": 29,
     "metadata": {},
     "output_type": "execute_result"
    }
   ],
   "source": [
    "regressor.fit(x_train, y_train, epochs = 100, batch_size=32)"
   ]
  },
  {
   "cell_type": "code",
   "execution_count": 30,
   "metadata": {},
   "outputs": [],
   "source": [
    "real_values = df_test.iloc[:,1:2].values"
   ]
  },
  {
   "cell_type": "code",
   "execution_count": 31,
   "metadata": {},
   "outputs": [],
   "source": [
    "df_total = pd.concat((df_train[\"Open\"], df_test[\"Open\"]), axis = 0)\n",
    "inputs = df_total[len(df_total) - len(df_test) - 60:].values.reshape(-1, 1)\n",
    "inputs = scaler.transform(inputs)"
   ]
  },
  {
   "cell_type": "code",
   "execution_count": 32,
   "metadata": {},
   "outputs": [],
   "source": [
    "x_test = []"
   ]
  },
  {
   "cell_type": "code",
   "execution_count": 33,
   "metadata": {},
   "outputs": [],
   "source": [
    "for i in range(60, 80):\n",
    "    x_test.append(inputs[i-60:i, 0])"
   ]
  },
  {
   "cell_type": "code",
   "execution_count": 34,
   "metadata": {},
   "outputs": [],
   "source": [
    "x_test = np.array(x_test)\n",
    "x_test = np.reshape(x_test, (x_test.shape[0], x_test.shape[1],1))"
   ]
  },
  {
   "cell_type": "code",
   "execution_count": 35,
   "metadata": {},
   "outputs": [],
   "source": [
    "predicted_stock_price = regressor.predict(x_test)\n",
    "predicted_stock_price = scaler.inverse_transform(predicted_stock_price)"
   ]
  },
  {
   "cell_type": "code",
   "execution_count": 36,
   "metadata": {},
   "outputs": [
    {
     "data": {
      "image/png": "[encoded data removed]",
      "text/plain": [
       "<Figure size 1440x720 with 1 Axes>"
      ]
     },
     "metadata": {
      "needs_background": "light"
     },
     "output_type": "display_data"
    }
   ],
   "source": [
    "plt.figure(figsize = (20,10))\n",
    "plt.plot(real_values, color = 'lightgreen', label = 'Real Stock Values', linewidth = 3)\n",
    "plt.plot(predicted_stock_price, color = 'blue', label = 'Predicted Values', linewidth = 3)\n",
    "plt.xlabel(\"Time\")\n",
    "plt.ylabel(\"Google Real Values\")\n",
    "plt.grid()\n",
    "plt.legend(prop = {'size' : 14})\n",
    "plt.show()"
   ]
  },
  {
   "cell_type": "code",
   "execution_count": null,
   "metadata": {},
   "outputs": [],
   "source": []
  }
 ],
 "metadata": {
  "kernelspec": {
   "display_name": "Python 3",
   "language": "python",
   "name": "python3"
  },
  "language_info": {
   "codemirror_mode": {
    "name": "ipython",
    "version": 3
   },
   "file_extension": ".py",
   "mimetype": "text/x-python",
   "name": "python",
   "nbconvert_exporter": "python",
   "pygments_lexer": "ipython3",
   "version": "3.6.10"
  }
 },
 "nbformat": 4,
 "nbformat_minor": 4
}
