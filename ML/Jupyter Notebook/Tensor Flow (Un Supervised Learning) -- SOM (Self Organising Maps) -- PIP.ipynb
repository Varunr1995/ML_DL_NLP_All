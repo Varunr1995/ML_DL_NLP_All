{
 "cells": [
  {
   "cell_type": "markdown",
   "metadata": {},
   "source": [
    "# Run With pip jupter notebook."
   ]
  },
  {
   "cell_type": "markdown",
   "metadata": {},
   "source": [
    "# Credit Card Fraud Detection"
   ]
  },
  {
   "cell_type": "markdown",
   "metadata": {},
   "source": [
    "### Checking Whether the customer done any fraud transaction"
   ]
  },
  {
   "cell_type": "code",
   "execution_count": 1,
   "metadata": {},
   "outputs": [],
   "source": [
    "import numpy as np\n",
    "import pandas as pd\n",
    "import matplotlib.pyplot as plt"
   ]
  },
  {
   "cell_type": "code",
   "execution_count": 2,
   "metadata": {},
   "outputs": [
    {
     "data": {
      "text/html": [
       "<div>\n",
       "<style scoped>\n",
       "    .dataframe tbody tr th:only-of-type {\n",
       "        vertical-align: middle;\n",
       "    }\n",
       "\n",
       "    .dataframe tbody tr th {\n",
       "        vertical-align: top;\n",
       "    }\n",
       "\n",
       "    .dataframe thead th {\n",
       "        text-align: right;\n",
       "    }\n",
       "</style>\n",
       "<table border=\"1\" class=\"dataframe\">\n",
       "  <thead>\n",
       "    <tr style=\"text-align: right;\">\n",
       "      <th></th>\n",
       "      <th>CustomerID</th>\n",
       "      <th>A1</th>\n",
       "      <th>A2</th>\n",
       "      <th>A3</th>\n",
       "      <th>A4</th>\n",
       "      <th>A5</th>\n",
       "      <th>A6</th>\n",
       "      <th>A7</th>\n",
       "      <th>A8</th>\n",
       "      <th>A9</th>\n",
       "      <th>A10</th>\n",
       "      <th>A11</th>\n",
       "      <th>A12</th>\n",
       "      <th>A13</th>\n",
       "      <th>A14</th>\n",
       "      <th>Class</th>\n",
       "    </tr>\n",
       "  </thead>\n",
       "  <tbody>\n",
       "    <tr>\n",
       "      <th>0</th>\n",
       "      <td>15776156</td>\n",
       "      <td>1</td>\n",
       "      <td>22.08</td>\n",
       "      <td>11.46</td>\n",
       "      <td>2</td>\n",
       "      <td>4</td>\n",
       "      <td>4</td>\n",
       "      <td>1.585</td>\n",
       "      <td>0</td>\n",
       "      <td>0</td>\n",
       "      <td>0</td>\n",
       "      <td>1</td>\n",
       "      <td>2</td>\n",
       "      <td>100</td>\n",
       "      <td>1213</td>\n",
       "      <td>0</td>\n",
       "    </tr>\n",
       "    <tr>\n",
       "      <th>1</th>\n",
       "      <td>15739548</td>\n",
       "      <td>0</td>\n",
       "      <td>22.67</td>\n",
       "      <td>7.00</td>\n",
       "      <td>2</td>\n",
       "      <td>8</td>\n",
       "      <td>4</td>\n",
       "      <td>0.165</td>\n",
       "      <td>0</td>\n",
       "      <td>0</td>\n",
       "      <td>0</td>\n",
       "      <td>0</td>\n",
       "      <td>2</td>\n",
       "      <td>160</td>\n",
       "      <td>1</td>\n",
       "      <td>0</td>\n",
       "    </tr>\n",
       "    <tr>\n",
       "      <th>2</th>\n",
       "      <td>15662854</td>\n",
       "      <td>0</td>\n",
       "      <td>29.58</td>\n",
       "      <td>1.75</td>\n",
       "      <td>1</td>\n",
       "      <td>4</td>\n",
       "      <td>4</td>\n",
       "      <td>1.250</td>\n",
       "      <td>0</td>\n",
       "      <td>0</td>\n",
       "      <td>0</td>\n",
       "      <td>1</td>\n",
       "      <td>2</td>\n",
       "      <td>280</td>\n",
       "      <td>1</td>\n",
       "      <td>0</td>\n",
       "    </tr>\n",
       "    <tr>\n",
       "      <th>3</th>\n",
       "      <td>15687688</td>\n",
       "      <td>0</td>\n",
       "      <td>21.67</td>\n",
       "      <td>11.50</td>\n",
       "      <td>1</td>\n",
       "      <td>5</td>\n",
       "      <td>3</td>\n",
       "      <td>0.000</td>\n",
       "      <td>1</td>\n",
       "      <td>1</td>\n",
       "      <td>11</td>\n",
       "      <td>1</td>\n",
       "      <td>2</td>\n",
       "      <td>0</td>\n",
       "      <td>1</td>\n",
       "      <td>1</td>\n",
       "    </tr>\n",
       "    <tr>\n",
       "      <th>4</th>\n",
       "      <td>15715750</td>\n",
       "      <td>1</td>\n",
       "      <td>20.17</td>\n",
       "      <td>8.17</td>\n",
       "      <td>2</td>\n",
       "      <td>6</td>\n",
       "      <td>4</td>\n",
       "      <td>1.960</td>\n",
       "      <td>1</td>\n",
       "      <td>1</td>\n",
       "      <td>14</td>\n",
       "      <td>0</td>\n",
       "      <td>2</td>\n",
       "      <td>60</td>\n",
       "      <td>159</td>\n",
       "      <td>1</td>\n",
       "    </tr>\n",
       "  </tbody>\n",
       "</table>\n",
       "</div>"
      ],
      "text/plain": [
       "   CustomerID  A1     A2     A3  A4  A5  A6     A7  A8  A9  A10  A11  A12  \\\n",
       "0    15776156   1  22.08  11.46   2   4   4  1.585   0   0    0    1    2   \n",
       "1    15739548   0  22.67   7.00   2   8   4  0.165   0   0    0    0    2   \n",
       "2    15662854   0  29.58   1.75   1   4   4  1.250   0   0    0    1    2   \n",
       "3    15687688   0  21.67  11.50   1   5   3  0.000   1   1   11    1    2   \n",
       "4    15715750   1  20.17   8.17   2   6   4  1.960   1   1   14    0    2   \n",
       "\n",
       "   A13   A14  Class  \n",
       "0  100  1213      0  \n",
       "1  160     1      0  \n",
       "2  280     1      0  \n",
       "3    0     1      1  \n",
       "4   60   159      1  "
      ]
     },
     "execution_count": 2,
     "metadata": {},
     "output_type": "execute_result"
    }
   ],
   "source": [
    "df = pd.read_csv(\"G:/Education/Machine Learning/ML_CSV_FILES/Credit_Card_Applications.csv\")\n",
    "df.head()"
   ]
  },
  {
   "cell_type": "code",
   "execution_count": 3,
   "metadata": {},
   "outputs": [],
   "source": [
    "X = df.iloc[:,:-1].values\n",
    "y = df.iloc[:,-1].values"
   ]
  },
  {
   "cell_type": "markdown",
   "metadata": {},
   "source": [
    "y contains the persons credit card status whether it's approved or not."
   ]
  },
  {
   "cell_type": "markdown",
   "metadata": {},
   "source": [
    "### Feature Scaling"
   ]
  },
  {
   "cell_type": "code",
   "execution_count": 4,
   "metadata": {},
   "outputs": [],
   "source": [
    "from sklearn.preprocessing import MinMaxScaler"
   ]
  },
  {
   "cell_type": "code",
   "execution_count": 5,
   "metadata": {},
   "outputs": [],
   "source": [
    "sc = MinMaxScaler(feature_range=(0,1))"
   ]
  },
  {
   "cell_type": "code",
   "execution_count": 6,
   "metadata": {},
   "outputs": [],
   "source": [
    "X = sc.fit_transform(X)"
   ]
  },
  {
   "cell_type": "markdown",
   "metadata": {},
   "source": [
    "## Training SOM"
   ]
  },
  {
   "cell_type": "markdown",
   "metadata": {},
   "source": [
    "#### Inorder to use self organising maps we need to use SOM library by importing, else can type the som code in panel and use it."
   ]
  },
  {
   "cell_type": "code",
   "execution_count": 7,
   "metadata": {},
   "outputs": [],
   "source": [
    "from minisom import MiniSom"
   ]
  },
  {
   "cell_type": "markdown",
   "metadata": {},
   "source": [
    "Features in MiniSom\n",
    "    * x,y be the dimensions of grid( Need to choose the grid size )\n",
    "    * input_len being the number of columns in x \n",
    "    * sigma being the default value.\n",
    "    * learning_rate being the weights get updated after iteration.\n",
    "        # higher the learning rate, faster the convergence\n",
    "        # lower the learning rate, slower the conversion of maps.\n",
    "    * decay_function is used to improve convergence."
   ]
  },
  {
   "cell_type": "code",
   "execution_count": 8,
   "metadata": {},
   "outputs": [],
   "source": [
    "som = MiniSom(x = 10, y = 10, input_len = 15, sigma = 1.0, learning_rate = 0.5)"
   ]
  },
  {
   "cell_type": "code",
   "execution_count": 9,
   "metadata": {},
   "outputs": [],
   "source": [
    "som.random_weights_init(X)"
   ]
  },
  {
   "cell_type": "code",
   "execution_count": 10,
   "metadata": {},
   "outputs": [],
   "source": [
    "som.train_random(data = X, num_iteration = 100)"
   ]
  },
  {
   "cell_type": "markdown",
   "metadata": {},
   "source": [
    "## Visualizing Graph (SOM)"
   ]
  },
  {
   "cell_type": "code",
   "execution_count": 11,
   "metadata": {},
   "outputs": [],
   "source": [
    "from pylab import bone, pcolor, colorbar, plot, show"
   ]
  },
  {
   "cell_type": "code",
   "execution_count": 12,
   "metadata": {},
   "outputs": [
    {
     "data": {
      "text/plain": [
       "<Figure size 432x288 with 0 Axes>"
      ]
     },
     "metadata": {},
     "output_type": "display_data"
    }
   ],
   "source": [
    "bone()"
   ]
  },
  {
   "cell_type": "code",
   "execution_count": 13,
   "metadata": {
    "scrolled": true
   },
   "outputs": [
    {
     "data": {
      "text/plain": [
       "<matplotlib.colorbar.Colorbar at 0x139cb058>"
      ]
     },
     "execution_count": 13,
     "metadata": {},
     "output_type": "execute_result"
    },
    {
     "data": {
      "image/png": "[encoded data removed]",
      "text/plain": [
       "<Figure size 1440x720 with 2 Axes>"
      ]
     },
     "metadata": {
      "needs_background": "light"
     },
     "output_type": "display_data"
    }
   ],
   "source": [
    "plt.figure(figsize = (20,10))\n",
    "pcolor(som.distance_map().T) # T will oonsider the transpose of a matrix #\n",
    "colorbar()"
   ]
  },
  {
   "cell_type": "code",
   "execution_count": 14,
   "metadata": {},
   "outputs": [],
   "source": [
    "markers = ['o', 's']\n",
    "colors = ['r', 'g'] # r = red, g = gree, o = orange, s = 'silver' # "
   ]
  },
  {
   "cell_type": "code",
   "execution_count": 15,
   "metadata": {},
   "outputs": [
    {
     "data": {
      "text/plain": [
       "<Figure size 432x288 with 0 Axes>"
      ]
     },
     "metadata": {},
     "output_type": "display_data"
    },
    {
     "data": {
      "image/png": "[encoded data removed]",
      "text/plain": [
       "<Figure size 1440x720 with 2 Axes>"
      ]
     },
     "metadata": {
      "needs_background": "light"
     },
     "output_type": "display_data"
    }
   ],
   "source": [
    "bone()\n",
    "plt.figure(figsize = (20,10))\n",
    "pcolor(som.distance_map().T) # T will oonsider the transpose of a matrix #\n",
    "colorbar()\n",
    "for i,x in enumerate(X):\n",
    "    w = som.winner(x)\n",
    "    plot(w[0] + 0.5,\n",
    "         w[1] + 0.5,\n",
    "         markers[y[i]],\n",
    "         markeredgecolor = colors[y[i]],\n",
    "         markerfacecolor = 'None',\n",
    "         markersize = 10,\n",
    "         markeredgewidth = 2)  # 0.5 is added to provide the circle on the centre of square #\n",
    "\n",
    "show()"
   ]
  },
  {
   "cell_type": "markdown",
   "metadata": {},
   "source": [
    "### Catching Fraud Transactions"
   ]
  },
  {
   "cell_type": "code",
   "execution_count": 16,
   "metadata": {},
   "outputs": [],
   "source": [
    "mappings = som.win_map(X)"
   ]
  },
  {
   "cell_type": "raw",
   "metadata": {},
   "source": [
    "The white area in the above figure showcases the fraud transactions.\n",
    "Higher the contrast color or white, more the fraud transactions happened.\n",
    "so we need to consider the full white squared boxes and concatinate the mappings."
   ]
  },
  {
   "cell_type": "markdown",
   "metadata": {},
   "source": [
    "Everytime we restart kernel we will get new mappings values, we need to change them as per to the output."
   ]
  },
  {
   "cell_type": "code",
   "execution_count": 17,
   "metadata": {},
   "outputs": [],
   "source": [
    "frauds = np.concatenate((mappings[(4,4)], mappings[(5,6)]), axis = 0)"
   ]
  },
  {
   "cell_type": "code",
   "execution_count": 18,
   "metadata": {},
   "outputs": [],
   "source": [
    "frauds = sc.inverse_transform(frauds)"
   ]
  },
  {
   "cell_type": "code",
   "execution_count": 19,
   "metadata": {},
   "outputs": [
    {
     "data": {
      "text/plain": [
       "array([[1.5608595e+07, 0.0000000e+00, 3.0420000e+01, 1.3750000e+00,\n",
       "        2.0000000e+00, 9.0000000e+00, 8.0000000e+00, 4.0000000e-02,\n",
       "        0.0000000e+00, 1.0000000e+00, 3.0000000e+00, 0.0000000e+00,\n",
       "        2.0000000e+00, 0.0000000e+00, 3.4000000e+01],\n",
       "       [1.5761158e+07, 0.0000000e+00, 1.6500000e+01, 1.2500000e+00,\n",
       "        2.0000000e+00, 1.1000000e+01, 4.0000000e+00, 2.5000000e-01,\n",
       "        0.0000000e+00, 1.0000000e+00, 1.0000000e+00, 0.0000000e+00,\n",
       "        2.0000000e+00, 1.0800000e+02, 9.9000000e+01],\n",
       "       [1.5666166e+07, 0.0000000e+00, 2.0080000e+01, 1.2500000e-01,\n",
       "        2.0000000e+00, 1.1000000e+01, 4.0000000e+00, 1.0000000e+00,\n",
       "        0.0000000e+00, 1.0000000e+00, 1.0000000e+00, 0.0000000e+00,\n",
       "        2.0000000e+00, 2.4000000e+02, 7.6900000e+02],\n",
       "       [1.5605872e+07, 0.0000000e+00, 1.9580000e+01, 6.6500000e-01,\n",
       "        1.0000000e+00, 8.0000000e+00, 4.0000000e+00, 1.0000000e+00,\n",
       "        0.0000000e+00, 1.0000000e+00, 1.0000000e+00, 0.0000000e+00,\n",
       "        2.0000000e+00, 2.0000000e+03, 3.0000000e+00],\n",
       "       [1.5665087e+07, 0.0000000e+00, 1.8250000e+01, 1.0000000e+01,\n",
       "        2.0000000e+00, 9.0000000e+00, 4.0000000e+00, 1.0000000e+00,\n",
       "        0.0000000e+00, 1.0000000e+00, 1.0000000e+00, 0.0000000e+00,\n",
       "        2.0000000e+00, 1.2000000e+02, 2.0000000e+00],\n",
       "       [1.5790254e+07, 0.0000000e+00, 1.8920000e+01, 9.0000000e+00,\n",
       "        2.0000000e+00, 6.0000000e+00, 4.0000000e+00, 7.5000000e-01,\n",
       "        1.0000000e+00, 1.0000000e+00, 2.0000000e+00, 0.0000000e+00,\n",
       "        2.0000000e+00, 8.8000000e+01, 5.9200000e+02],\n",
       "       [1.5768600e+07, 0.0000000e+00, 2.2420000e+01, 5.6650000e+00,\n",
       "        2.0000000e+00, 1.1000000e+01, 4.0000000e+00, 2.5850000e+00,\n",
       "        1.0000000e+00, 1.0000000e+00, 7.0000000e+00, 0.0000000e+00,\n",
       "        2.0000000e+00, 1.2900000e+02, 3.2580000e+03],\n",
       "       [1.5748552e+07, 0.0000000e+00, 3.0670000e+01, 1.2000000e+01,\n",
       "        2.0000000e+00, 8.0000000e+00, 4.0000000e+00, 2.0000000e+00,\n",
       "        1.0000000e+00, 1.0000000e+00, 1.0000000e+00, 0.0000000e+00,\n",
       "        2.0000000e+00, 2.2000000e+02, 2.0000000e+01],\n",
       "       [1.5757467e+07, 0.0000000e+00, 5.2830000e+01, 1.5000000e+01,\n",
       "        2.0000000e+00, 8.0000000e+00, 4.0000000e+00, 5.5000000e+00,\n",
       "        1.0000000e+00, 1.0000000e+00, 1.4000000e+01, 0.0000000e+00,\n",
       "        2.0000000e+00, 0.0000000e+00, 2.2010000e+03],\n",
       "       [1.5682576e+07, 0.0000000e+00, 3.2170000e+01, 1.4600000e+00,\n",
       "        2.0000000e+00, 9.0000000e+00, 4.0000000e+00, 1.0850000e+00,\n",
       "        1.0000000e+00, 1.0000000e+00, 1.6000000e+01, 0.0000000e+00,\n",
       "        2.0000000e+00, 1.2000000e+02, 2.0800000e+03],\n",
       "       [1.5801441e+07, 0.0000000e+00, 3.5750000e+01, 9.1500000e-01,\n",
       "        2.0000000e+00, 6.0000000e+00, 4.0000000e+00, 7.5000000e-01,\n",
       "        1.0000000e+00, 1.0000000e+00, 4.0000000e+00, 0.0000000e+00,\n",
       "        2.0000000e+00, 0.0000000e+00, 1.5840000e+03],\n",
       "       [1.5815443e+07, 0.0000000e+00, 5.7080000e+01, 1.9500000e+01,\n",
       "        2.0000000e+00, 8.0000000e+00, 4.0000000e+00, 5.5000000e+00,\n",
       "        1.0000000e+00, 1.0000000e+00, 7.0000000e+00, 0.0000000e+00,\n",
       "        2.0000000e+00, 0.0000000e+00, 3.0010000e+03],\n",
       "       [1.5748432e+07, 0.0000000e+00, 5.8330000e+01, 1.0000000e+01,\n",
       "        2.0000000e+00, 1.1000000e+01, 4.0000000e+00, 4.0000000e+00,\n",
       "        1.0000000e+00, 1.0000000e+00, 1.4000000e+01, 0.0000000e+00,\n",
       "        2.0000000e+00, 0.0000000e+00, 1.6030000e+03],\n",
       "       [1.5708714e+07, 0.0000000e+00, 1.8750000e+01, 7.5000000e+00,\n",
       "        2.0000000e+00, 1.1000000e+01, 4.0000000e+00, 2.7100000e+00,\n",
       "        1.0000000e+00, 1.0000000e+00, 5.0000000e+00, 0.0000000e+00,\n",
       "        2.0000000e+00, 1.8400000e+02, 2.6727000e+04],\n",
       "       [1.5788131e+07, 0.0000000e+00, 2.9500000e+01, 4.6000000e-01,\n",
       "        2.0000000e+00, 4.0000000e+00, 4.0000000e+00, 5.4000000e-01,\n",
       "        1.0000000e+00, 1.0000000e+00, 4.0000000e+00, 0.0000000e+00,\n",
       "        2.0000000e+00, 3.8000000e+02, 5.0100000e+02],\n",
       "       [1.5699963e+07, 0.0000000e+00, 6.4080000e+01, 1.6500000e-01,\n",
       "        2.0000000e+00, 1.0000000e+00, 1.0000000e+00, 0.0000000e+00,\n",
       "        1.0000000e+00, 1.0000000e+00, 1.0000000e+00, 0.0000000e+00,\n",
       "        2.0000000e+00, 2.3200000e+02, 1.0100000e+02],\n",
       "       [1.5771856e+07, 0.0000000e+00, 2.4500000e+01, 1.2750000e+01,\n",
       "        2.0000000e+00, 8.0000000e+00, 5.0000000e+00, 4.7500000e+00,\n",
       "        1.0000000e+00, 1.0000000e+00, 2.0000000e+00, 0.0000000e+00,\n",
       "        2.0000000e+00, 7.3000000e+01, 4.4500000e+02],\n",
       "       [1.5648876e+07, 0.0000000e+00, 6.0920000e+01, 5.0000000e+00,\n",
       "        2.0000000e+00, 6.0000000e+00, 4.0000000e+00, 4.0000000e+00,\n",
       "        1.0000000e+00, 1.0000000e+00, 4.0000000e+00, 0.0000000e+00,\n",
       "        2.0000000e+00, 0.0000000e+00, 1.0000000e+02],\n",
       "       [1.5679394e+07, 0.0000000e+00, 3.6000000e+01, 1.0000000e+00,\n",
       "        2.0000000e+00, 8.0000000e+00, 4.0000000e+00, 2.0000000e+00,\n",
       "        1.0000000e+00, 1.0000000e+00, 1.1000000e+01, 0.0000000e+00,\n",
       "        2.0000000e+00, 0.0000000e+00, 4.5700000e+02],\n",
       "       [1.5696287e+07, 0.0000000e+00, 5.8420000e+01, 2.1000000e+01,\n",
       "        2.0000000e+00, 3.0000000e+00, 5.0000000e+00, 1.0000000e+01,\n",
       "        1.0000000e+00, 1.0000000e+00, 1.3000000e+01, 0.0000000e+00,\n",
       "        2.0000000e+00, 0.0000000e+00, 6.7010000e+03],\n",
       "       [1.5808023e+07, 0.0000000e+00, 2.8170000e+01, 3.7500000e-01,\n",
       "        2.0000000e+00, 1.1000000e+01, 4.0000000e+00, 5.8500000e-01,\n",
       "        1.0000000e+00, 1.0000000e+00, 4.0000000e+00, 0.0000000e+00,\n",
       "        2.0000000e+00, 8.0000000e+01, 1.0000000e+00],\n",
       "       [1.5795079e+07, 0.0000000e+00, 1.9170000e+01, 8.5850000e+00,\n",
       "        2.0000000e+00, 1.3000000e+01, 8.0000000e+00, 7.5000000e-01,\n",
       "        1.0000000e+00, 1.0000000e+00, 7.0000000e+00, 0.0000000e+00,\n",
       "        2.0000000e+00, 9.6000000e+01, 1.0000000e+00],\n",
       "       [1.5808386e+07, 0.0000000e+00, 2.2500000e+01, 8.5000000e+00,\n",
       "        2.0000000e+00, 1.1000000e+01, 4.0000000e+00, 1.7500000e+00,\n",
       "        1.0000000e+00, 1.0000000e+00, 1.0000000e+01, 0.0000000e+00,\n",
       "        2.0000000e+00, 8.0000000e+01, 9.9100000e+02],\n",
       "       [1.5698749e+07, 0.0000000e+00, 5.6500000e+01, 1.6000000e+01,\n",
       "        2.0000000e+00, 5.0000000e+00, 1.0000000e+00, 0.0000000e+00,\n",
       "        1.0000000e+00, 1.0000000e+00, 1.5000000e+01, 0.0000000e+00,\n",
       "        2.0000000e+00, 0.0000000e+00, 2.4800000e+02],\n",
       "       [1.5764841e+07, 0.0000000e+00, 2.0420000e+01, 7.5000000e+00,\n",
       "        2.0000000e+00, 4.0000000e+00, 4.0000000e+00, 1.5000000e+00,\n",
       "        1.0000000e+00, 1.0000000e+00, 1.0000000e+00, 0.0000000e+00,\n",
       "        2.0000000e+00, 1.6000000e+02, 2.3500000e+02],\n",
       "       [1.5748649e+07, 0.0000000e+00, 2.1250000e+01, 2.3350000e+00,\n",
       "        2.0000000e+00, 3.0000000e+00, 5.0000000e+00, 5.0000000e-01,\n",
       "        1.0000000e+00, 1.0000000e+00, 4.0000000e+00, 0.0000000e+00,\n",
       "        1.0000000e+00, 8.0000000e+01, 1.0000000e+00],\n",
       "       [1.5729718e+07, 0.0000000e+00, 2.1500000e+01, 6.0000000e+00,\n",
       "        2.0000000e+00, 6.0000000e+00, 4.0000000e+00, 2.5000000e+00,\n",
       "        1.0000000e+00, 1.0000000e+00, 3.0000000e+00, 0.0000000e+00,\n",
       "        2.0000000e+00, 8.0000000e+01, 9.1900000e+02],\n",
       "       [1.5786539e+07, 0.0000000e+00, 2.0670000e+01, 1.8350000e+00,\n",
       "        2.0000000e+00, 1.1000000e+01, 4.0000000e+00, 2.0850000e+00,\n",
       "        1.0000000e+00, 1.0000000e+00, 5.0000000e+00, 0.0000000e+00,\n",
       "        2.0000000e+00, 2.2000000e+02, 2.5040000e+03],\n",
       "       [1.5773776e+07, 0.0000000e+00, 3.5420000e+01, 1.2000000e+01,\n",
       "        2.0000000e+00, 1.1000000e+01, 8.0000000e+00, 1.4000000e+01,\n",
       "        1.0000000e+00, 1.0000000e+00, 8.0000000e+00, 0.0000000e+00,\n",
       "        2.0000000e+00, 0.0000000e+00, 6.5910000e+03],\n",
       "       [1.5778345e+07, 0.0000000e+00, 1.7830000e+01, 1.1000000e+01,\n",
       "        2.0000000e+00, 1.4000000e+01, 8.0000000e+00, 1.0000000e+00,\n",
       "        1.0000000e+00, 1.0000000e+00, 1.1000000e+01, 0.0000000e+00,\n",
       "        2.0000000e+00, 0.0000000e+00, 3.0010000e+03],\n",
       "       [1.5791769e+07, 0.0000000e+00, 2.6920000e+01, 1.3500000e+01,\n",
       "        2.0000000e+00, 1.1000000e+01, 8.0000000e+00, 5.0000000e+00,\n",
       "        1.0000000e+00, 1.0000000e+00, 2.0000000e+00, 0.0000000e+00,\n",
       "        2.0000000e+00, 0.0000000e+00, 5.0010000e+03],\n",
       "       [1.5667588e+07, 0.0000000e+00, 2.4500000e+01, 1.0400000e+00,\n",
       "        1.0000000e+00, 1.0000000e+00, 1.0000000e+00, 5.0000000e-01,\n",
       "        1.0000000e+00, 1.0000000e+00, 3.0000000e+00, 0.0000000e+00,\n",
       "        2.0000000e+00, 1.8000000e+02, 1.4800000e+02],\n",
       "       [1.5776494e+07, 0.0000000e+00, 2.7420000e+01, 1.4500000e+01,\n",
       "        2.0000000e+00, 1.4000000e+01, 8.0000000e+00, 3.0850000e+00,\n",
       "        1.0000000e+00, 1.0000000e+00, 1.0000000e+00, 0.0000000e+00,\n",
       "        2.0000000e+00, 1.2000000e+02, 1.2000000e+01]])"
      ]
     },
     "execution_count": 19,
     "metadata": {},
     "output_type": "execute_result"
    }
   ],
   "source": [
    "frauds"
   ]
  },
  {
   "cell_type": "code",
   "execution_count": 20,
   "metadata": {},
   "outputs": [],
   "source": [
    "from IPython.display import HTML, display\n",
    "import tabulate"
   ]
  },
  {
   "cell_type": "code",
   "execution_count": 21,
   "metadata": {},
   "outputs": [
    {
     "data": {
      "text/html": [
       "<table>\n",
       "<tbody>\n",
       "<tr><td style=\"text-align: right;\">1.56086e+07</td><td style=\"text-align: right;\">0</td><td style=\"text-align: right;\">30.42</td><td style=\"text-align: right;\"> 1.375</td><td style=\"text-align: right;\">2</td><td style=\"text-align: right;\"> 9</td><td style=\"text-align: right;\">8</td><td style=\"text-align: right;\"> 0.04 </td><td style=\"text-align: right;\">0</td><td style=\"text-align: right;\">1</td><td style=\"text-align: right;\"> 3</td><td style=\"text-align: right;\">0</td><td style=\"text-align: right;\">2</td><td style=\"text-align: right;\">   0</td><td style=\"text-align: right;\">   34</td></tr>\n",
       "<tr><td style=\"text-align: right;\">1.57612e+07</td><td style=\"text-align: right;\">0</td><td style=\"text-align: right;\">16.5 </td><td style=\"text-align: right;\"> 1.25 </td><td style=\"text-align: right;\">2</td><td style=\"text-align: right;\">11</td><td style=\"text-align: right;\">4</td><td style=\"text-align: right;\"> 0.25 </td><td style=\"text-align: right;\">0</td><td style=\"text-align: right;\">1</td><td style=\"text-align: right;\"> 1</td><td style=\"text-align: right;\">0</td><td style=\"text-align: right;\">2</td><td style=\"text-align: right;\"> 108</td><td style=\"text-align: right;\">   99</td></tr>\n",
       "<tr><td style=\"text-align: right;\">1.56662e+07</td><td style=\"text-align: right;\">0</td><td style=\"text-align: right;\">20.08</td><td style=\"text-align: right;\"> 0.125</td><td style=\"text-align: right;\">2</td><td style=\"text-align: right;\">11</td><td style=\"text-align: right;\">4</td><td style=\"text-align: right;\"> 1    </td><td style=\"text-align: right;\">0</td><td style=\"text-align: right;\">1</td><td style=\"text-align: right;\"> 1</td><td style=\"text-align: right;\">0</td><td style=\"text-align: right;\">2</td><td style=\"text-align: right;\"> 240</td><td style=\"text-align: right;\">  769</td></tr>\n",
       "<tr><td style=\"text-align: right;\">1.56059e+07</td><td style=\"text-align: right;\">0</td><td style=\"text-align: right;\">19.58</td><td style=\"text-align: right;\"> 0.665</td><td style=\"text-align: right;\">1</td><td style=\"text-align: right;\"> 8</td><td style=\"text-align: right;\">4</td><td style=\"text-align: right;\"> 1    </td><td style=\"text-align: right;\">0</td><td style=\"text-align: right;\">1</td><td style=\"text-align: right;\"> 1</td><td style=\"text-align: right;\">0</td><td style=\"text-align: right;\">2</td><td style=\"text-align: right;\">2000</td><td style=\"text-align: right;\">    3</td></tr>\n",
       "<tr><td style=\"text-align: right;\">1.56651e+07</td><td style=\"text-align: right;\">0</td><td style=\"text-align: right;\">18.25</td><td style=\"text-align: right;\">10    </td><td style=\"text-align: right;\">2</td><td style=\"text-align: right;\"> 9</td><td style=\"text-align: right;\">4</td><td style=\"text-align: right;\"> 1    </td><td style=\"text-align: right;\">0</td><td style=\"text-align: right;\">1</td><td style=\"text-align: right;\"> 1</td><td style=\"text-align: right;\">0</td><td style=\"text-align: right;\">2</td><td style=\"text-align: right;\"> 120</td><td style=\"text-align: right;\">    2</td></tr>\n",
       "<tr><td style=\"text-align: right;\">1.57903e+07</td><td style=\"text-align: right;\">0</td><td style=\"text-align: right;\">18.92</td><td style=\"text-align: right;\"> 9    </td><td style=\"text-align: right;\">2</td><td style=\"text-align: right;\"> 6</td><td style=\"text-align: right;\">4</td><td style=\"text-align: right;\"> 0.75 </td><td style=\"text-align: right;\">1</td><td style=\"text-align: right;\">1</td><td style=\"text-align: right;\"> 2</td><td style=\"text-align: right;\">0</td><td style=\"text-align: right;\">2</td><td style=\"text-align: right;\">  88</td><td style=\"text-align: right;\">  592</td></tr>\n",
       "<tr><td style=\"text-align: right;\">1.57686e+07</td><td style=\"text-align: right;\">0</td><td style=\"text-align: right;\">22.42</td><td style=\"text-align: right;\"> 5.665</td><td style=\"text-align: right;\">2</td><td style=\"text-align: right;\">11</td><td style=\"text-align: right;\">4</td><td style=\"text-align: right;\"> 2.585</td><td style=\"text-align: right;\">1</td><td style=\"text-align: right;\">1</td><td style=\"text-align: right;\"> 7</td><td style=\"text-align: right;\">0</td><td style=\"text-align: right;\">2</td><td style=\"text-align: right;\"> 129</td><td style=\"text-align: right;\"> 3258</td></tr>\n",
       "<tr><td style=\"text-align: right;\">1.57486e+07</td><td style=\"text-align: right;\">0</td><td style=\"text-align: right;\">30.67</td><td style=\"text-align: right;\">12    </td><td style=\"text-align: right;\">2</td><td style=\"text-align: right;\"> 8</td><td style=\"text-align: right;\">4</td><td style=\"text-align: right;\"> 2    </td><td style=\"text-align: right;\">1</td><td style=\"text-align: right;\">1</td><td style=\"text-align: right;\"> 1</td><td style=\"text-align: right;\">0</td><td style=\"text-align: right;\">2</td><td style=\"text-align: right;\"> 220</td><td style=\"text-align: right;\">   20</td></tr>\n",
       "<tr><td style=\"text-align: right;\">1.57575e+07</td><td style=\"text-align: right;\">0</td><td style=\"text-align: right;\">52.83</td><td style=\"text-align: right;\">15    </td><td style=\"text-align: right;\">2</td><td style=\"text-align: right;\"> 8</td><td style=\"text-align: right;\">4</td><td style=\"text-align: right;\"> 5.5  </td><td style=\"text-align: right;\">1</td><td style=\"text-align: right;\">1</td><td style=\"text-align: right;\">14</td><td style=\"text-align: right;\">0</td><td style=\"text-align: right;\">2</td><td style=\"text-align: right;\">   0</td><td style=\"text-align: right;\"> 2201</td></tr>\n",
       "<tr><td style=\"text-align: right;\">1.56826e+07</td><td style=\"text-align: right;\">0</td><td style=\"text-align: right;\">32.17</td><td style=\"text-align: right;\"> 1.46 </td><td style=\"text-align: right;\">2</td><td style=\"text-align: right;\"> 9</td><td style=\"text-align: right;\">4</td><td style=\"text-align: right;\"> 1.085</td><td style=\"text-align: right;\">1</td><td style=\"text-align: right;\">1</td><td style=\"text-align: right;\">16</td><td style=\"text-align: right;\">0</td><td style=\"text-align: right;\">2</td><td style=\"text-align: right;\"> 120</td><td style=\"text-align: right;\"> 2080</td></tr>\n",
       "<tr><td style=\"text-align: right;\">1.58014e+07</td><td style=\"text-align: right;\">0</td><td style=\"text-align: right;\">35.75</td><td style=\"text-align: right;\"> 0.915</td><td style=\"text-align: right;\">2</td><td style=\"text-align: right;\"> 6</td><td style=\"text-align: right;\">4</td><td style=\"text-align: right;\"> 0.75 </td><td style=\"text-align: right;\">1</td><td style=\"text-align: right;\">1</td><td style=\"text-align: right;\"> 4</td><td style=\"text-align: right;\">0</td><td style=\"text-align: right;\">2</td><td style=\"text-align: right;\">   0</td><td style=\"text-align: right;\"> 1584</td></tr>\n",
       "<tr><td style=\"text-align: right;\">1.58154e+07</td><td style=\"text-align: right;\">0</td><td style=\"text-align: right;\">57.08</td><td style=\"text-align: right;\">19.5  </td><td style=\"text-align: right;\">2</td><td style=\"text-align: right;\"> 8</td><td style=\"text-align: right;\">4</td><td style=\"text-align: right;\"> 5.5  </td><td style=\"text-align: right;\">1</td><td style=\"text-align: right;\">1</td><td style=\"text-align: right;\"> 7</td><td style=\"text-align: right;\">0</td><td style=\"text-align: right;\">2</td><td style=\"text-align: right;\">   0</td><td style=\"text-align: right;\"> 3001</td></tr>\n",
       "<tr><td style=\"text-align: right;\">1.57484e+07</td><td style=\"text-align: right;\">0</td><td style=\"text-align: right;\">58.33</td><td style=\"text-align: right;\">10    </td><td style=\"text-align: right;\">2</td><td style=\"text-align: right;\">11</td><td style=\"text-align: right;\">4</td><td style=\"text-align: right;\"> 4    </td><td style=\"text-align: right;\">1</td><td style=\"text-align: right;\">1</td><td style=\"text-align: right;\">14</td><td style=\"text-align: right;\">0</td><td style=\"text-align: right;\">2</td><td style=\"text-align: right;\">   0</td><td style=\"text-align: right;\"> 1603</td></tr>\n",
       "<tr><td style=\"text-align: right;\">1.57087e+07</td><td style=\"text-align: right;\">0</td><td style=\"text-align: right;\">18.75</td><td style=\"text-align: right;\"> 7.5  </td><td style=\"text-align: right;\">2</td><td style=\"text-align: right;\">11</td><td style=\"text-align: right;\">4</td><td style=\"text-align: right;\"> 2.71 </td><td style=\"text-align: right;\">1</td><td style=\"text-align: right;\">1</td><td style=\"text-align: right;\"> 5</td><td style=\"text-align: right;\">0</td><td style=\"text-align: right;\">2</td><td style=\"text-align: right;\"> 184</td><td style=\"text-align: right;\">26727</td></tr>\n",
       "<tr><td style=\"text-align: right;\">1.57881e+07</td><td style=\"text-align: right;\">0</td><td style=\"text-align: right;\">29.5 </td><td style=\"text-align: right;\"> 0.46 </td><td style=\"text-align: right;\">2</td><td style=\"text-align: right;\"> 4</td><td style=\"text-align: right;\">4</td><td style=\"text-align: right;\"> 0.54 </td><td style=\"text-align: right;\">1</td><td style=\"text-align: right;\">1</td><td style=\"text-align: right;\"> 4</td><td style=\"text-align: right;\">0</td><td style=\"text-align: right;\">2</td><td style=\"text-align: right;\"> 380</td><td style=\"text-align: right;\">  501</td></tr>\n",
       "<tr><td style=\"text-align: right;\">1.57e+07   </td><td style=\"text-align: right;\">0</td><td style=\"text-align: right;\">64.08</td><td style=\"text-align: right;\"> 0.165</td><td style=\"text-align: right;\">2</td><td style=\"text-align: right;\"> 1</td><td style=\"text-align: right;\">1</td><td style=\"text-align: right;\"> 0    </td><td style=\"text-align: right;\">1</td><td style=\"text-align: right;\">1</td><td style=\"text-align: right;\"> 1</td><td style=\"text-align: right;\">0</td><td style=\"text-align: right;\">2</td><td style=\"text-align: right;\"> 232</td><td style=\"text-align: right;\">  101</td></tr>\n",
       "<tr><td style=\"text-align: right;\">1.57719e+07</td><td style=\"text-align: right;\">0</td><td style=\"text-align: right;\">24.5 </td><td style=\"text-align: right;\">12.75 </td><td style=\"text-align: right;\">2</td><td style=\"text-align: right;\"> 8</td><td style=\"text-align: right;\">5</td><td style=\"text-align: right;\"> 4.75 </td><td style=\"text-align: right;\">1</td><td style=\"text-align: right;\">1</td><td style=\"text-align: right;\"> 2</td><td style=\"text-align: right;\">0</td><td style=\"text-align: right;\">2</td><td style=\"text-align: right;\">  73</td><td style=\"text-align: right;\">  445</td></tr>\n",
       "<tr><td style=\"text-align: right;\">1.56489e+07</td><td style=\"text-align: right;\">0</td><td style=\"text-align: right;\">60.92</td><td style=\"text-align: right;\"> 5    </td><td style=\"text-align: right;\">2</td><td style=\"text-align: right;\"> 6</td><td style=\"text-align: right;\">4</td><td style=\"text-align: right;\"> 4    </td><td style=\"text-align: right;\">1</td><td style=\"text-align: right;\">1</td><td style=\"text-align: right;\"> 4</td><td style=\"text-align: right;\">0</td><td style=\"text-align: right;\">2</td><td style=\"text-align: right;\">   0</td><td style=\"text-align: right;\">  100</td></tr>\n",
       "<tr><td style=\"text-align: right;\">1.56794e+07</td><td style=\"text-align: right;\">0</td><td style=\"text-align: right;\">36   </td><td style=\"text-align: right;\"> 1    </td><td style=\"text-align: right;\">2</td><td style=\"text-align: right;\"> 8</td><td style=\"text-align: right;\">4</td><td style=\"text-align: right;\"> 2    </td><td style=\"text-align: right;\">1</td><td style=\"text-align: right;\">1</td><td style=\"text-align: right;\">11</td><td style=\"text-align: right;\">0</td><td style=\"text-align: right;\">2</td><td style=\"text-align: right;\">   0</td><td style=\"text-align: right;\">  457</td></tr>\n",
       "<tr><td style=\"text-align: right;\">1.56963e+07</td><td style=\"text-align: right;\">0</td><td style=\"text-align: right;\">58.42</td><td style=\"text-align: right;\">21    </td><td style=\"text-align: right;\">2</td><td style=\"text-align: right;\"> 3</td><td style=\"text-align: right;\">5</td><td style=\"text-align: right;\">10    </td><td style=\"text-align: right;\">1</td><td style=\"text-align: right;\">1</td><td style=\"text-align: right;\">13</td><td style=\"text-align: right;\">0</td><td style=\"text-align: right;\">2</td><td style=\"text-align: right;\">   0</td><td style=\"text-align: right;\"> 6701</td></tr>\n",
       "<tr><td style=\"text-align: right;\">1.5808e+07 </td><td style=\"text-align: right;\">0</td><td style=\"text-align: right;\">28.17</td><td style=\"text-align: right;\"> 0.375</td><td style=\"text-align: right;\">2</td><td style=\"text-align: right;\">11</td><td style=\"text-align: right;\">4</td><td style=\"text-align: right;\"> 0.585</td><td style=\"text-align: right;\">1</td><td style=\"text-align: right;\">1</td><td style=\"text-align: right;\"> 4</td><td style=\"text-align: right;\">0</td><td style=\"text-align: right;\">2</td><td style=\"text-align: right;\">  80</td><td style=\"text-align: right;\">    1</td></tr>\n",
       "<tr><td style=\"text-align: right;\">1.57951e+07</td><td style=\"text-align: right;\">0</td><td style=\"text-align: right;\">19.17</td><td style=\"text-align: right;\"> 8.585</td><td style=\"text-align: right;\">2</td><td style=\"text-align: right;\">13</td><td style=\"text-align: right;\">8</td><td style=\"text-align: right;\"> 0.75 </td><td style=\"text-align: right;\">1</td><td style=\"text-align: right;\">1</td><td style=\"text-align: right;\"> 7</td><td style=\"text-align: right;\">0</td><td style=\"text-align: right;\">2</td><td style=\"text-align: right;\">  96</td><td style=\"text-align: right;\">    1</td></tr>\n",
       "<tr><td style=\"text-align: right;\">1.58084e+07</td><td style=\"text-align: right;\">0</td><td style=\"text-align: right;\">22.5 </td><td style=\"text-align: right;\"> 8.5  </td><td style=\"text-align: right;\">2</td><td style=\"text-align: right;\">11</td><td style=\"text-align: right;\">4</td><td style=\"text-align: right;\"> 1.75 </td><td style=\"text-align: right;\">1</td><td style=\"text-align: right;\">1</td><td style=\"text-align: right;\">10</td><td style=\"text-align: right;\">0</td><td style=\"text-align: right;\">2</td><td style=\"text-align: right;\">  80</td><td style=\"text-align: right;\">  991</td></tr>\n",
       "<tr><td style=\"text-align: right;\">1.56987e+07</td><td style=\"text-align: right;\">0</td><td style=\"text-align: right;\">56.5 </td><td style=\"text-align: right;\">16    </td><td style=\"text-align: right;\">2</td><td style=\"text-align: right;\"> 5</td><td style=\"text-align: right;\">1</td><td style=\"text-align: right;\"> 0    </td><td style=\"text-align: right;\">1</td><td style=\"text-align: right;\">1</td><td style=\"text-align: right;\">15</td><td style=\"text-align: right;\">0</td><td style=\"text-align: right;\">2</td><td style=\"text-align: right;\">   0</td><td style=\"text-align: right;\">  248</td></tr>\n",
       "<tr><td style=\"text-align: right;\">1.57648e+07</td><td style=\"text-align: right;\">0</td><td style=\"text-align: right;\">20.42</td><td style=\"text-align: right;\"> 7.5  </td><td style=\"text-align: right;\">2</td><td style=\"text-align: right;\"> 4</td><td style=\"text-align: right;\">4</td><td style=\"text-align: right;\"> 1.5  </td><td style=\"text-align: right;\">1</td><td style=\"text-align: right;\">1</td><td style=\"text-align: right;\"> 1</td><td style=\"text-align: right;\">0</td><td style=\"text-align: right;\">2</td><td style=\"text-align: right;\"> 160</td><td style=\"text-align: right;\">  235</td></tr>\n",
       "<tr><td style=\"text-align: right;\">1.57486e+07</td><td style=\"text-align: right;\">0</td><td style=\"text-align: right;\">21.25</td><td style=\"text-align: right;\"> 2.335</td><td style=\"text-align: right;\">2</td><td style=\"text-align: right;\"> 3</td><td style=\"text-align: right;\">5</td><td style=\"text-align: right;\"> 0.5  </td><td style=\"text-align: right;\">1</td><td style=\"text-align: right;\">1</td><td style=\"text-align: right;\"> 4</td><td style=\"text-align: right;\">0</td><td style=\"text-align: right;\">1</td><td style=\"text-align: right;\">  80</td><td style=\"text-align: right;\">    1</td></tr>\n",
       "<tr><td style=\"text-align: right;\">1.57297e+07</td><td style=\"text-align: right;\">0</td><td style=\"text-align: right;\">21.5 </td><td style=\"text-align: right;\"> 6    </td><td style=\"text-align: right;\">2</td><td style=\"text-align: right;\"> 6</td><td style=\"text-align: right;\">4</td><td style=\"text-align: right;\"> 2.5  </td><td style=\"text-align: right;\">1</td><td style=\"text-align: right;\">1</td><td style=\"text-align: right;\"> 3</td><td style=\"text-align: right;\">0</td><td style=\"text-align: right;\">2</td><td style=\"text-align: right;\">  80</td><td style=\"text-align: right;\">  919</td></tr>\n",
       "<tr><td style=\"text-align: right;\">1.57865e+07</td><td style=\"text-align: right;\">0</td><td style=\"text-align: right;\">20.67</td><td style=\"text-align: right;\"> 1.835</td><td style=\"text-align: right;\">2</td><td style=\"text-align: right;\">11</td><td style=\"text-align: right;\">4</td><td style=\"text-align: right;\"> 2.085</td><td style=\"text-align: right;\">1</td><td style=\"text-align: right;\">1</td><td style=\"text-align: right;\"> 5</td><td style=\"text-align: right;\">0</td><td style=\"text-align: right;\">2</td><td style=\"text-align: right;\"> 220</td><td style=\"text-align: right;\"> 2504</td></tr>\n",
       "<tr><td style=\"text-align: right;\">1.57738e+07</td><td style=\"text-align: right;\">0</td><td style=\"text-align: right;\">35.42</td><td style=\"text-align: right;\">12    </td><td style=\"text-align: right;\">2</td><td style=\"text-align: right;\">11</td><td style=\"text-align: right;\">8</td><td style=\"text-align: right;\">14    </td><td style=\"text-align: right;\">1</td><td style=\"text-align: right;\">1</td><td style=\"text-align: right;\"> 8</td><td style=\"text-align: right;\">0</td><td style=\"text-align: right;\">2</td><td style=\"text-align: right;\">   0</td><td style=\"text-align: right;\"> 6591</td></tr>\n",
       "<tr><td style=\"text-align: right;\">1.57783e+07</td><td style=\"text-align: right;\">0</td><td style=\"text-align: right;\">17.83</td><td style=\"text-align: right;\">11    </td><td style=\"text-align: right;\">2</td><td style=\"text-align: right;\">14</td><td style=\"text-align: right;\">8</td><td style=\"text-align: right;\"> 1    </td><td style=\"text-align: right;\">1</td><td style=\"text-align: right;\">1</td><td style=\"text-align: right;\">11</td><td style=\"text-align: right;\">0</td><td style=\"text-align: right;\">2</td><td style=\"text-align: right;\">   0</td><td style=\"text-align: right;\"> 3001</td></tr>\n",
       "<tr><td style=\"text-align: right;\">1.57918e+07</td><td style=\"text-align: right;\">0</td><td style=\"text-align: right;\">26.92</td><td style=\"text-align: right;\">13.5  </td><td style=\"text-align: right;\">2</td><td style=\"text-align: right;\">11</td><td style=\"text-align: right;\">8</td><td style=\"text-align: right;\"> 5    </td><td style=\"text-align: right;\">1</td><td style=\"text-align: right;\">1</td><td style=\"text-align: right;\"> 2</td><td style=\"text-align: right;\">0</td><td style=\"text-align: right;\">2</td><td style=\"text-align: right;\">   0</td><td style=\"text-align: right;\"> 5001</td></tr>\n",
       "<tr><td style=\"text-align: right;\">1.56676e+07</td><td style=\"text-align: right;\">0</td><td style=\"text-align: right;\">24.5 </td><td style=\"text-align: right;\"> 1.04 </td><td style=\"text-align: right;\">1</td><td style=\"text-align: right;\"> 1</td><td style=\"text-align: right;\">1</td><td style=\"text-align: right;\"> 0.5  </td><td style=\"text-align: right;\">1</td><td style=\"text-align: right;\">1</td><td style=\"text-align: right;\"> 3</td><td style=\"text-align: right;\">0</td><td style=\"text-align: right;\">2</td><td style=\"text-align: right;\"> 180</td><td style=\"text-align: right;\">  148</td></tr>\n",
       "<tr><td style=\"text-align: right;\">1.57765e+07</td><td style=\"text-align: right;\">0</td><td style=\"text-align: right;\">27.42</td><td style=\"text-align: right;\">14.5  </td><td style=\"text-align: right;\">2</td><td style=\"text-align: right;\">14</td><td style=\"text-align: right;\">8</td><td style=\"text-align: right;\"> 3.085</td><td style=\"text-align: right;\">1</td><td style=\"text-align: right;\">1</td><td style=\"text-align: right;\"> 1</td><td style=\"text-align: right;\">0</td><td style=\"text-align: right;\">2</td><td style=\"text-align: right;\"> 120</td><td style=\"text-align: right;\">   12</td></tr>\n",
       "</tbody>\n",
       "</table>"
      ],
      "text/plain": [
       "<IPython.core.display.HTML object>"
      ]
     },
     "metadata": {},
     "output_type": "display_data"
    }
   ],
   "source": [
    "display(HTML(tabulate.tabulate(frauds, tablefmt='html')))"
   ]
  }
 ],
 "metadata": {
  "kernelspec": {
   "display_name": "Python 3",
   "language": "python",
   "name": "python3"
  },
  "language_info": {
   "codemirror_mode": {
    "name": "ipython",
    "version": 3
   },
   "file_extension": ".py",
   "mimetype": "text/x-python",
   "name": "python",
   "nbconvert_exporter": "python",
   "pygments_lexer": "ipython3",
   "version": "3.7.6"
  }
 },
 "nbformat": 4,
 "nbformat_minor": 4
}
