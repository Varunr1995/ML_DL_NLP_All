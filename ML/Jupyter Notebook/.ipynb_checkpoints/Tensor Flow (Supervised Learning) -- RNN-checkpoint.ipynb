{
 "cells": [
  {
   "cell_type": "code",
   "execution_count": 1,
   "metadata": {},
   "outputs": [],
   "source": [
    "import pandas as pd\n",
    "import numpy as np\n",
    "import matplotlib.pyplot as plt"
   ]
  },
  {
   "cell_type": "code",
   "execution_count": 2,
   "metadata": {},
   "outputs": [],
   "source": [
    "df_train = pd.read_csv(\"G:/Education/Machine Learning/ML_CSV_FILES/RNN Dataset Google Stocks/Google_Stock_Price_Train.csv\")"
   ]
  },
  {
   "cell_type": "code",
   "execution_count": 3,
   "metadata": {},
   "outputs": [],
   "source": [
    "train_set = df_train.iloc[:, 1:2].values"
   ]
  },
  {
   "cell_type": "code",
   "execution_count": 4,
   "metadata": {},
   "outputs": [],
   "source": [
    "from sklearn.preprocessing import MinMaxScaler"
   ]
  },
  {
   "cell_type": "code",
   "execution_count": 5,
   "metadata": {},
   "outputs": [],
   "source": [
    "sc = MinMaxScaler(feature_range=(0,1))"
   ]
  },
  {
   "cell_type": "code",
   "execution_count": 6,
   "metadata": {},
   "outputs": [],
   "source": [
    "train_set_scaled = sc.fit_transform(train_set)"
   ]
  },
  {
   "cell_type": "markdown",
   "metadata": {},
   "source": [
    "### Creating a data structure with timesteps and 1 output"
   ]
  },
  {
   "cell_type": "markdown",
   "metadata": {},
   "source": [
    "The use of time steps.\n",
    "    * At each time T the rnn is going to look back to the stock prices between 60 days before time T and time T. \n",
    "    * Based on the 60 previous stock prices it will predict new output.\n",
    "    * We can use as many time steps as possible and fixing to one number by doing trail & error method."
   ]
  },
  {
   "cell_type": "code",
   "execution_count": 7,
   "metadata": {},
   "outputs": [],
   "source": [
    "x_train = []\n",
    "y_train = []\n",
    "for i in range(60, 1258): # 60 be the starting point and 1258 be the end point as there are 1257 elements in the training data set # \n",
    "    x_train.append(train_set_scaled[i-60:i, 0]) # If i = 60 then 60-60=0 then train_set_scaled[0:60] will start from 0 to 60and the process continues#\n",
    "    y_train.append(train_set_scaled[i,0])"
   ]
  },
  {
   "cell_type": "code",
   "execution_count": 8,
   "metadata": {},
   "outputs": [],
   "source": [
    "x_train, y_train = np.array(x_train), np.array(y_train)"
   ]
  },
  {
   "cell_type": "markdown",
   "metadata": {},
   "source": [
    "### Reshaping"
   ]
  },
  {
   "cell_type": "markdown",
   "metadata": {},
   "source": [
    "We can find all the related docs of tensorflow keras in keras documentation. The belo code is imported from Keras Docs"
   ]
  },
  {
   "cell_type": "code",
   "execution_count": 9,
   "metadata": {},
   "outputs": [],
   "source": [
    "x_train = np.reshape(x_train, (x_train.shape[0], x_train.shape[1],1))"
   ]
  },
  {
   "cell_type": "markdown",
   "metadata": {},
   "source": [
    "# Building RNN"
   ]
  },
  {
   "cell_type": "code",
   "execution_count": 10,
   "metadata": {},
   "outputs": [],
   "source": [
    "from tensorflow.keras.models import Sequential\n",
    "from tensorflow.keras.layers import Dense, LSTM, Dropout"
   ]
  },
  {
   "cell_type": "code",
   "execution_count": 11,
   "metadata": {},
   "outputs": [],
   "source": [
    "regressor = Sequential()"
   ]
  },
  {
   "cell_type": "markdown",
   "metadata": {},
   "source": [
    "### Adding first LSTM Layer & Some Dropout Regularisation"
   ]
  },
  {
   "cell_type": "raw",
   "metadata": {},
   "source": [
    "Units being the neurons in the layers.\n",
    "\n",
    "return_sequences tells that there we will be adding(stacking) another Lstm layer, if we weren't adding another layer, we should update it as False or leaving it. Because the default value is False.\n",
    "\n",
    "input_shape refers to the \"time steps and indicators\""
   ]
  },
  {
   "cell_type": "code",
   "execution_count": 14,
   "metadata": {},
   "outputs": [],
   "source": [
    "regressor.add(LSTM(units = 50, return_sequences = True, input_shape = (x_train.shape[1],1))) # Need to mention the type of layer need to add #"
   ]
  },
  {
   "cell_type": "raw",
   "metadata": {},
   "source": [
    "Drop out refers to dropping 20 % of the neurons from the trainig set"
   ]
  },
  {
   "cell_type": "code",
   "execution_count": 16,
   "metadata": {},
   "outputs": [],
   "source": [
    "regressor.add(Dropout(0.2))"
   ]
  },
  {
   "cell_type": "markdown",
   "metadata": {},
   "source": [
    "### Adding Second LSTM Layer & Dropout Regularisation"
   ]
  },
  {
   "cell_type": "code",
   "execution_count": 18,
   "metadata": {},
   "outputs": [],
   "source": [
    "regressor.add(LSTM(units = 50, return_sequences = True)) # As this is second lstm layer there's no need of mentioning the input_shape. The input shape is considered from the first lstm layer#"
   ]
  },
  {
   "cell_type": "code",
   "execution_count": 19,
   "metadata": {},
   "outputs": [],
   "source": [
    "regressor.add(Dropout(0.2))"
   ]
  },
  {
   "cell_type": "markdown",
   "metadata": {},
   "source": [
    "### Adding Third LSTM Layer & Dropout Regularisation"
   ]
  },
  {
   "cell_type": "code",
   "execution_count": 21,
   "metadata": {},
   "outputs": [],
   "source": [
    "regressor.add(LSTM(units = 50, return_sequences = True))"
   ]
  },
  {
   "cell_type": "code",
   "execution_count": 22,
   "metadata": {},
   "outputs": [],
   "source": [
    "regressor.add(Dropout(0.2))"
   ]
  },
  {
   "cell_type": "markdown",
   "metadata": {},
   "source": [
    "### Adding Fourth LSTM Layer & Dropout Regularisation"
   ]
  },
  {
   "cell_type": "code",
   "execution_count": 23,
   "metadata": {},
   "outputs": [],
   "source": [
    "regressor.add(LSTM(units = 50)) # As this is the final Lstm layer there's no need of mentioning return_sequences #"
   ]
  },
  {
   "cell_type": "code",
   "execution_count": 24,
   "metadata": {},
   "outputs": [],
   "source": [
    "regressor.add(Dropout(0.2))"
   ]
  },
  {
   "cell_type": "markdown",
   "metadata": {},
   "source": [
    "### Adding the output layer"
   ]
  },
  {
   "cell_type": "code",
   "execution_count": 25,
   "metadata": {},
   "outputs": [],
   "source": [
    "regressor.add(Dense(units = 1)) # In order to connect all the layers in the tensorflow we need to use \"DENSE\" #"
   ]
  },
  {
   "cell_type": "markdown",
   "metadata": {},
   "source": [
    "# Compiling RNN"
   ]
  },
  {
   "cell_type": "code",
   "execution_count": 27,
   "metadata": {},
   "outputs": [],
   "source": [
    "regressor.compile(optimizer = 'adam', loss = 'mean_squared_error')"
   ]
  },
  {
   "cell_type": "markdown",
   "metadata": {},
   "source": [
    "# Fitting the RNN"
   ]
  },
  {
   "cell_type": "code",
   "execution_count": 28,
   "metadata": {},
   "outputs": [
    {
     "name": "stdout",
     "output_type": "stream",
     "text": [
      "WARNING:tensorflow:From C:\\Users\\varun\\anaconda3\\lib\\site-packages\\tensorflow\\python\\ops\\math_ops.py:3066: to_int32 (from tensorflow.python.ops.math_ops) is deprecated and will be removed in a future version.\n",
      "Instructions for updating:\n",
      "Use tf.cast instead.\n",
      "Epoch 1/100\n",
      "1198/1198 [==============================] - 19s 16ms/sample - loss: 0.0594\n",
      "Epoch 2/100\n",
      "1198/1198 [==============================] - 13s 11ms/sample - loss: 0.0078\n",
      "Epoch 3/100\n",
      "1198/1198 [==============================] - 15s 13ms/sample - loss: 0.0070\n",
      "Epoch 4/100\n",
      "1198/1198 [==============================] - 16s 13ms/sample - loss: 0.0067\n",
      "Epoch 5/100\n",
      "1198/1198 [==============================] - 18s 15ms/sample - loss: 0.0057\n",
      "Epoch 6/100\n",
      "1198/1198 [==============================] - 20s 17ms/sample - loss: 0.0051\n",
      "Epoch 7/100\n",
      "1198/1198 [==============================] - 23s 19ms/sample - loss: 0.0048\n",
      "Epoch 8/100\n",
      "1198/1198 [==============================] - 22s 19ms/sample - loss: 0.0046\n",
      "Epoch 9/100\n",
      "1198/1198 [==============================] - 25s 21ms/sample - loss: 0.0053\n",
      "Epoch 10/100\n",
      "1198/1198 [==============================] - 27s 23ms/sample - loss: 0.0050\n",
      "Epoch 11/100\n",
      "1198/1198 [==============================] - 31s 26ms/sample - loss: 0.0046\n",
      "Epoch 12/100\n",
      "1198/1198 [==============================] - 29s 24ms/sample - loss: 0.0041\n",
      "Epoch 13/100\n",
      "1198/1198 [==============================] - 28s 23ms/sample - loss: 0.0042\n",
      "Epoch 14/100\n",
      "1198/1198 [==============================] - 30s 25ms/sample - loss: 0.0046\n",
      "Epoch 15/100\n",
      "1198/1198 [==============================] - 29s 24ms/sample - loss: 0.0046\n",
      "Epoch 16/100\n",
      "1198/1198 [==============================] - 34s 28ms/sample - loss: 0.0040\n",
      "Epoch 17/100\n",
      "1198/1198 [==============================] - 32s 27ms/sample - loss: 0.0044\n",
      "Epoch 18/100\n",
      "1198/1198 [==============================] - 35s 29ms/sample - loss: 0.0043\n",
      "Epoch 19/100\n",
      "1198/1198 [==============================] - 38s 32ms/sample - loss: 0.0038\n",
      "Epoch 20/100\n",
      "1198/1198 [==============================] - 35s 29ms/sample - loss: 0.0033\n",
      "Epoch 21/100\n",
      "1198/1198 [==============================] - 43s 36ms/sample - loss: 0.0034\n",
      "Epoch 22/100\n",
      "1198/1198 [==============================] - 42s 35ms/sample - loss: 0.0038\n",
      "Epoch 23/100\n",
      "1198/1198 [==============================] - 39s 32ms/sample - loss: 0.0039\n",
      "Epoch 24/100\n",
      "1198/1198 [==============================] - 37s 31ms/sample - loss: 0.0034\n",
      "Epoch 25/100\n",
      "1198/1198 [==============================] - 40s 33ms/sample - loss: 0.0034\n",
      "Epoch 26/100\n",
      "1198/1198 [==============================] - 40s 33ms/sample - loss: 0.0032\n",
      "Epoch 27/100\n",
      "1198/1198 [==============================] - 36s 30ms/sample - loss: 0.0034\n",
      "Epoch 28/100\n",
      "1198/1198 [==============================] - 42s 35ms/sample - loss: 0.0031\n",
      "Epoch 29/100\n",
      "1198/1198 [==============================] - 37s 31ms/sample - loss: 0.0034\n",
      "Epoch 30/100\n",
      "1198/1198 [==============================] - 35s 29ms/sample - loss: 0.0034\n",
      "Epoch 31/100\n",
      "1198/1198 [==============================] - 37s 31ms/sample - loss: 0.0038\n",
      "Epoch 32/100\n",
      "1198/1198 [==============================] - 44s 36ms/sample - loss: 0.0029\n",
      "Epoch 33/100\n",
      "1198/1198 [==============================] - 43s 36ms/sample - loss: 0.0034\n",
      "Epoch 34/100\n",
      "1198/1198 [==============================] - 37s 31ms/sample - loss: 0.0028\n",
      "Epoch 35/100\n",
      "1198/1198 [==============================] - 37s 31ms/sample - loss: 0.0029\n",
      "Epoch 36/100\n",
      "1198/1198 [==============================] - 32s 26ms/sample - loss: 0.0028\n",
      "Epoch 37/100\n",
      "1198/1198 [==============================] - 35s 29ms/sample - loss: 0.0035\n",
      "Epoch 38/100\n",
      "1198/1198 [==============================] - 36s 30ms/sample - loss: 0.0034\n",
      "Epoch 39/100\n",
      "1198/1198 [==============================] - 31s 26ms/sample - loss: 0.0029\n",
      "Epoch 40/100\n",
      "1198/1198 [==============================] - 31s 26ms/sample - loss: 0.0030\n",
      "Epoch 41/100\n",
      "1198/1198 [==============================] - 31s 26ms/sample - loss: 0.0025\n",
      "Epoch 42/100\n",
      "1198/1198 [==============================] - 31s 26ms/sample - loss: 0.0027\n",
      "Epoch 43/100\n",
      "1198/1198 [==============================] - 30s 25ms/sample - loss: 0.0029\n",
      "Epoch 44/100\n",
      "1198/1198 [==============================] - 33s 28ms/sample - loss: 0.0029\n",
      "Epoch 45/100\n",
      "1198/1198 [==============================] - 37s 31ms/sample - loss: 0.0027\n",
      "Epoch 46/100\n",
      "1198/1198 [==============================] - 40s 33ms/sample - loss: 0.0024\n",
      "Epoch 47/100\n",
      "1198/1198 [==============================] - 39s 33ms/sample - loss: 0.0028\n",
      "Epoch 48/100\n",
      "1198/1198 [==============================] - 44s 37ms/sample - loss: 0.0027\n",
      "Epoch 49/100\n",
      "1198/1198 [==============================] - 36s 30ms/sample - loss: 0.0025\n",
      "Epoch 50/100\n",
      "1198/1198 [==============================] - 34s 29ms/sample - loss: 0.0028\n",
      "Epoch 51/100\n",
      "1198/1198 [==============================] - 34s 29ms/sample - loss: 0.0025\n",
      "Epoch 52/100\n",
      "1198/1198 [==============================] - 35s 29ms/sample - loss: 0.0026\n",
      "Epoch 53/100\n",
      "1198/1198 [==============================] - 36s 30ms/sample - loss: 0.0028\n",
      "Epoch 54/100\n",
      "1198/1198 [==============================] - 35s 29ms/sample - loss: 0.0025\n",
      "Epoch 55/100\n",
      "1198/1198 [==============================] - 33s 27ms/sample - loss: 0.0026\n",
      "Epoch 56/100\n",
      "1198/1198 [==============================] - 36s 30ms/sample - loss: 0.0025\n",
      "Epoch 57/100\n",
      "1198/1198 [==============================] - 32s 27ms/sample - loss: 0.0023\n",
      "Epoch 58/100\n",
      "1198/1198 [==============================] - 29s 24ms/sample - loss: 0.0025\n",
      "Epoch 59/100\n",
      "1198/1198 [==============================] - 28s 23ms/sample - loss: 0.0021\n",
      "Epoch 60/100\n",
      "1198/1198 [==============================] - 25s 21ms/sample - loss: 0.0025\n",
      "Epoch 61/100\n",
      "1198/1198 [==============================] - 28s 24ms/sample - loss: 0.0024\n",
      "Epoch 62/100\n",
      "1198/1198 [==============================] - 29s 24ms/sample - loss: 0.0021\n",
      "Epoch 63/100\n",
      "1198/1198 [==============================] - 30s 25ms/sample - loss: 0.0022\n",
      "Epoch 64/100\n",
      "1198/1198 [==============================] - 32s 27ms/sample - loss: 0.0022\n",
      "Epoch 65/100\n",
      "1198/1198 [==============================] - 33s 27ms/sample - loss: 0.0021\n",
      "Epoch 66/100\n",
      "1198/1198 [==============================] - 33s 27ms/sample - loss: 0.0022\n",
      "Epoch 67/100\n",
      "1198/1198 [==============================] - 37s 31ms/sample - loss: 0.0021\n",
      "Epoch 68/100\n",
      "1198/1198 [==============================] - 30s 25ms/sample - loss: 0.0024\n",
      "Epoch 69/100\n",
      "1198/1198 [==============================] - 33s 28ms/sample - loss: 0.0022\n",
      "Epoch 70/100\n",
      "1198/1198 [==============================] - 32s 27ms/sample - loss: 0.0021\n",
      "Epoch 71/100\n",
      "1198/1198 [==============================] - 37s 30ms/sample - loss: 0.0023\n",
      "Epoch 72/100\n",
      "1198/1198 [==============================] - 35s 29ms/sample - loss: 0.0021\n",
      "Epoch 73/100\n",
      "1198/1198 [==============================] - 29s 24ms/sample - loss: 0.0018\n",
      "Epoch 74/100\n",
      "1198/1198 [==============================] - 30s 25ms/sample - loss: 0.0020\n",
      "Epoch 75/100\n",
      "1198/1198 [==============================] - 31s 26ms/sample - loss: 0.0018\n",
      "Epoch 76/100\n",
      "1198/1198 [==============================] - 32s 26ms/sample - loss: 0.0020\n",
      "Epoch 77/100\n",
      "1198/1198 [==============================] - 32s 27ms/sample - loss: 0.0019\n",
      "Epoch 78/100\n",
      "1198/1198 [==============================] - 31s 26ms/sample - loss: 0.0020\n",
      "Epoch 79/100\n",
      "1198/1198 [==============================] - 31s 26ms/sample - loss: 0.0019\n",
      "Epoch 80/100\n",
      "1198/1198 [==============================] - 31s 26ms/sample - loss: 0.0022\n",
      "Epoch 81/100\n",
      "1198/1198 [==============================] - 34s 28ms/sample - loss: 0.0021\n",
      "Epoch 82/100\n",
      "1198/1198 [==============================] - 31s 26ms/sample - loss: 0.0018\n",
      "Epoch 83/100\n",
      "1198/1198 [==============================] - 28s 24ms/sample - loss: 0.0018\n",
      "Epoch 84/100\n",
      "1198/1198 [==============================] - 27s 23ms/sample - loss: 0.0018\n",
      "Epoch 85/100\n",
      "1198/1198 [==============================] - 25s 21ms/sample - loss: 0.0020\n",
      "Epoch 86/100\n",
      "1198/1198 [==============================] - 34s 29ms/sample - loss: 0.0017\n",
      "Epoch 87/100\n",
      "1198/1198 [==============================] - 28s 24ms/sample - loss: 0.0017\n",
      "Epoch 88/100\n",
      "1198/1198 [==============================] - 27s 23ms/sample - loss: 0.0017\n",
      "Epoch 89/100\n",
      "1198/1198 [==============================] - 28s 24ms/sample - loss: 0.0021\n",
      "Epoch 90/100\n"
     ]
    },
    {
     "name": "stdout",
     "output_type": "stream",
     "text": [
      "1198/1198 [==============================] - 30s 25ms/sample - loss: 0.0016\n",
      "Epoch 91/100\n",
      "1198/1198 [==============================] - 31s 26ms/sample - loss: 0.0016\n",
      "Epoch 92/100\n",
      "1198/1198 [==============================] - 28s 23ms/sample - loss: 0.0017\n",
      "Epoch 93/100\n",
      "1198/1198 [==============================] - 28s 23ms/sample - loss: 0.0018\n",
      "Epoch 94/100\n",
      "1198/1198 [==============================] - 40s 34ms/sample - loss: 0.0018\n",
      "Epoch 95/100\n",
      "1198/1198 [==============================] - 40s 34ms/sample - loss: 0.0018\n",
      "Epoch 96/100\n",
      "1198/1198 [==============================] - 41s 34ms/sample - loss: 0.0016\n",
      "Epoch 97/100\n",
      "1198/1198 [==============================] - 36s 30ms/sample - loss: 0.0018\n",
      "Epoch 98/100\n",
      "1198/1198 [==============================] - 37s 31ms/sample - loss: 0.0019\n",
      "Epoch 99/100\n",
      "1198/1198 [==============================] - 42s 35ms/sample - loss: 0.0013\n",
      "Epoch 100/100\n",
      "1198/1198 [==============================] - 39s 32ms/sample - loss: 0.0017\n"
     ]
    },
    {
     "data": {
      "text/plain": [
       "<tensorflow.python.keras.callbacks.History at 0x1c26d296208>"
      ]
     },
     "execution_count": 28,
     "metadata": {},
     "output_type": "execute_result"
    }
   ],
   "source": [
    "regressor.fit(x_train, y_train, epochs = 100, batch_size = 32)"
   ]
  },
  {
   "cell_type": "markdown",
   "metadata": {},
   "source": [
    "# Predictions"
   ]
  },
  {
   "cell_type": "markdown",
   "metadata": {},
   "source": [
    "### Predicting Real stock prices of 2017"
   ]
  },
  {
   "cell_type": "code",
   "execution_count": 29,
   "metadata": {},
   "outputs": [],
   "source": [
    "df_test = pd.read_csv(\"G:/Education/Machine Learning/ML_CSV_FILES/RNN Dataset Google Stocks/Google_Stock_Price_Test.csv\")"
   ]
  },
  {
   "cell_type": "code",
   "execution_count": 30,
   "metadata": {},
   "outputs": [],
   "source": [
    "real_stock_price = df_test.iloc[:, 1:2].values"
   ]
  },
  {
   "cell_type": "markdown",
   "metadata": {},
   "source": [
    "Open helps in considering all the columns and its variables in to the dataset.\n",
    "\n",
    "For horizantal concating we use axis = 1\n",
    "\n",
    "For vertical concating we use axis = 0"
   ]
  },
  {
   "cell_type": "code",
   "execution_count": 31,
   "metadata": {},
   "outputs": [],
   "source": [
    "df_total = pd.concat((df_train['Open'], df_test['Open']), axis = 0) "
   ]
  },
  {
   "cell_type": "markdown",
   "metadata": {},
   "source": [
    "As we are predicting the future values of the stock price we need inputs to predict.\n",
    "    * As we have mentioned the considering of stock prices of previous 60 days in order to predict future. We need to provide the  date we need the price to be predicted.\n",
    "    \n",
    "    * The code will go through the data and considers 60 daya prior data.\n",
    "    \n",
    "    * 60 being the lower bound."
   ]
  },
  {
   "cell_type": "code",
   "execution_count": 32,
   "metadata": {},
   "outputs": [],
   "source": [
    "inputs = df_total[len(df_total) - len(df_test) - 60:].values"
   ]
  },
  {
   "cell_type": "code",
   "execution_count": 33,
   "metadata": {},
   "outputs": [],
   "source": [
    "inputs = inputs.reshape(-1,1)"
   ]
  },
  {
   "cell_type": "code",
   "execution_count": 34,
   "metadata": {},
   "outputs": [],
   "source": [
    "inputs = sc.transform(inputs)"
   ]
  },
  {
   "cell_type": "code",
   "execution_count": 35,
   "metadata": {},
   "outputs": [],
   "source": [
    "x_test = []"
   ]
  },
  {
   "cell_type": "code",
   "execution_count": 36,
   "metadata": {},
   "outputs": [],
   "source": [
    "for i in range(60, 80): # 60 being the lower bound, and  in the test set we have 20 values which means stock prices of 20 days. So 60days + 20days in the test set = 80 #\n",
    "    x_test.append(inputs[i-60:i, 0])"
   ]
  },
  {
   "cell_type": "code",
   "execution_count": 37,
   "metadata": {},
   "outputs": [],
   "source": [
    "x_test = np.array(x_test)"
   ]
  },
  {
   "cell_type": "code",
   "execution_count": 38,
   "metadata": {},
   "outputs": [],
   "source": [
    "x_test = np.reshape(x_test, (x_test.shape[0], x_test.shape[1], 1)) # 3D shape formatting #"
   ]
  },
  {
   "cell_type": "code",
   "execution_count": 39,
   "metadata": {},
   "outputs": [],
   "source": [
    "prediction = regressor.predict(x_test) "
   ]
  },
  {
   "cell_type": "code",
   "execution_count": 40,
   "metadata": {},
   "outputs": [],
   "source": [
    "prediction = sc.inverse_transform(prediction)"
   ]
  },
  {
   "cell_type": "markdown",
   "metadata": {},
   "source": [
    "# Visualisations"
   ]
  },
  {
   "cell_type": "code",
   "execution_count": 41,
   "metadata": {},
   "outputs": [
    {
     "data": {
      "image/png": "[encoded data removed]",
      "text/plain": [
       "<Figure size 1440x720 with 1 Axes>"
      ]
     },
     "metadata": {
      "needs_background": "light"
     },
     "output_type": "display_data"
    }
   ],
   "source": [
    "plt.figure(figsize = (20,10))\n",
    "plt.plot(real_stock_price, color = 'blue', label = 'Real Stock Price')\n",
    "plt.plot(prediction, color = 'red', label = 'Predicted Stock Price of Jan 2017')\n",
    "plt.title(\"Comparison of Stock Prices\")\n",
    "plt.xlabel(\"Date\")\n",
    "plt.ylabel(\"Price\")\n",
    "plt.legend()\n",
    "plt.show()"
   ]
  },
  {
   "cell_type": "code",
   "execution_count": null,
   "metadata": {},
   "outputs": [],
   "source": []
  }
 ],
 "metadata": {
  "kernelspec": {
   "display_name": "Python 3",
   "language": "python",
   "name": "python3"
  },
  "language_info": {
   "codemirror_mode": {
    "name": "ipython",
    "version": 3
   },
   "file_extension": ".py",
   "mimetype": "text/x-python",
   "name": "python",
   "nbconvert_exporter": "python",
   "pygments_lexer": "ipython3",
   "version": "3.7.6"
  }
 },
 "nbformat": 4,
 "nbformat_minor": 4
}
