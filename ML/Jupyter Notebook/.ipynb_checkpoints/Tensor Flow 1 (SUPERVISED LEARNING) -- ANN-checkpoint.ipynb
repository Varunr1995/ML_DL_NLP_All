{
 "cells": [
  {
   "cell_type": "code",
   "execution_count": 1,
   "metadata": {},
   "outputs": [],
   "source": [
    "import numpy as np\n",
    "import pandas as pd"
   ]
  },
  {
   "cell_type": "code",
   "execution_count": 3,
   "metadata": {},
   "outputs": [],
   "source": [
    "import tensorflow as tf"
   ]
  },
  {
   "cell_type": "code",
   "execution_count": 4,
   "metadata": {},
   "outputs": [
    {
     "data": {
      "text/html": [
       "<div>\n",
       "<style scoped>\n",
       "    .dataframe tbody tr th:only-of-type {\n",
       "        vertical-align: middle;\n",
       "    }\n",
       "\n",
       "    .dataframe tbody tr th {\n",
       "        vertical-align: top;\n",
       "    }\n",
       "\n",
       "    .dataframe thead th {\n",
       "        text-align: right;\n",
       "    }\n",
       "</style>\n",
       "<table border=\"1\" class=\"dataframe\">\n",
       "  <thead>\n",
       "    <tr style=\"text-align: right;\">\n",
       "      <th></th>\n",
       "      <th>RowNumber</th>\n",
       "      <th>CustomerId</th>\n",
       "      <th>Surname</th>\n",
       "      <th>CreditScore</th>\n",
       "      <th>Geography</th>\n",
       "      <th>Gender</th>\n",
       "      <th>Age</th>\n",
       "      <th>Tenure</th>\n",
       "      <th>Balance</th>\n",
       "      <th>NumOfProducts</th>\n",
       "      <th>HasCrCard</th>\n",
       "      <th>IsActiveMember</th>\n",
       "      <th>EstimatedSalary</th>\n",
       "      <th>Exited</th>\n",
       "    </tr>\n",
       "  </thead>\n",
       "  <tbody>\n",
       "    <tr>\n",
       "      <th>0</th>\n",
       "      <td>1</td>\n",
       "      <td>15634602</td>\n",
       "      <td>Hargrave</td>\n",
       "      <td>619</td>\n",
       "      <td>France</td>\n",
       "      <td>Female</td>\n",
       "      <td>42</td>\n",
       "      <td>2</td>\n",
       "      <td>0.00</td>\n",
       "      <td>1</td>\n",
       "      <td>1</td>\n",
       "      <td>1</td>\n",
       "      <td>101348.88</td>\n",
       "      <td>1</td>\n",
       "    </tr>\n",
       "    <tr>\n",
       "      <th>1</th>\n",
       "      <td>2</td>\n",
       "      <td>15647311</td>\n",
       "      <td>Hill</td>\n",
       "      <td>608</td>\n",
       "      <td>Spain</td>\n",
       "      <td>Female</td>\n",
       "      <td>41</td>\n",
       "      <td>1</td>\n",
       "      <td>83807.86</td>\n",
       "      <td>1</td>\n",
       "      <td>0</td>\n",
       "      <td>1</td>\n",
       "      <td>112542.58</td>\n",
       "      <td>0</td>\n",
       "    </tr>\n",
       "    <tr>\n",
       "      <th>2</th>\n",
       "      <td>3</td>\n",
       "      <td>15619304</td>\n",
       "      <td>Onio</td>\n",
       "      <td>502</td>\n",
       "      <td>France</td>\n",
       "      <td>Female</td>\n",
       "      <td>42</td>\n",
       "      <td>8</td>\n",
       "      <td>159660.80</td>\n",
       "      <td>3</td>\n",
       "      <td>1</td>\n",
       "      <td>0</td>\n",
       "      <td>113931.57</td>\n",
       "      <td>1</td>\n",
       "    </tr>\n",
       "    <tr>\n",
       "      <th>3</th>\n",
       "      <td>4</td>\n",
       "      <td>15701354</td>\n",
       "      <td>Boni</td>\n",
       "      <td>699</td>\n",
       "      <td>France</td>\n",
       "      <td>Female</td>\n",
       "      <td>39</td>\n",
       "      <td>1</td>\n",
       "      <td>0.00</td>\n",
       "      <td>2</td>\n",
       "      <td>0</td>\n",
       "      <td>0</td>\n",
       "      <td>93826.63</td>\n",
       "      <td>0</td>\n",
       "    </tr>\n",
       "    <tr>\n",
       "      <th>4</th>\n",
       "      <td>5</td>\n",
       "      <td>15737888</td>\n",
       "      <td>Mitchell</td>\n",
       "      <td>850</td>\n",
       "      <td>Spain</td>\n",
       "      <td>Female</td>\n",
       "      <td>43</td>\n",
       "      <td>2</td>\n",
       "      <td>125510.82</td>\n",
       "      <td>1</td>\n",
       "      <td>1</td>\n",
       "      <td>1</td>\n",
       "      <td>79084.10</td>\n",
       "      <td>0</td>\n",
       "    </tr>\n",
       "  </tbody>\n",
       "</table>\n",
       "</div>"
      ],
      "text/plain": [
       "   RowNumber  CustomerId   Surname  CreditScore Geography  Gender  Age  \\\n",
       "0          1    15634602  Hargrave          619    France  Female   42   \n",
       "1          2    15647311      Hill          608     Spain  Female   41   \n",
       "2          3    15619304      Onio          502    France  Female   42   \n",
       "3          4    15701354      Boni          699    France  Female   39   \n",
       "4          5    15737888  Mitchell          850     Spain  Female   43   \n",
       "\n",
       "   Tenure    Balance  NumOfProducts  HasCrCard  IsActiveMember  \\\n",
       "0       2       0.00              1          1               1   \n",
       "1       1   83807.86              1          0               1   \n",
       "2       8  159660.80              3          1               0   \n",
       "3       1       0.00              2          0               0   \n",
       "4       2  125510.82              1          1               1   \n",
       "\n",
       "   EstimatedSalary  Exited  \n",
       "0        101348.88       1  \n",
       "1        112542.58       0  \n",
       "2        113931.57       1  \n",
       "3         93826.63       0  \n",
       "4         79084.10       0  "
      ]
     },
     "execution_count": 4,
     "metadata": {},
     "output_type": "execute_result"
    }
   ],
   "source": [
    "df = pd.read_csv(\"G:/Education/Machine Learning/ML_CSV_FILES/Churn_Modelling.csv\")\n",
    "df.head()"
   ]
  },
  {
   "cell_type": "code",
   "execution_count": 5,
   "metadata": {},
   "outputs": [],
   "source": [
    "x = df.iloc[:, 3:13].values\n",
    "y = df.iloc[:, 13].values"
   ]
  },
  {
   "cell_type": "code",
   "execution_count": 6,
   "metadata": {},
   "outputs": [
    {
     "name": "stdout",
     "output_type": "stream",
     "text": [
      "[[619 'France' 'Female' ... 1 1 101348.88]\n",
      " [608 'Spain' 'Female' ... 0 1 112542.58]\n",
      " [502 'France' 'Female' ... 1 0 113931.57]\n",
      " ...\n",
      " [709 'France' 'Female' ... 0 1 42085.58]\n",
      " [772 'Germany' 'Male' ... 1 0 92888.52]\n",
      " [792 'France' 'Female' ... 1 0 38190.78]]\n"
     ]
    }
   ],
   "source": [
    "print(x)"
   ]
  },
  {
   "cell_type": "code",
   "execution_count": 7,
   "metadata": {},
   "outputs": [
    {
     "name": "stdout",
     "output_type": "stream",
     "text": [
      "[1 0 1 ... 1 1 0]\n"
     ]
    }
   ],
   "source": [
    "print(y)"
   ]
  },
  {
   "cell_type": "code",
   "execution_count": 8,
   "metadata": {},
   "outputs": [],
   "source": [
    "from sklearn.preprocessing import LabelEncoder, OneHotEncoder\n",
    "from sklearn.compose import ColumnTransformer"
   ]
  },
  {
   "cell_type": "code",
   "execution_count": 9,
   "metadata": {},
   "outputs": [],
   "source": [
    "encoder = LabelEncoder()"
   ]
  },
  {
   "cell_type": "code",
   "execution_count": 10,
   "metadata": {},
   "outputs": [],
   "source": [
    "x[:,2] = encoder.fit_transform(x[:,2])"
   ]
  },
  {
   "cell_type": "code",
   "execution_count": 11,
   "metadata": {},
   "outputs": [],
   "source": [
    "ct = ColumnTransformer(transformers=[('encoder', OneHotEncoder(), [1])], remainder = 'passthrough')\n",
    "x = np.array(ct.fit_transform(x))"
   ]
  },
  {
   "cell_type": "code",
   "execution_count": 12,
   "metadata": {},
   "outputs": [
    {
     "name": "stdout",
     "output_type": "stream",
     "text": [
      "[[1.0 0.0 0.0 ... 1 1 101348.88]\n",
      " [0.0 0.0 1.0 ... 0 1 112542.58]\n",
      " [1.0 0.0 0.0 ... 1 0 113931.57]\n",
      " ...\n",
      " [1.0 0.0 0.0 ... 0 1 42085.58]\n",
      " [0.0 1.0 0.0 ... 1 0 92888.52]\n",
      " [1.0 0.0 0.0 ... 1 0 38190.78]]\n"
     ]
    }
   ],
   "source": [
    "print(x)"
   ]
  },
  {
   "cell_type": "code",
   "execution_count": 13,
   "metadata": {},
   "outputs": [],
   "source": [
    "from sklearn.model_selection import train_test_split"
   ]
  },
  {
   "cell_type": "code",
   "execution_count": 14,
   "metadata": {},
   "outputs": [],
   "source": [
    "x_train, x_test, y_train, y_test = train_test_split(x,y,test_size = 0.2, random_state = 0)"
   ]
  },
  {
   "cell_type": "code",
   "execution_count": 15,
   "metadata": {},
   "outputs": [],
   "source": [
    "from sklearn.preprocessing import StandardScaler"
   ]
  },
  {
   "cell_type": "code",
   "execution_count": 16,
   "metadata": {},
   "outputs": [],
   "source": [
    "sc = StandardScaler()"
   ]
  },
  {
   "cell_type": "code",
   "execution_count": 17,
   "metadata": {},
   "outputs": [],
   "source": [
    "x_train = sc.fit_transform(x_train)\n",
    "x_test = sc.transform(x_test)"
   ]
  },
  {
   "cell_type": "markdown",
   "metadata": {},
   "source": [
    "# Building Neural Network"
   ]
  },
  {
   "cell_type": "markdown",
   "metadata": {},
   "source": [
    "### INITIALISING NEURAL NETWORK"
   ]
  },
  {
   "cell_type": "code",
   "execution_count": 18,
   "metadata": {},
   "outputs": [],
   "source": [
    "from tensorflow.keras.models import Sequential\n",
    "from tensorflow.keras.layers import Dense"
   ]
  },
  {
   "cell_type": "code",
   "execution_count": 19,
   "metadata": {},
   "outputs": [],
   "source": [
    "ann = Sequential()"
   ]
  },
  {
   "cell_type": "markdown",
   "metadata": {},
   "source": [
    "#### Adding the I/P layer & First Hidden Layer"
   ]
  },
  {
   "cell_type": "code",
   "execution_count": 20,
   "metadata": {},
   "outputs": [],
   "source": [
    "ann.add(Dense(units = 6, activation = 'relu'))"
   ]
  },
  {
   "cell_type": "markdown",
   "metadata": {},
   "source": [
    "#### Second Hidden Layer"
   ]
  },
  {
   "cell_type": "code",
   "execution_count": 21,
   "metadata": {},
   "outputs": [],
   "source": [
    "ann.add(Dense(units = 6, activation = 'relu'))"
   ]
  },
  {
   "cell_type": "markdown",
   "metadata": {},
   "source": [
    "#### ADDING THE OUTPUT LAYER"
   ]
  },
  {
   "cell_type": "code",
   "execution_count": 22,
   "metadata": {},
   "outputs": [],
   "source": [
    "ann.add(Dense(units = 1, activation = 'sigmoid'))"
   ]
  },
  {
   "cell_type": "markdown",
   "metadata": {},
   "source": [
    "### COMPILING THE NEURAL NETWORK"
   ]
  },
  {
   "cell_type": "code",
   "execution_count": 24,
   "metadata": {},
   "outputs": [],
   "source": [
    "ann.compile(optimizer = 'adam', loss = 'binary_crossentropy', metrics = ['accuracy'])"
   ]
  },
  {
   "cell_type": "code",
   "execution_count": 25,
   "metadata": {},
   "outputs": [
    {
     "name": "stdout",
     "output_type": "stream",
     "text": [
      "WARNING:tensorflow:From C:\\Users\\varun\\anaconda3\\lib\\site-packages\\tensorflow\\python\\ops\\math_ops.py:3066: to_int32 (from tensorflow.python.ops.math_ops) is deprecated and will be removed in a future version.\n",
      "Instructions for updating:\n",
      "Use tf.cast instead.\n",
      "Epoch 1/100\n",
      "8000/8000 [==============================] - 1s 90us/sample - loss: 0.7958 - acc: 0.4408\n",
      "Epoch 2/100\n",
      "8000/8000 [==============================] - 0s 51us/sample - loss: 0.5834 - acc: 0.7862\n",
      "Epoch 3/100\n",
      "8000/8000 [==============================] - 0s 49us/sample - loss: 0.4884 - acc: 0.7960\n",
      "Epoch 4/100\n",
      "8000/8000 [==============================] - 0s 54us/sample - loss: 0.4603 - acc: 0.7969\n",
      "Epoch 5/100\n",
      "8000/8000 [==============================] - 0s 51us/sample - loss: 0.4416 - acc: 0.8049\n",
      "Epoch 6/100\n",
      "8000/8000 [==============================] - 0s 56us/sample - loss: 0.4307 - acc: 0.8106\n",
      "Epoch 7/100\n",
      "8000/8000 [==============================] - 0s 56us/sample - loss: 0.4245 - acc: 0.8145\n",
      "Epoch 8/100\n",
      "8000/8000 [==============================] - 0s 57us/sample - loss: 0.4208 - acc: 0.8189\n",
      "Epoch 9/100\n",
      "8000/8000 [==============================] - 0s 56us/sample - loss: 0.4181 - acc: 0.8213\n",
      "Epoch 10/100\n",
      "8000/8000 [==============================] - 1s 84us/sample - loss: 0.4155 - acc: 0.8240\n",
      "Epoch 11/100\n",
      "8000/8000 [==============================] - 1s 67us/sample - loss: 0.4134 - acc: 0.8261\n",
      "Epoch 12/100\n",
      "8000/8000 [==============================] - 0s 57us/sample - loss: 0.4118 - acc: 0.8286\n",
      "Epoch 13/100\n",
      "8000/8000 [==============================] - 0s 54us/sample - loss: 0.4103 - acc: 0.8301\n",
      "Epoch 14/100\n",
      "8000/8000 [==============================] - 0s 58us/sample - loss: 0.4091 - acc: 0.8316\n",
      "Epoch 15/100\n",
      "8000/8000 [==============================] - 0s 55us/sample - loss: 0.4083 - acc: 0.8320\n",
      "Epoch 16/100\n",
      "8000/8000 [==============================] - 0s 56us/sample - loss: 0.4070 - acc: 0.8335\n",
      "Epoch 17/100\n",
      "8000/8000 [==============================] - 0s 57us/sample - loss: 0.4059 - acc: 0.8335\n",
      "Epoch 18/100\n",
      "8000/8000 [==============================] - 0s 55us/sample - loss: 0.4050 - acc: 0.8338\n",
      "Epoch 19/100\n",
      "8000/8000 [==============================] - 1s 64us/sample - loss: 0.4045 - acc: 0.8339\n",
      "Epoch 20/100\n",
      "8000/8000 [==============================] - 1s 72us/sample - loss: 0.4034 - acc: 0.8353\n",
      "Epoch 21/100\n",
      "8000/8000 [==============================] - 0s 61us/sample - loss: 0.4028 - acc: 0.8350\n",
      "Epoch 22/100\n",
      "8000/8000 [==============================] - 0s 48us/sample - loss: 0.4020 - acc: 0.8342\n",
      "Epoch 23/100\n",
      "8000/8000 [==============================] - 0s 51us/sample - loss: 0.4018 - acc: 0.8357\n",
      "Epoch 24/100\n",
      "8000/8000 [==============================] - 0s 48us/sample - loss: 0.4013 - acc: 0.8349\n",
      "Epoch 25/100\n",
      "8000/8000 [==============================] - 0s 51us/sample - loss: 0.4007 - acc: 0.8355\n",
      "Epoch 26/100\n",
      "8000/8000 [==============================] - 0s 48us/sample - loss: 0.4000 - acc: 0.8346\n",
      "Epoch 27/100\n",
      "8000/8000 [==============================] - 0s 50us/sample - loss: 0.3999 - acc: 0.8355\n",
      "Epoch 28/100\n",
      "8000/8000 [==============================] - 0s 53us/sample - loss: 0.3997 - acc: 0.8354\n",
      "Epoch 29/100\n",
      "8000/8000 [==============================] - 0s 57us/sample - loss: 0.3996 - acc: 0.8361\n",
      "Epoch 30/100\n",
      "8000/8000 [==============================] - 0s 59us/sample - loss: 0.3992 - acc: 0.8355\n",
      "Epoch 31/100\n",
      "8000/8000 [==============================] - 0s 56us/sample - loss: 0.3989 - acc: 0.8360\n",
      "Epoch 32/100\n",
      "8000/8000 [==============================] - 1s 76us/sample - loss: 0.3984 - acc: 0.8354\n",
      "Epoch 33/100\n",
      "8000/8000 [==============================] - 1s 65us/sample - loss: 0.3984 - acc: 0.8359\n",
      "Epoch 34/100\n",
      "8000/8000 [==============================] - 0s 53us/sample - loss: 0.3981 - acc: 0.8353\n",
      "Epoch 35/100\n",
      "8000/8000 [==============================] - 0s 53us/sample - loss: 0.3978 - acc: 0.8354\n",
      "Epoch 36/100\n",
      "8000/8000 [==============================] - 0s 52us/sample - loss: 0.3975 - acc: 0.8361\n",
      "Epoch 37/100\n",
      "8000/8000 [==============================] - 0s 51us/sample - loss: 0.3974 - acc: 0.8366\n",
      "Epoch 38/100\n",
      "8000/8000 [==============================] - 0s 57us/sample - loss: 0.3971 - acc: 0.8371\n",
      "Epoch 39/100\n",
      "8000/8000 [==============================] - 0s 60us/sample - loss: 0.3967 - acc: 0.8365\n",
      "Epoch 40/100\n",
      "8000/8000 [==============================] - 0s 54us/sample - loss: 0.3965 - acc: 0.8364\n",
      "Epoch 41/100\n",
      "8000/8000 [==============================] - 0s 58us/sample - loss: 0.3964 - acc: 0.8349\n",
      "Epoch 42/100\n",
      "8000/8000 [==============================] - 1s 70us/sample - loss: 0.3961 - acc: 0.8349\n",
      "Epoch 43/100\n",
      "8000/8000 [==============================] - 1s 67us/sample - loss: 0.3956 - acc: 0.8356\n",
      "Epoch 44/100\n",
      "8000/8000 [==============================] - 0s 52us/sample - loss: 0.3954 - acc: 0.8357\n",
      "Epoch 45/100\n",
      "8000/8000 [==============================] - 0s 54us/sample - loss: 0.3950 - acc: 0.8356\n",
      "Epoch 46/100\n",
      "8000/8000 [==============================] - 0s 51us/sample - loss: 0.3947 - acc: 0.8360\n",
      "Epoch 47/100\n",
      "8000/8000 [==============================] - 0s 56us/sample - loss: 0.3942 - acc: 0.8360\n",
      "Epoch 48/100\n",
      "8000/8000 [==============================] - 0s 56us/sample - loss: 0.3942 - acc: 0.8351\n",
      "Epoch 49/100\n",
      "8000/8000 [==============================] - 0s 56us/sample - loss: 0.3939 - acc: 0.8350\n",
      "Epoch 50/100\n",
      "8000/8000 [==============================] - 0s 51us/sample - loss: 0.3938 - acc: 0.8363\n",
      "Epoch 51/100\n",
      "8000/8000 [==============================] - 0s 52us/sample - loss: 0.3934 - acc: 0.8365\n",
      "Epoch 52/100\n",
      "8000/8000 [==============================] - 0s 53us/sample - loss: 0.3931 - acc: 0.8364\n",
      "Epoch 53/100\n",
      "8000/8000 [==============================] - 1s 69us/sample - loss: 0.3929 - acc: 0.8357\n",
      "Epoch 54/100\n",
      "8000/8000 [==============================] - 1s 73us/sample - loss: 0.3927 - acc: 0.8359\n",
      "Epoch 55/100\n",
      "8000/8000 [==============================] - 1s 64us/sample - loss: 0.3926 - acc: 0.83630s - loss: 0.3926 - ac\n",
      "Epoch 56/100\n",
      "8000/8000 [==============================] - 0s 56us/sample - loss: 0.3921 - acc: 0.8381\n",
      "Epoch 57/100\n",
      "8000/8000 [==============================] - 0s 52us/sample - loss: 0.3917 - acc: 0.8363\n",
      "Epoch 58/100\n",
      "8000/8000 [==============================] - 0s 53us/sample - loss: 0.3917 - acc: 0.8363\n",
      "Epoch 59/100\n",
      "8000/8000 [==============================] - 0s 50us/sample - loss: 0.3912 - acc: 0.8371\n",
      "Epoch 60/100\n",
      "8000/8000 [==============================] - 0s 51us/sample - loss: 0.3911 - acc: 0.8361\n",
      "Epoch 61/100\n",
      "8000/8000 [==============================] - 0s 50us/sample - loss: 0.3908 - acc: 0.8378\n",
      "Epoch 62/100\n",
      "8000/8000 [==============================] - 0s 51us/sample - loss: 0.3903 - acc: 0.8379\n",
      "Epoch 63/100\n",
      "8000/8000 [==============================] - 0s 56us/sample - loss: 0.3897 - acc: 0.8389\n",
      "Epoch 64/100\n",
      "8000/8000 [==============================] - 1s 71us/sample - loss: 0.3889 - acc: 0.8386\n",
      "Epoch 65/100\n",
      "8000/8000 [==============================] - 1s 63us/sample - loss: 0.3877 - acc: 0.8381\n",
      "Epoch 66/100\n",
      "8000/8000 [==============================] - 0s 48us/sample - loss: 0.3863 - acc: 0.8393\n",
      "Epoch 67/100\n",
      "8000/8000 [==============================] - 0s 52us/sample - loss: 0.3850 - acc: 0.8393\n",
      "Epoch 68/100\n",
      "8000/8000 [==============================] - 0s 51us/sample - loss: 0.3838 - acc: 0.8384\n",
      "Epoch 69/100\n",
      "8000/8000 [==============================] - 0s 56us/sample - loss: 0.3821 - acc: 0.8389\n",
      "Epoch 70/100\n",
      "8000/8000 [==============================] - 0s 54us/sample - loss: 0.3806 - acc: 0.8406\n",
      "Epoch 71/100\n",
      "8000/8000 [==============================] - 0s 59us/sample - loss: 0.3788 - acc: 0.8406\n",
      "Epoch 72/100\n",
      "8000/8000 [==============================] - 0s 51us/sample - loss: 0.3767 - acc: 0.8413\n",
      "Epoch 73/100\n",
      "8000/8000 [==============================] - 0s 49us/sample - loss: 0.3735 - acc: 0.8403\n",
      "Epoch 74/100\n",
      "8000/8000 [==============================] - 0s 61us/sample - loss: 0.3680 - acc: 0.8430\n",
      "Epoch 75/100\n",
      "8000/8000 [==============================] - 1s 74us/sample - loss: 0.3603 - acc: 0.8487\n",
      "Epoch 76/100\n",
      "8000/8000 [==============================] - 1s 75us/sample - loss: 0.3527 - acc: 0.8540\n",
      "Epoch 77/100\n",
      "8000/8000 [==============================] - 0s 50us/sample - loss: 0.3464 - acc: 0.8585\n",
      "Epoch 78/100\n",
      "8000/8000 [==============================] - 0s 53us/sample - loss: 0.3439 - acc: 0.8605\n",
      "Epoch 79/100\n",
      "8000/8000 [==============================] - 0s 49us/sample - loss: 0.3413 - acc: 0.8601\n",
      "Epoch 80/100\n",
      "8000/8000 [==============================] - 0s 51us/sample - loss: 0.3393 - acc: 0.8606\n",
      "Epoch 81/100\n",
      "8000/8000 [==============================] - 0s 48us/sample - loss: 0.3379 - acc: 0.8619\n",
      "Epoch 82/100\n",
      "8000/8000 [==============================] - 0s 55us/sample - loss: 0.3365 - acc: 0.8624\n",
      "Epoch 83/100\n",
      "8000/8000 [==============================] - 0s 48us/sample - loss: 0.3360 - acc: 0.8622\n",
      "Epoch 84/100\n",
      "8000/8000 [==============================] - ETA: 0s - loss: 0.3342 - acc: 0.862 - 0s 48us/sample - loss: 0.3347 - acc: 0.8627\n",
      "Epoch 85/100\n",
      "8000/8000 [==============================] - 0s 51us/sample - loss: 0.3343 - acc: 0.86150s - loss: 0.3249 - acc: \n",
      "Epoch 86/100\n",
      "8000/8000 [==============================] - 0s 59us/sample - loss: 0.3337 - acc: 0.8614\n",
      "Epoch 87/100\n",
      "8000/8000 [==============================] - 1s 76us/sample - loss: 0.3329 - acc: 0.8604\n",
      "Epoch 88/100\n",
      "8000/8000 [==============================] - 0s 47us/sample - loss: 0.3326 - acc: 0.8619\n",
      "Epoch 89/100\n",
      "8000/8000 [==============================] - 0s 50us/sample - loss: 0.3323 - acc: 0.8611\n",
      "Epoch 90/100\n",
      "8000/8000 [==============================] - 0s 48us/sample - loss: 0.3317 - acc: 0.8644\n",
      "Epoch 91/100\n",
      "8000/8000 [==============================] - 0s 46us/sample - loss: 0.3317 - acc: 0.8624\n",
      "Epoch 92/100\n",
      "8000/8000 [==============================] - 0s 49us/sample - loss: 0.3315 - acc: 0.8634\n",
      "Epoch 93/100\n",
      "8000/8000 [==============================] - 0s 48us/sample - loss: 0.3309 - acc: 0.8640\n",
      "Epoch 94/100\n",
      "8000/8000 [==============================] - 0s 52us/sample - loss: 0.3312 - acc: 0.8615\n",
      "Epoch 95/100\n",
      "8000/8000 [==============================] - 0s 46us/sample - loss: 0.3307 - acc: 0.8640\n",
      "Epoch 96/100\n",
      "8000/8000 [==============================] - 0s 47us/sample - loss: 0.3301 - acc: 0.8641\n",
      "Epoch 97/100\n",
      "8000/8000 [==============================] - 0s 50us/sample - loss: 0.3307 - acc: 0.8627\n",
      "Epoch 98/100\n",
      "8000/8000 [==============================] - 0s 60us/sample - loss: 0.3304 - acc: 0.8644\n",
      "Epoch 99/100\n",
      "8000/8000 [==============================] - 1s 76us/sample - loss: 0.3304 - acc: 0.8650\n",
      "Epoch 100/100\n",
      "8000/8000 [==============================] - 0s 49us/sample - loss: 0.3301 - acc: 0.8633\n"
     ]
    },
    {
     "data": {
      "text/plain": [
       "<tensorflow.python.keras.callbacks.History at 0x2a6d4e1c088>"
      ]
     },
     "execution_count": 25,
     "metadata": {},
     "output_type": "execute_result"
    }
   ],
   "source": [
    "ann.fit(x_train, y_train, batch_size = 32, epochs = 100)"
   ]
  },
  {
   "cell_type": "markdown",
   "metadata": {},
   "source": [
    "# PREDICTION "
   ]
  },
  {
   "cell_type": "code",
   "execution_count": 26,
   "metadata": {},
   "outputs": [],
   "source": [
    "prediction = ann.predict(x_test)"
   ]
  },
  {
   "cell_type": "code",
   "execution_count": 28,
   "metadata": {},
   "outputs": [
    {
     "name": "stdout",
     "output_type": "stream",
     "text": [
      "[[0 0]\n",
      " [0 1]\n",
      " [0 0]\n",
      " ...\n",
      " [0 0]\n",
      " [0 0]\n",
      " [0 0]]\n"
     ]
    }
   ],
   "source": [
    "prediction = (prediction > 0.5)\n",
    "print(np.concatenate((prediction.reshape(len(prediction),1), y_test.reshape(len(y_test),1)),1))"
   ]
  },
  {
   "cell_type": "markdown",
   "metadata": {},
   "source": [
    "Geography: France\n",
    "\n",
    "Credit Score: 600\n",
    "\n",
    "Gender: Male\n",
    "\n",
    "Age: 40 years old\n",
    "\n",
    "Tenure: 3 years\n",
    "\n",
    "Balance: $ 60000\n",
    "\n",
    "Number of Products: 2\n",
    "\n",
    "Does this customer have a credit card ? Yes\n",
    "\n",
    "Is this customer an Active Member: Yes\n",
    "\n",
    "Estimated Salary: $ 50000\n",
    "\n",
    "So, should we say goodbye to that customer "
   ]
  },
  {
   "cell_type": "code",
   "execution_count": 29,
   "metadata": {},
   "outputs": [
    {
     "name": "stdout",
     "output_type": "stream",
     "text": [
      "[[False]]\n"
     ]
    }
   ],
   "source": [
    "print(ann.predict(sc.transform([[1, 0, 0, 600, 1, 40, 3, 60000, 2, 1, 1, 50000]])) > 0.5)"
   ]
  },
  {
   "cell_type": "markdown",
   "metadata": {},
   "source": [
    "The Predicted result states that person will continue his account in the bank"
   ]
  },
  {
   "cell_type": "markdown",
   "metadata": {},
   "source": [
    "# CONFUSION MATRIX"
   ]
  },
  {
   "cell_type": "code",
   "execution_count": 30,
   "metadata": {},
   "outputs": [],
   "source": [
    "from sklearn.metrics import confusion_matrix, accuracy_score"
   ]
  },
  {
   "cell_type": "code",
   "execution_count": 31,
   "metadata": {},
   "outputs": [
    {
     "data": {
      "text/plain": [
       "array([[1510,   85],\n",
       "       [ 194,  211]], dtype=int64)"
      ]
     },
     "execution_count": 31,
     "metadata": {},
     "output_type": "execute_result"
    }
   ],
   "source": [
    "cm = confusion_matrix(y_test, prediction)\n",
    "cm"
   ]
  },
  {
   "cell_type": "code",
   "execution_count": 32,
   "metadata": {},
   "outputs": [
    {
     "data": {
      "text/plain": [
       "0.8605"
      ]
     },
     "execution_count": 32,
     "metadata": {},
     "output_type": "execute_result"
    }
   ],
   "source": [
    "accuracy_score(y_test, prediction)"
   ]
  }
 ],
 "metadata": {
  "kernelspec": {
   "display_name": "Python 3",
   "language": "python",
   "name": "python3"
  },
  "language_info": {
   "codemirror_mode": {
    "name": "ipython",
    "version": 3
   },
   "file_extension": ".py",
   "mimetype": "text/x-python",
   "name": "python",
   "nbconvert_exporter": "python",
   "pygments_lexer": "ipython3",
   "version": "3.7.6"
  }
 },
 "nbformat": 4,
 "nbformat_minor": 4
}
