{
 "cells": [
  {
   "cell_type": "code",
   "execution_count": 1,
   "metadata": {},
   "outputs": [],
   "source": [
    "import pandas as pd\n",
    "import numpy as np\n",
    "import seaborn as sns\n",
    "import matplotlib.pyplot as plt\n",
    "%matplotlib inline"
   ]
  },
  {
   "cell_type": "code",
   "execution_count": 2,
   "metadata": {},
   "outputs": [
    {
     "name": "stderr",
     "output_type": "stream",
     "text": [
      "C:\\Users\\varun\\anaconda3\\envs\\condaenv\\lib\\site-packages\\tensorflow\\python\\framework\\dtypes.py:526: FutureWarning: Passing (type, 1) or '1type' as a synonym of type is deprecated; in a future version of numpy, it will be understood as (type, (1,)) / '(1,)type'.\n",
      "  _np_qint8 = np.dtype([(\"qint8\", np.int8, 1)])\n",
      "C:\\Users\\varun\\anaconda3\\envs\\condaenv\\lib\\site-packages\\tensorflow\\python\\framework\\dtypes.py:527: FutureWarning: Passing (type, 1) or '1type' as a synonym of type is deprecated; in a future version of numpy, it will be understood as (type, (1,)) / '(1,)type'.\n",
      "  _np_quint8 = np.dtype([(\"quint8\", np.uint8, 1)])\n",
      "C:\\Users\\varun\\anaconda3\\envs\\condaenv\\lib\\site-packages\\tensorflow\\python\\framework\\dtypes.py:528: FutureWarning: Passing (type, 1) or '1type' as a synonym of type is deprecated; in a future version of numpy, it will be understood as (type, (1,)) / '(1,)type'.\n",
      "  _np_qint16 = np.dtype([(\"qint16\", np.int16, 1)])\n",
      "C:\\Users\\varun\\anaconda3\\envs\\condaenv\\lib\\site-packages\\tensorflow\\python\\framework\\dtypes.py:529: FutureWarning: Passing (type, 1) or '1type' as a synonym of type is deprecated; in a future version of numpy, it will be understood as (type, (1,)) / '(1,)type'.\n",
      "  _np_quint16 = np.dtype([(\"quint16\", np.uint16, 1)])\n",
      "C:\\Users\\varun\\anaconda3\\envs\\condaenv\\lib\\site-packages\\tensorflow\\python\\framework\\dtypes.py:530: FutureWarning: Passing (type, 1) or '1type' as a synonym of type is deprecated; in a future version of numpy, it will be understood as (type, (1,)) / '(1,)type'.\n",
      "  _np_qint32 = np.dtype([(\"qint32\", np.int32, 1)])\n",
      "C:\\Users\\varun\\anaconda3\\envs\\condaenv\\lib\\site-packages\\tensorflow\\python\\framework\\dtypes.py:535: FutureWarning: Passing (type, 1) or '1type' as a synonym of type is deprecated; in a future version of numpy, it will be understood as (type, (1,)) / '(1,)type'.\n",
      "  np_resource = np.dtype([(\"resource\", np.ubyte, 1)])\n"
     ]
    }
   ],
   "source": [
    "import tensorflow as tf"
   ]
  },
  {
   "cell_type": "code",
   "execution_count": 3,
   "metadata": {},
   "outputs": [],
   "source": [
    "from tensorflow.keras import Sequential\n",
    "from tensorflow.keras.layers import Dense\n",
    "from tensorflow.keras.callbacks import EarlyStopping"
   ]
  },
  {
   "cell_type": "code",
   "execution_count": 4,
   "metadata": {},
   "outputs": [
    {
     "data": {
      "text/html": [
       "<div>\n",
       "<style scoped>\n",
       "    .dataframe tbody tr th:only-of-type {\n",
       "        vertical-align: middle;\n",
       "    }\n",
       "\n",
       "    .dataframe tbody tr th {\n",
       "        vertical-align: top;\n",
       "    }\n",
       "\n",
       "    .dataframe thead th {\n",
       "        text-align: right;\n",
       "    }\n",
       "</style>\n",
       "<table border=\"1\" class=\"dataframe\">\n",
       "  <thead>\n",
       "    <tr style=\"text-align: right;\">\n",
       "      <th></th>\n",
       "      <th>mpg</th>\n",
       "      <th>cylinders</th>\n",
       "      <th>displacement</th>\n",
       "      <th>horsepower</th>\n",
       "      <th>weight</th>\n",
       "      <th>acceleration</th>\n",
       "      <th>model year</th>\n",
       "      <th>origin</th>\n",
       "      <th>car name</th>\n",
       "    </tr>\n",
       "  </thead>\n",
       "  <tbody>\n",
       "    <tr>\n",
       "      <th>0</th>\n",
       "      <td>18.0</td>\n",
       "      <td>8</td>\n",
       "      <td>307.0</td>\n",
       "      <td>130</td>\n",
       "      <td>3504</td>\n",
       "      <td>12.0</td>\n",
       "      <td>70</td>\n",
       "      <td>1</td>\n",
       "      <td>chevrolet chevelle malibu</td>\n",
       "    </tr>\n",
       "    <tr>\n",
       "      <th>1</th>\n",
       "      <td>15.0</td>\n",
       "      <td>8</td>\n",
       "      <td>350.0</td>\n",
       "      <td>165</td>\n",
       "      <td>3693</td>\n",
       "      <td>11.5</td>\n",
       "      <td>70</td>\n",
       "      <td>1</td>\n",
       "      <td>buick skylark 320</td>\n",
       "    </tr>\n",
       "    <tr>\n",
       "      <th>2</th>\n",
       "      <td>18.0</td>\n",
       "      <td>8</td>\n",
       "      <td>318.0</td>\n",
       "      <td>150</td>\n",
       "      <td>3436</td>\n",
       "      <td>11.0</td>\n",
       "      <td>70</td>\n",
       "      <td>1</td>\n",
       "      <td>plymouth satellite</td>\n",
       "    </tr>\n",
       "    <tr>\n",
       "      <th>3</th>\n",
       "      <td>16.0</td>\n",
       "      <td>8</td>\n",
       "      <td>304.0</td>\n",
       "      <td>150</td>\n",
       "      <td>3433</td>\n",
       "      <td>12.0</td>\n",
       "      <td>70</td>\n",
       "      <td>1</td>\n",
       "      <td>amc rebel sst</td>\n",
       "    </tr>\n",
       "    <tr>\n",
       "      <th>4</th>\n",
       "      <td>17.0</td>\n",
       "      <td>8</td>\n",
       "      <td>302.0</td>\n",
       "      <td>140</td>\n",
       "      <td>3449</td>\n",
       "      <td>10.5</td>\n",
       "      <td>70</td>\n",
       "      <td>1</td>\n",
       "      <td>ford torino</td>\n",
       "    </tr>\n",
       "  </tbody>\n",
       "</table>\n",
       "</div>"
      ],
      "text/plain": [
       "    mpg  cylinders  displacement horsepower  weight  acceleration  model year  \\\n",
       "0  18.0          8         307.0        130    3504          12.0          70   \n",
       "1  15.0          8         350.0        165    3693          11.5          70   \n",
       "2  18.0          8         318.0        150    3436          11.0          70   \n",
       "3  16.0          8         304.0        150    3433          12.0          70   \n",
       "4  17.0          8         302.0        140    3449          10.5          70   \n",
       "\n",
       "   origin                   car name  \n",
       "0       1  chevrolet chevelle malibu  \n",
       "1       1          buick skylark 320  \n",
       "2       1         plymouth satellite  \n",
       "3       1              amc rebel sst  \n",
       "4       1                ford torino  "
      ]
     },
     "execution_count": 4,
     "metadata": {},
     "output_type": "execute_result"
    }
   ],
   "source": [
    "df = pd.read_csv(\"G:/Education/Machine Learning/ML_DATA_FILES/auto-mpg.csv\")\n",
    "df.head()"
   ]
  },
  {
   "cell_type": "code",
   "execution_count": 5,
   "metadata": {},
   "outputs": [
    {
     "data": {
      "text/plain": [
       "mpg             0\n",
       "cylinders       0\n",
       "displacement    0\n",
       "horsepower      0\n",
       "weight          0\n",
       "acceleration    0\n",
       "model year      0\n",
       "origin          0\n",
       "car name        0\n",
       "dtype: int64"
      ]
     },
     "execution_count": 5,
     "metadata": {},
     "output_type": "execute_result"
    }
   ],
   "source": [
    "df.isnull().sum()"
   ]
  },
  {
   "cell_type": "code",
   "execution_count": 6,
   "metadata": {},
   "outputs": [
    {
     "data": {
      "text/plain": [
       "array([70, 71, 72, 73, 74, 75, 76, 77, 78, 79, 80, 81, 82], dtype=int64)"
      ]
     },
     "execution_count": 6,
     "metadata": {},
     "output_type": "execute_result"
    }
   ],
   "source": [
    "df['model year'].unique()"
   ]
  },
  {
   "cell_type": "code",
   "execution_count": 7,
   "metadata": {},
   "outputs": [],
   "source": [
    "df.drop(columns = ['car name'], axis = 1, inplace = True)"
   ]
  },
  {
   "cell_type": "code",
   "execution_count": 8,
   "metadata": {},
   "outputs": [
    {
     "data": {
      "text/plain": [
       "array([1, 3, 2], dtype=int64)"
      ]
     },
     "execution_count": 8,
     "metadata": {},
     "output_type": "execute_result"
    }
   ],
   "source": [
    "df['origin'].unique()"
   ]
  },
  {
   "cell_type": "code",
   "execution_count": 9,
   "metadata": {},
   "outputs": [
    {
     "data": {
      "text/plain": [
       "mpg             float64\n",
       "cylinders         int64\n",
       "displacement    float64\n",
       "horsepower       object\n",
       "weight            int64\n",
       "acceleration    float64\n",
       "model year        int64\n",
       "origin            int64\n",
       "dtype: object"
      ]
     },
     "execution_count": 9,
     "metadata": {},
     "output_type": "execute_result"
    }
   ],
   "source": [
    "df.dtypes"
   ]
  },
  {
   "cell_type": "code",
   "execution_count": 10,
   "metadata": {},
   "outputs": [
    {
     "data": {
      "text/plain": [
       "array(['130', '165', '150', '140', '198', '220', '215', '225', '190',\n",
       "       '170', '160', '95', '97', '85', '88', '46', '87', '90', '113',\n",
       "       '200', '210', '193', '?', '100', '105', '175', '153', '180', '110',\n",
       "       '72', '86', '70', '76', '65', '69', '60', '80', '54', '208', '155',\n",
       "       '112', '92', '145', '137', '158', '167', '94', '107', '230', '49',\n",
       "       '75', '91', '122', '67', '83', '78', '52', '61', '93', '148',\n",
       "       '129', '96', '71', '98', '115', '53', '81', '79', '120', '152',\n",
       "       '102', '108', '68', '58', '149', '89', '63', '48', '66', '139',\n",
       "       '103', '125', '133', '138', '135', '142', '77', '62', '132', '84',\n",
       "       '64', '74', '116', '82'], dtype=object)"
      ]
     },
     "execution_count": 10,
     "metadata": {},
     "output_type": "execute_result"
    }
   ],
   "source": [
    "df.horsepower.unique()"
   ]
  },
  {
   "cell_type": "code",
   "execution_count": 11,
   "metadata": {},
   "outputs": [],
   "source": [
    "df.horsepower.replace({'?':'Nan'}, inplace = True)"
   ]
  },
  {
   "cell_type": "code",
   "execution_count": 12,
   "metadata": {},
   "outputs": [],
   "source": [
    "df.horsepower = df.horsepower.astype(float)"
   ]
  },
  {
   "cell_type": "code",
   "execution_count": 13,
   "metadata": {},
   "outputs": [
    {
     "data": {
      "text/plain": [
       "mpg             float64\n",
       "cylinders         int64\n",
       "displacement    float64\n",
       "horsepower      float64\n",
       "weight            int64\n",
       "acceleration    float64\n",
       "model year        int64\n",
       "origin            int64\n",
       "dtype: object"
      ]
     },
     "execution_count": 13,
     "metadata": {},
     "output_type": "execute_result"
    }
   ],
   "source": [
    "df.dtypes"
   ]
  },
  {
   "cell_type": "code",
   "execution_count": 14,
   "metadata": {},
   "outputs": [],
   "source": [
    "df.horsepower = df.horsepower.fillna(np.mean(df.horsepower))"
   ]
  },
  {
   "cell_type": "code",
   "execution_count": 15,
   "metadata": {},
   "outputs": [],
   "source": [
    "x = df.drop(columns = ['mpg'], axis = 1)\n",
    "y = df.mpg"
   ]
  },
  {
   "cell_type": "code",
   "execution_count": 16,
   "metadata": {},
   "outputs": [],
   "source": [
    "x = x.values\n",
    "y = y.values"
   ]
  },
  {
   "cell_type": "code",
   "execution_count": 17,
   "metadata": {},
   "outputs": [
    {
     "name": "stdout",
     "output_type": "stream",
     "text": [
      "[[  8.  307.  130.  ...  12.   70.    1. ]\n",
      " [  8.  350.  165.  ...  11.5  70.    1. ]\n",
      " [  8.  318.  150.  ...  11.   70.    1. ]\n",
      " ...\n",
      " [  4.  135.   84.  ...  11.6  82.    1. ]\n",
      " [  4.  120.   79.  ...  18.6  82.    1. ]\n",
      " [  4.  119.   82.  ...  19.4  82.    1. ]]\n"
     ]
    }
   ],
   "source": [
    "print(x)"
   ]
  },
  {
   "cell_type": "code",
   "execution_count": 18,
   "metadata": {},
   "outputs": [
    {
     "name": "stdout",
     "output_type": "stream",
     "text": [
      "[18.  15.  18.  16.  17.  15.  14.  14.  14.  15.  15.  14.  15.  14.\n",
      " 24.  22.  18.  21.  27.  26.  25.  24.  25.  26.  21.  10.  10.  11.\n",
      "  9.  27.  28.  25.  25.  19.  16.  17.  19.  18.  14.  14.  14.  14.\n",
      " 12.  13.  13.  18.  22.  19.  18.  23.  28.  30.  30.  31.  35.  27.\n",
      " 26.  24.  25.  23.  20.  21.  13.  14.  15.  14.  17.  11.  13.  12.\n",
      " 13.  19.  15.  13.  13.  14.  18.  22.  21.  26.  22.  28.  23.  28.\n",
      " 27.  13.  14.  13.  14.  15.  12.  13.  13.  14.  13.  12.  13.  18.\n",
      " 16.  18.  18.  23.  26.  11.  12.  13.  12.  18.  20.  21.  22.  18.\n",
      " 19.  21.  26.  15.  16.  29.  24.  20.  19.  15.  24.  20.  11.  20.\n",
      " 21.  19.  15.  31.  26.  32.  25.  16.  16.  18.  16.  13.  14.  14.\n",
      " 14.  29.  26.  26.  31.  32.  28.  24.  26.  24.  26.  31.  19.  18.\n",
      " 15.  15.  16.  15.  16.  14.  17.  16.  15.  18.  21.  20.  13.  29.\n",
      " 23.  20.  23.  24.  25.  24.  18.  29.  19.  23.  23.  22.  25.  33.\n",
      " 28.  25.  25.  26.  27.  17.5 16.  15.5 14.5 22.  22.  24.  22.5 29.\n",
      " 24.5 29.  33.  20.  18.  18.5 17.5 29.5 32.  28.  26.5 20.  13.  19.\n",
      " 19.  16.5 16.5 13.  13.  13.  31.5 30.  36.  25.5 33.5 17.5 17.  15.5\n",
      " 15.  17.5 20.5 19.  18.5 16.  15.5 15.5 16.  29.  24.5 26.  25.5 30.5\n",
      " 33.5 30.  30.5 22.  21.5 21.5 43.1 36.1 32.8 39.4 36.1 19.9 19.4 20.2\n",
      " 19.2 20.5 20.2 25.1 20.5 19.4 20.6 20.8 18.6 18.1 19.2 17.7 18.1 17.5\n",
      " 30.  27.5 27.2 30.9 21.1 23.2 23.8 23.9 20.3 17.  21.6 16.2 31.5 29.5\n",
      " 21.5 19.8 22.3 20.2 20.6 17.  17.6 16.5 18.2 16.9 15.5 19.2 18.5 31.9\n",
      " 34.1 35.7 27.4 25.4 23.  27.2 23.9 34.2 34.5 31.8 37.3 28.4 28.8 26.8\n",
      " 33.5 41.5 38.1 32.1 37.2 28.  26.4 24.3 19.1 34.3 29.8 31.3 37.  32.2\n",
      " 46.6 27.9 40.8 44.3 43.4 36.4 30.  44.6 40.9 33.8 29.8 32.7 23.7 35.\n",
      " 23.6 32.4 27.2 26.6 25.8 23.5 30.  39.1 39.  35.1 32.3 37.  37.7 34.1\n",
      " 34.7 34.4 29.9 33.  34.5 33.7 32.4 32.9 31.6 28.1 30.7 25.4 24.2 22.4\n",
      " 26.6 20.2 17.6 28.  27.  34.  31.  29.  27.  24.  23.  36.  37.  31.\n",
      " 38.  36.  36.  36.  34.  38.  32.  38.  25.  38.  26.  22.  32.  36.\n",
      " 27.  27.  44.  32.  28.  31. ]\n"
     ]
    }
   ],
   "source": [
    "print(y)"
   ]
  },
  {
   "cell_type": "code",
   "execution_count": 19,
   "metadata": {},
   "outputs": [],
   "source": [
    "from sklearn.model_selection import train_test_split"
   ]
  },
  {
   "cell_type": "code",
   "execution_count": 20,
   "metadata": {},
   "outputs": [],
   "source": [
    "x_train, x_test, y_train, y_test = train_test_split(x,y,test_size = 0.3, random_state = 0)"
   ]
  },
  {
   "cell_type": "code",
   "execution_count": 21,
   "metadata": {},
   "outputs": [],
   "source": [
    "from sklearn.preprocessing import StandardScaler"
   ]
  },
  {
   "cell_type": "code",
   "execution_count": 22,
   "metadata": {},
   "outputs": [],
   "source": [
    "sc = StandardScaler()"
   ]
  },
  {
   "cell_type": "code",
   "execution_count": 23,
   "metadata": {},
   "outputs": [],
   "source": [
    "x_train = sc.fit_transform(x_train)\n",
    "x_test = sc.fit_transform(x_test)"
   ]
  },
  {
   "cell_type": "markdown",
   "metadata": {},
   "source": [
    "# Building ANN"
   ]
  },
  {
   "cell_type": "code",
   "execution_count": 24,
   "metadata": {},
   "outputs": [],
   "source": [
    "model = Sequential()"
   ]
  },
  {
   "cell_type": "code",
   "execution_count": 25,
   "metadata": {},
   "outputs": [],
   "source": [
    "model.add(Dense(units = 64, activation = 'relu'))"
   ]
  },
  {
   "cell_type": "code",
   "execution_count": 26,
   "metadata": {},
   "outputs": [],
   "source": [
    "model.add(Dense(units = 64, activation = 'relu'))"
   ]
  },
  {
   "cell_type": "code",
   "execution_count": 27,
   "metadata": {},
   "outputs": [],
   "source": [
    "model.add(Dense(units = 1, activation = 'softmax'))"
   ]
  },
  {
   "cell_type": "code",
   "execution_count": 28,
   "metadata": {},
   "outputs": [
    {
     "name": "stdout",
     "output_type": "stream",
     "text": [
      "WARNING:tensorflow:From C:\\Users\\varun\\anaconda3\\envs\\condaenv\\lib\\site-packages\\tensorflow\\python\\ops\\resource_variable_ops.py:435: colocate_with (from tensorflow.python.framework.ops) is deprecated and will be removed in a future version.\n",
      "Instructions for updating:\n",
      "Colocations handled automatically by placer.\n"
     ]
    }
   ],
   "source": [
    "model.compile(optimizer = 'adam', loss = 'binary_crossentropy', metrics = ['accuracy'])"
   ]
  },
  {
   "cell_type": "code",
   "execution_count": 29,
   "metadata": {},
   "outputs": [],
   "source": [
    "early_stop = EarlyStopping(monitor='loss',patience=2)"
   ]
  },
  {
   "cell_type": "code",
   "execution_count": 30,
   "metadata": {},
   "outputs": [
    {
     "name": "stdout",
     "output_type": "stream",
     "text": [
      "WARNING:tensorflow:From C:\\Users\\varun\\anaconda3\\envs\\condaenv\\lib\\site-packages\\tensorflow\\python\\ops\\math_ops.py:3066: to_int32 (from tensorflow.python.ops.math_ops) is deprecated and will be removed in a future version.\n",
      "Instructions for updating:\n",
      "Use tf.cast instead.\n",
      "Epoch 1/100\n",
      "278/278 [==============================] - 0s 1ms/sample - loss: -356.5532 - acc: 0.0000e+00\n",
      "Epoch 2/100\n",
      "278/278 [==============================] - 0s 112us/sample - loss: -356.5532 - acc: 0.0000e+00\n",
      "Epoch 3/100\n",
      "278/278 [==============================] - 0s 80us/sample - loss: -356.5532 - acc: 0.0000e+00\n",
      "Epoch 4/100\n",
      "278/278 [==============================] - 0s 112us/sample - loss: -356.5532 - acc: 0.0000e+00\n"
     ]
    },
    {
     "data": {
      "text/plain": [
       "<tensorflow.python.keras.callbacks.History at 0x108e9fee198>"
      ]
     },
     "execution_count": 30,
     "metadata": {},
     "output_type": "execute_result"
    }
   ],
   "source": [
    "model.fit(x_train, y_train, batch_size = 32, epochs = 100, callbacks = [early_stop])"
   ]
  },
  {
   "cell_type": "code",
   "execution_count": 31,
   "metadata": {},
   "outputs": [],
   "source": [
    "prediction = model.predict(x_test)"
   ]
  },
  {
   "cell_type": "code",
   "execution_count": 32,
   "metadata": {},
   "outputs": [
    {
     "name": "stdout",
     "output_type": "stream",
     "text": [
      "[[ 1.  14. ]\n",
      " [ 1.  25. ]\n",
      " [ 1.  13. ]\n",
      " [ 1.  21. ]\n",
      " [ 1.  18. ]\n",
      " [ 1.  35. ]\n",
      " [ 1.  34.1]\n",
      " [ 1.  20. ]\n",
      " [ 1.  15. ]\n",
      " [ 1.  23.5]\n",
      " [ 1.  40.9]\n",
      " [ 1.  37.2]\n",
      " [ 1.  18. ]\n",
      " [ 1.  23. ]\n",
      " [ 1.  15.5]\n",
      " [ 1.  35.7]\n",
      " [ 1.  31. ]\n",
      " [ 1.  27. ]\n",
      " [ 1.  18. ]\n",
      " [ 1.  37.3]\n",
      " [ 1.  15.5]\n",
      " [ 1.  23. ]\n",
      " [ 1.  24. ]\n",
      " [ 1.  18. ]\n",
      " [ 1.  34.5]\n",
      " [ 1.  25.4]\n",
      " [ 1.  36.1]\n",
      " [ 1.  34. ]\n",
      " [ 1.  30. ]\n",
      " [ 1.  16. ]\n",
      " [ 1.  18.6]\n",
      " [ 1.  37. ]\n",
      " [ 1.  15. ]\n",
      " [ 1.  33.5]\n",
      " [ 1.  22.4]\n",
      " [ 1.  24. ]\n",
      " [ 1.  19. ]\n",
      " [ 1.  16.9]\n",
      " [ 1.  31.9]\n",
      " [ 1.  12. ]\n",
      " [ 1.  14. ]\n",
      " [ 1.  15. ]\n",
      " [ 1.  27.4]\n",
      " [ 1.  23.7]\n",
      " [ 1.  32. ]\n",
      " [ 1.  24. ]\n",
      " [ 1.  22.5]\n",
      " [ 1.  16.5]\n",
      " [ 1.  21. ]\n",
      " [ 1.  26. ]\n",
      " [ 1.  41.5]\n",
      " [ 1.  29. ]\n",
      " [ 1.  15. ]\n",
      " [ 1.  30. ]\n",
      " [ 1.  15. ]\n",
      " [ 1.  10. ]\n",
      " [ 1.  18. ]\n",
      " [ 1.  20.2]\n",
      " [ 1.  36. ]\n",
      " [ 1.  17. ]\n",
      " [ 1.  18. ]\n",
      " [ 1.  26.5]\n",
      " [ 1.  18. ]\n",
      " [ 1.  22. ]\n",
      " [ 1.  12. ]\n",
      " [ 1.  14. ]\n",
      " [ 1.  15. ]\n",
      " [ 1.  18. ]\n",
      " [ 1.  23. ]\n",
      " [ 1.  14. ]\n",
      " [ 1.  32.3]\n",
      " [ 1.  13. ]\n",
      " [ 1.  25. ]\n",
      " [ 1.  20. ]\n",
      " [ 1.  24. ]\n",
      " [ 1.  30.9]\n",
      " [ 1.  26. ]\n",
      " [ 1.  32. ]\n",
      " [ 1.  24.5]\n",
      " [ 1.  11. ]\n",
      " [ 1.  15. ]\n",
      " [ 1.  27. ]\n",
      " [ 1.  34.3]\n",
      " [ 1.  26. ]\n",
      " [ 1.  31.6]\n",
      " [ 1.  33.8]\n",
      " [ 1.  29. ]\n",
      " [ 1.  18.1]\n",
      " [ 1.  27.2]\n",
      " [ 1.  38. ]\n",
      " [ 1.  26. ]\n",
      " [ 1.  14. ]\n",
      " [ 1.  22. ]\n",
      " [ 1.  31. ]\n",
      " [ 1.  36.4]\n",
      " [ 1.  17.6]\n",
      " [ 1.  17.7]\n",
      " [ 1.  28. ]\n",
      " [ 1.  20.8]\n",
      " [ 1.  14. ]\n",
      " [ 1.  20.2]\n",
      " [ 1.  32.8]\n",
      " [ 1.  22.3]\n",
      " [ 1.  28. ]\n",
      " [ 1.  37. ]\n",
      " [ 1.  27. ]\n",
      " [ 1.  23.2]\n",
      " [ 1.  13. ]\n",
      " [ 1.  15. ]\n",
      " [ 1.  22. ]\n",
      " [ 1.  24. ]\n",
      " [ 1.  29. ]\n",
      " [ 1.  13. ]\n",
      " [ 1.  31.8]\n",
      " [ 1.  23. ]\n",
      " [ 1.  25.5]\n",
      " [ 1.  29.9]\n",
      " [ 1.  13. ]\n",
      " [ 1.  17.5]\n",
      " [ 1.  46.6]]\n"
     ]
    }
   ],
   "source": [
    "prediction = (prediction > 0.5)\n",
    "print(np.concatenate((prediction.reshape(len(prediction),1), y_test.reshape(len(y_test),1)),1))"
   ]
  }
 ],
 "metadata": {
  "kernelspec": {
   "display_name": "Python 3",
   "language": "python",
   "name": "python3"
  },
  "language_info": {
   "codemirror_mode": {
    "name": "ipython",
    "version": 3
   },
   "file_extension": ".py",
   "mimetype": "text/x-python",
   "name": "python",
   "nbconvert_exporter": "python",
   "pygments_lexer": "ipython3",
   "version": "3.6.10"
  }
 },
 "nbformat": 4,
 "nbformat_minor": 4
}
