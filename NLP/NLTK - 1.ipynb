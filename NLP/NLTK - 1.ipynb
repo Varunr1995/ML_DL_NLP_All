{
 "cells": [
  {
   "cell_type": "code",
   "execution_count": 1,
   "metadata": {},
   "outputs": [],
   "source": [
    "import numpy as np\n",
    "import pandas as pd"
   ]
  },
  {
   "cell_type": "code",
   "execution_count": 2,
   "metadata": {},
   "outputs": [],
   "source": [
    "import nltk\n",
    "from nltk.tokenize import sent_tokenize"
   ]
  },
  {
   "cell_type": "code",
   "execution_count": 3,
   "metadata": {},
   "outputs": [],
   "source": [
    "from nltk.corpus import gutenberg"
   ]
  },
  {
   "cell_type": "code",
   "execution_count": 4,
   "metadata": {},
   "outputs": [],
   "source": [
    "sample = gutenberg.raw(\"bible-kjv.txt\")"
   ]
  },
  {
   "cell_type": "code",
   "execution_count": 5,
   "metadata": {},
   "outputs": [
    {
     "name": "stdout",
     "output_type": "stream",
     "text": [
      "[The King James Bible]\n",
      "\n",
      "The Old Testament of the King James Bible\n",
      "\n",
      "The First Book of Moses:  Called Genesis\n",
      "\n",
      "\n",
      "1:1 In the beginning God created the heaven and the earth.\n",
      "\n",
      "1:2 And the earth was without form, and void; and darkness was upon\n",
      "the face of the deep. And the Spirit of God moved upon the face of the\n",
      "waters.\n",
      "\n",
      "1:3 And God said, Let there be light: and there was light.\n",
      "\n",
      "1:4 And God saw the light, that it was good: and God divided the light\n",
      "from the darkness.\n",
      "\n",
      "1:5 And God called the light Day, and the darkness he called Night.\n",
      "And the evening and the morning were the first day.\n",
      "\n",
      "1:6 And God said, Let there be a firmament in the midst of the waters,\n",
      "and let it divide the waters from the waters.\n",
      "\n",
      "1:7 And God made the firmament, and divided the waters which were\n",
      "under the firmament from the waters which were above the firmament:\n",
      "and it was so.\n",
      "\n",
      "1:8 And God called the firmament Heaven. And the evening and the\n",
      "morning were the second day.\n",
      "\n",
      "1:9 And God said, Let the waters under the heav\n"
     ]
    }
   ],
   "source": [
    "print(sample[:1000])"
   ]
  },
  {
   "cell_type": "code",
   "execution_count": 6,
   "metadata": {},
   "outputs": [],
   "source": [
    "token = sent_tokenize(sample)"
   ]
  },
  {
   "cell_type": "code",
   "execution_count": 7,
   "metadata": {},
   "outputs": [
    {
     "name": "stdout",
     "output_type": "stream",
     "text": [
      "['[The King James Bible]\\n\\nThe Old Testament of the King James Bible\\n\\nThe First Book of Moses:  Called Genesis\\n\\n\\n1:1 In the beginning God created the heaven and the earth.', '1:2 And the earth was without form, and void; and darkness was upon\\nthe face of the deep.', 'And the Spirit of God moved upon the face of the\\nwaters.', '1:3 And God said, Let there be light: and there was light.', '1:4 And God saw the light, that it was good: and God divided the light\\nfrom the darkness.', '1:5 And God called the light Day, and the darkness he called Night.', 'And the evening and the morning were the first day.', '1:6 And God said, Let there be a firmament in the midst of the waters,\\nand let it divide the waters from the waters.', '1:7 And God made the firmament, and divided the waters which were\\nunder the firmament from the waters which were above the firmament:\\nand it was so.', '1:8 And God called the firmament Heaven.', 'And the evening and the\\nmorning were the second day.', '1:9 And God said, Let the waters under the heaven be gathered together\\nunto one place, and let the dry land appear: and it was so.', '1:10 And God called the dry land Earth; and the gathering together of\\nthe waters called he Seas: and God saw that it was good.', '1:11 And God said, Let the earth bring forth grass, the herb yielding\\nseed, and the fruit tree yielding fruit after his kind, whose seed is\\nin itself, upon the earth: and it was so.', '1:12 And the earth brought forth grass, and herb yielding seed after\\nhis kind, and the tree yielding fruit, whose seed was in itself, after\\nhis kind: and God saw that it was good.']\n"
     ]
    }
   ],
   "source": [
    "print(token[:15])"
   ]
  },
  {
   "cell_type": "code",
   "execution_count": 8,
   "metadata": {},
   "outputs": [],
   "source": [
    "from nltk.corpus import wordnet"
   ]
  },
  {
   "cell_type": "code",
   "execution_count": 9,
   "metadata": {},
   "outputs": [],
   "source": [
    "syns = wordnet.synsets(\"program\")"
   ]
  },
  {
   "cell_type": "code",
   "execution_count": 10,
   "metadata": {},
   "outputs": [
    {
     "name": "stdout",
     "output_type": "stream",
     "text": [
      "plan.n.01\n"
     ]
    }
   ],
   "source": [
    "print(syns[0].name())"
   ]
  },
  {
   "cell_type": "code",
   "execution_count": 11,
   "metadata": {},
   "outputs": [
    {
     "name": "stdout",
     "output_type": "stream",
     "text": [
      "plan\n"
     ]
    }
   ],
   "source": [
    "print(syns[0].lemmas()[0].name())"
   ]
  },
  {
   "cell_type": "code",
   "execution_count": 12,
   "metadata": {},
   "outputs": [
    {
     "name": "stdout",
     "output_type": "stream",
     "text": [
      "a series of steps to be carried out or goals to be accomplished\n"
     ]
    }
   ],
   "source": [
    "print(syns[0].definition())"
   ]
  },
  {
   "cell_type": "code",
   "execution_count": 13,
   "metadata": {},
   "outputs": [
    {
     "name": "stdout",
     "output_type": "stream",
     "text": [
      "['they drew up a six-step plan', 'they discussed plans for a new bond issue']\n"
     ]
    }
   ],
   "source": [
    "print(syns[0].examples())"
   ]
  },
  {
   "cell_type": "code",
   "execution_count": 14,
   "metadata": {},
   "outputs": [],
   "source": [
    "synonyms = []\n",
    "antonyms = []"
   ]
  },
  {
   "cell_type": "code",
   "execution_count": 15,
   "metadata": {},
   "outputs": [],
   "source": [
    "for syn in wordnet.synsets('good'):\n",
    "    for l in syn.lemmas():\n",
    "        synonyms.append(l.name())\n",
    "        if l.antonyms():\n",
    "            antonyms.append(l.antonyms()[0].name())"
   ]
  },
  {
   "cell_type": "markdown",
   "metadata": {},
   "source": [
    "### Lemmas are similar to synonyms"
   ]
  },
  {
   "cell_type": "code",
   "execution_count": 16,
   "metadata": {},
   "outputs": [
    {
     "name": "stdout",
     "output_type": "stream",
     "text": [
      "{'effective', 'full', 'near', 'secure', 'thoroughly', 'soundly', 'commodity', 'goodness', 'skillful', 'good', 'in_effect', 'right', 'in_force', 'well', 'adept', 'expert', 'serious', 'beneficial', 'trade_good', 'salutary', 'ripe', 'dear', 'safe', 'skilful', 'sound', 'honest', 'estimable', 'unspoilt', 'unspoiled', 'dependable', 'just', 'proficient', 'practiced', 'upright', 'respectable', 'undecomposed', 'honorable'}\n",
      "{'evilness', 'ill', 'evil', 'bad', 'badness'}\n"
     ]
    }
   ],
   "source": [
    "print(set(synonyms))\n",
    "print(set(antonyms))"
   ]
  },
  {
   "cell_type": "code",
   "execution_count": 17,
   "metadata": {},
   "outputs": [],
   "source": [
    "synonyms = []\n",
    "antonyms = []"
   ]
  },
  {
   "cell_type": "code",
   "execution_count": 18,
   "metadata": {},
   "outputs": [
    {
     "name": "stdout",
     "output_type": "stream",
     "text": [
      "l: Lemma('good.n.01.good')\n",
      "l: Lemma('good.n.02.good')\n",
      "l: Lemma('good.n.02.goodness')\n",
      "l: Lemma('good.n.03.good')\n",
      "l: Lemma('good.n.03.goodness')\n",
      "l: Lemma('commodity.n.01.commodity')\n",
      "l: Lemma('commodity.n.01.trade_good')\n",
      "l: Lemma('commodity.n.01.good')\n",
      "l: Lemma('good.a.01.good')\n",
      "l: Lemma('full.s.06.full')\n",
      "l: Lemma('full.s.06.good')\n",
      "l: Lemma('good.a.03.good')\n",
      "l: Lemma('estimable.s.02.estimable')\n",
      "l: Lemma('estimable.s.02.good')\n",
      "l: Lemma('estimable.s.02.honorable')\n",
      "l: Lemma('estimable.s.02.respectable')\n",
      "l: Lemma('beneficial.s.01.beneficial')\n",
      "l: Lemma('beneficial.s.01.good')\n",
      "l: Lemma('good.s.06.good')\n",
      "l: Lemma('good.s.07.good')\n",
      "l: Lemma('good.s.07.just')\n",
      "l: Lemma('good.s.07.upright')\n",
      "l: Lemma('adept.s.01.adept')\n",
      "l: Lemma('adept.s.01.expert')\n",
      "l: Lemma('adept.s.01.good')\n",
      "l: Lemma('adept.s.01.practiced')\n",
      "l: Lemma('adept.s.01.proficient')\n",
      "l: Lemma('adept.s.01.skillful')\n",
      "l: Lemma('adept.s.01.skilful')\n",
      "l: Lemma('good.s.09.good')\n",
      "l: Lemma('dear.s.02.dear')\n",
      "l: Lemma('dear.s.02.good')\n",
      "l: Lemma('dear.s.02.near')\n",
      "l: Lemma('dependable.s.04.dependable')\n",
      "l: Lemma('dependable.s.04.good')\n",
      "l: Lemma('dependable.s.04.safe')\n",
      "l: Lemma('dependable.s.04.secure')\n",
      "l: Lemma('good.s.12.good')\n",
      "l: Lemma('good.s.12.right')\n",
      "l: Lemma('good.s.12.ripe')\n",
      "l: Lemma('good.s.13.good')\n",
      "l: Lemma('good.s.13.well')\n",
      "l: Lemma('effective.s.04.effective')\n",
      "l: Lemma('effective.s.04.good')\n",
      "l: Lemma('effective.s.04.in_effect')\n",
      "l: Lemma('effective.s.04.in_force')\n",
      "l: Lemma('good.s.15.good')\n",
      "l: Lemma('good.s.16.good')\n",
      "l: Lemma('good.s.16.serious')\n",
      "l: Lemma('good.s.17.good')\n",
      "l: Lemma('good.s.17.sound')\n",
      "l: Lemma('good.s.18.good')\n",
      "l: Lemma('good.s.18.salutary')\n",
      "l: Lemma('good.s.19.good')\n",
      "l: Lemma('good.s.19.honest')\n",
      "l: Lemma('good.s.20.good')\n",
      "l: Lemma('good.s.20.undecomposed')\n",
      "l: Lemma('good.s.20.unspoiled')\n",
      "l: Lemma('good.s.20.unspoilt')\n",
      "l: Lemma('good.s.21.good')\n",
      "l: Lemma('well.r.01.well')\n",
      "l: Lemma('well.r.01.good')\n",
      "l: Lemma('thoroughly.r.02.thoroughly')\n",
      "l: Lemma('thoroughly.r.02.soundly')\n",
      "l: Lemma('thoroughly.r.02.good')\n"
     ]
    }
   ],
   "source": [
    "for syn in wordnet.synsets('good'):\n",
    "    for l in syn.lemmas():\n",
    "        print(\"l:\",l)\n",
    "        synonyms.append(l.name())\n",
    "        if l.antonyms():\n",
    "            antonyms.append(l.antonyms()[0].name())"
   ]
  }
 ],
 "metadata": {
  "kernelspec": {
   "display_name": "Python 3",
   "language": "python",
   "name": "python3"
  },
  "language_info": {
   "codemirror_mode": {
    "name": "ipython",
    "version": 3
   },
   "file_extension": ".py",
   "mimetype": "text/x-python",
   "name": "python",
   "nbconvert_exporter": "python",
   "pygments_lexer": "ipython3",
   "version": "3.6.10"
  }
 },
 "nbformat": 4,
 "nbformat_minor": 4
}
