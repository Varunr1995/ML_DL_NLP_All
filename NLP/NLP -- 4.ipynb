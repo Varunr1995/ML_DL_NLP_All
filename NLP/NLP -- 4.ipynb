{
 "cells": [
  {
   "cell_type": "code",
   "execution_count": 7,
   "metadata": {},
   "outputs": [],
   "source": [
    "import pandas as pd\n",
    "import numpy as np\n",
    "import matplotlib.pyplot as plt\n",
    "%matplotlib inline"
   ]
  },
  {
   "cell_type": "code",
   "execution_count": 2,
   "metadata": {},
   "outputs": [
    {
     "data": {
      "text/html": [
       "<div>\n",
       "<style scoped>\n",
       "    .dataframe tbody tr th:only-of-type {\n",
       "        vertical-align: middle;\n",
       "    }\n",
       "\n",
       "    .dataframe tbody tr th {\n",
       "        vertical-align: top;\n",
       "    }\n",
       "\n",
       "    .dataframe thead th {\n",
       "        text-align: right;\n",
       "    }\n",
       "</style>\n",
       "<table border=\"1\" class=\"dataframe\">\n",
       "  <thead>\n",
       "    <tr style=\"text-align: right;\">\n",
       "      <th></th>\n",
       "      <th>theme</th>\n",
       "      <th>url</th>\n",
       "      <th>img</th>\n",
       "      <th>lines</th>\n",
       "      <th>author</th>\n",
       "    </tr>\n",
       "  </thead>\n",
       "  <tbody>\n",
       "    <tr>\n",
       "      <th>0</th>\n",
       "      <td>HEALTH</td>\n",
       "      <td>/inspirational-quotes/8123-it-s-up-to-you-toda...</td>\n",
       "      <td>https://assets.passiton.com/quotes/quote_artwo...</td>\n",
       "      <td>It’s up to you today to start making healthy c...</td>\n",
       "      <td>&lt;Author:0x000055df924f9260&gt;</td>\n",
       "    </tr>\n",
       "    <tr>\n",
       "      <th>1</th>\n",
       "      <td>CREATIVITY</td>\n",
       "      <td>/inspirational-quotes/7808-creativity-involves...</td>\n",
       "      <td>https://assets.passiton.com/quotes/quote_artwo...</td>\n",
       "      <td>Creativity involves breaking out of establishe...</td>\n",
       "      <td>&lt;Author:0x000055df9250dad0&gt;</td>\n",
       "    </tr>\n",
       "    <tr>\n",
       "      <th>2</th>\n",
       "      <td>CREATIVITY</td>\n",
       "      <td>/inspirational-quotes/7812-curiosity-about-lif...</td>\n",
       "      <td>https://assets.passiton.com/quotes/quote_artwo...</td>\n",
       "      <td>Curiosity about life in all of its aspects, I ...</td>\n",
       "      <td>&lt;Author:0x000055df925236a0&gt;</td>\n",
       "    </tr>\n",
       "    <tr>\n",
       "      <th>3</th>\n",
       "      <td>CREATIVITY</td>\n",
       "      <td>/inspirational-quotes/8122-happiness-lies-in-t...</td>\n",
       "      <td>https://assets.passiton.com/quotes/quote_artwo...</td>\n",
       "      <td>Happiness lies in the joy of achievement and t...</td>\n",
       "      <td>&lt;Author:0x000055df925321c8&gt;</td>\n",
       "    </tr>\n",
       "    <tr>\n",
       "      <th>4</th>\n",
       "      <td>CREATIVITY</td>\n",
       "      <td>/inspirational-quotes/8121-create-what-sets-yo...</td>\n",
       "      <td>https://assets.passiton.com/quotes/quote_artwo...</td>\n",
       "      <td>Create what sets your heart on fire and it wil...</td>\n",
       "      <td>&lt;Author:0x000055df92547b90&gt;</td>\n",
       "    </tr>\n",
       "  </tbody>\n",
       "</table>\n",
       "</div>"
      ],
      "text/plain": [
       "        theme                                                url  \\\n",
       "0      HEALTH  /inspirational-quotes/8123-it-s-up-to-you-toda...   \n",
       "1  CREATIVITY  /inspirational-quotes/7808-creativity-involves...   \n",
       "2  CREATIVITY  /inspirational-quotes/7812-curiosity-about-lif...   \n",
       "3  CREATIVITY  /inspirational-quotes/8122-happiness-lies-in-t...   \n",
       "4  CREATIVITY  /inspirational-quotes/8121-create-what-sets-yo...   \n",
       "\n",
       "                                                 img  \\\n",
       "0  https://assets.passiton.com/quotes/quote_artwo...   \n",
       "1  https://assets.passiton.com/quotes/quote_artwo...   \n",
       "2  https://assets.passiton.com/quotes/quote_artwo...   \n",
       "3  https://assets.passiton.com/quotes/quote_artwo...   \n",
       "4  https://assets.passiton.com/quotes/quote_artwo...   \n",
       "\n",
       "                                               lines  \\\n",
       "0  It’s up to you today to start making healthy c...   \n",
       "1  Creativity involves breaking out of establishe...   \n",
       "2  Curiosity about life in all of its aspects, I ...   \n",
       "3  Happiness lies in the joy of achievement and t...   \n",
       "4  Create what sets your heart on fire and it wil...   \n",
       "\n",
       "                        author  \n",
       "0  <Author:0x000055df924f9260>  \n",
       "1  <Author:0x000055df9250dad0>  \n",
       "2  <Author:0x000055df925236a0>  \n",
       "3  <Author:0x000055df925321c8>  \n",
       "4  <Author:0x000055df92547b90>  "
      ]
     },
     "execution_count": 2,
     "metadata": {},
     "output_type": "execute_result"
    }
   ],
   "source": [
    "nlp_file = pd.read_csv('C:/Users/varun/ML__DL__ NLP/Web_Scrapping/Using_BS4( Beautiful Soup )/inspirational_quotes.csv', encoding='cp1252')\n",
    "nlp_file.head()"
   ]
  },
  {
   "cell_type": "code",
   "execution_count": 3,
   "metadata": {},
   "outputs": [
    {
     "data": {
      "text/plain": [
       "0    It’s up to you today to start making healthy c...\n",
       "1    Creativity involves breaking out of establishe...\n",
       "2    Curiosity about life in all of its aspects, I ...\n",
       "3    Happiness lies in the joy of achievement and t...\n",
       "4    Create what sets your heart on fire and it wil...\n",
       "Name: lines, dtype: object"
      ]
     },
     "execution_count": 3,
     "metadata": {},
     "output_type": "execute_result"
    }
   ],
   "source": [
    "df = nlp_file.lines\n",
    "df.head()"
   ]
  },
  {
   "cell_type": "code",
   "execution_count": 4,
   "metadata": {
    "scrolled": true
   },
   "outputs": [
    {
     "data": {
      "text/plain": [
       "(32,)"
      ]
     },
     "execution_count": 4,
     "metadata": {},
     "output_type": "execute_result"
    }
   ],
   "source": [
    "df.shape"
   ]
  },
  {
   "cell_type": "code",
   "execution_count": 6,
   "metadata": {},
   "outputs": [],
   "source": [
    "import nltk\n",
    "from nltk.tokenize import word_tokenize\n",
    "from nltk.corpus import stopwords, wordnet\n",
    "from nltk.stem import WordNetLemmatizer"
   ]
  },
  {
   "cell_type": "code",
   "execution_count": 10,
   "metadata": {},
   "outputs": [
    {
     "ename": "ModuleNotFoundError",
     "evalue": "No module named 'contractions'",
     "output_type": "error",
     "traceback": [
      "\u001b[1;31m---------------------------------------------------------------------------\u001b[0m",
      "\u001b[1;31mModuleNotFoundError\u001b[0m                       Traceback (most recent call last)",
      "\u001b[1;32m<ipython-input-10-e66be7c0d2b8>\u001b[0m in \u001b[0;36m<module>\u001b[1;34m\u001b[0m\n\u001b[0;32m      1\u001b[0m \u001b[1;32mimport\u001b[0m \u001b[0mstring\u001b[0m\u001b[1;33m\u001b[0m\u001b[1;33m\u001b[0m\u001b[0m\n\u001b[1;32m----> 2\u001b[1;33m \u001b[1;32mimport\u001b[0m \u001b[0mcontractions\u001b[0m\u001b[1;33m\u001b[0m\u001b[1;33m\u001b[0m\u001b[0m\n\u001b[0m",
      "\u001b[1;31mModuleNotFoundError\u001b[0m: No module named 'contractions'"
     ]
    }
   ],
   "source": [
    "import string\n",
    "import fasttext\n",
    "import contractions"
   ]
  },
  {
   "cell_type": "code",
   "execution_count": 8,
   "metadata": {},
   "outputs": [
    {
     "data": {
      "image/png": "[encoded data removed]",
      "text/plain": [
       "<Figure size 432x288 with 1 Axes>"
      ]
     },
     "metadata": {
      "needs_background": "light"
     },
     "output_type": "display_data"
    }
   ],
   "source": [
    "plt.xticks(rotation = 70)\n",
    "pd.options.mode.chained_assignment = None\n",
    "pd.set_option('display.max_colwidth', 100)"
   ]
  },
  {
   "cell_type": "code",
   "execution_count": null,
   "metadata": {},
   "outputs": [],
   "source": []
  },
  {
   "cell_type": "code",
   "execution_count": null,
   "metadata": {},
   "outputs": [],
   "source": []
  },
  {
   "cell_type": "code",
   "execution_count": null,
   "metadata": {},
   "outputs": [],
   "source": []
  },
  {
   "cell_type": "code",
   "execution_count": null,
   "metadata": {},
   "outputs": [],
   "source": []
  },
  {
   "cell_type": "code",
   "execution_count": null,
   "metadata": {},
   "outputs": [],
   "source": []
  },
  {
   "cell_type": "code",
   "execution_count": null,
   "metadata": {},
   "outputs": [],
   "source": []
  },
  {
   "cell_type": "code",
   "execution_count": null,
   "metadata": {},
   "outputs": [],
   "source": []
  }
 ],
 "metadata": {
  "kernelspec": {
   "display_name": "Python 3.6.10 64-bit ('condaenv': conda)",
   "language": "python",
   "name": "python361064bitcondaenvcondae2c8b3d5d6b2492295ed8b47a3d3ac9f"
  },
  "language_info": {
   "codemirror_mode": {
    "name": "ipython",
    "version": 3
   },
   "file_extension": ".py",
   "mimetype": "text/x-python",
   "name": "python",
   "nbconvert_exporter": "python",
   "pygments_lexer": "ipython3",
   "version": "3.6.10"
  }
 },
 "nbformat": 4,
 "nbformat_minor": 4
}
